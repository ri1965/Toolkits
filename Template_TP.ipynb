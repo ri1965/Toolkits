{
  "nbformat": 4,
  "nbformat_minor": 0,
  "metadata": {
    "colab": {
      "name": "Template_TP.ipynb",
      "provenance": [],
      "collapsed_sections": [],
      "include_colab_link": true
    },
    "kernelspec": {
      "name": "python3",
      "display_name": "Python 3"
    },
    "language_info": {
      "name": "python"
    }
  },
  "cells": [
    {
      "cell_type": "markdown",
      "metadata": {
        "id": "view-in-github",
        "colab_type": "text"
      },
      "source": [
        "<a href=\"https://colab.research.google.com/github/ri1965/Toolkits/blob/main/Template_TP.ipynb\" target=\"_parent\"><img src=\"https://colab.research.google.com/assets/colab-badge.svg\" alt=\"Open In Colab\"/></a>"
      ]
    },
    {
      "cell_type": "markdown",
      "metadata": {
        "id": "0ZBHM9KbFmxq"
      },
      "source": [
        "# Consigna\n",
        "\n",
        "El ministerio de salud de la nación les solicita realizar un programa que les permita visualizar el estado de ciudadanos infectados con COVID-19 en todas sus variantes en un rango de fecha determinado y comparar esos resultados con los niveles de vacunación.\n",
        "A su vez, se les solicita que realicen una compración con otro(s) país(es). (Seleccionar como máximo 2 adicionales)\n",
        "\n",
        "Para ello, un analista le provee los siguientes archivos.\n",
        "\n",
        "[Vacunación Global](https://raw.githubusercontent.com/al34n1x/DataScience/master/100.Examen/2022/country_vaccinations.csv)\n",
        "\n",
        "[Casos COVID Global](https://raw.githubusercontent.com/al34n1x/DataScience/master/100.Examen/2022/owid-covid-data.csv)\n",
        "\n",
        "\n",
        "Consideraciones:\n",
        "\n",
        "* Rango de Fechas desde 01/01/2021 a 15/01/2021\n",
        "* Importar los archivos y trabajarlos como diccionarios o dataframes. El caracter delimitador de los archivos es el **';'**\n",
        "* Realizar al menos 4 charts que representen la información solicitada\n",
        "* Utilizar funciones\n",
        "* Generar un archivo que posea la siguiente estructura de datos dscriminado por el rango de fechas.\n",
        "```\n",
        "ID:{\n",
        "'país':value,\n",
        "'fecha':value,\n",
        "'nuevos_casos':value,\n",
        "'nuevas_muertes':value,\n",
        "'total_vacunados':value\n",
        "}\n",
        "```\n",
        "* Documentar cada paso con bloques de texto adicionalmente a notas en el código\n",
        "* Presentar por pantalla el total acumulado de infectados y de vacunados en el rango de fechas solicitado\n",
        "* Proveer una breve conclusión como parte del análisis \n",
        "\n",
        "\n",
        "\n"
      ]
    },
    {
      "cell_type": "markdown",
      "source": [
        "---\n"
      ],
      "metadata": {
        "id": "3ti1yO9zlVpI"
      }
    },
    {
      "cell_type": "markdown",
      "source": [
        "# Paso 1: Carga de datos"
      ],
      "metadata": {
        "id": "aQneOoJ_krvJ"
      }
    },
    {
      "cell_type": "markdown",
      "source": [
        "#### a. Importamos las librerías y los datos de las url aportadas en las consignas del TP "
      ],
      "metadata": {
        "id": "u6kTbUilHkQc"
      }
    },
    {
      "cell_type": "code",
      "source": [
        "# Ingrese código aquí\n",
        "import pandas as pd\n",
        "import numpy as np\n",
        "import matplotlib.pyplot as plt\n",
        "\n",
        "url_vacunacion = 'https://raw.githubusercontent.com/al34n1x/DataScience/master/100.Examen/2022/country_vaccinations.csv'\n",
        "url_casos = 'https://raw.githubusercontent.com/al34n1x/DataScience/master/100.Examen/2022/owid-covid-data.csv'\n",
        "\n",
        "vacunacion = pd.read_csv(url_vacunacion, sep=';', parse_dates=['date'])   # usamos parse_date=['date'] para importar ese campo co formato fecha\n",
        "casos = pd.read_csv(url_casos, sep=',',parse_dates=['date'])              # usamos parse_date=['date'] para importar ese campo co formato fecha"
      ],
      "metadata": {
        "id": "_J96onT_lCw9"
      },
      "execution_count": 1,
      "outputs": []
    },
    {
      "cell_type": "markdown",
      "source": [
        "#### b. Visualización de los datos con el método `head()`"
      ],
      "metadata": {
        "id": "SDxfEdnUH6XG"
      }
    },
    {
      "cell_type": "code",
      "source": [
        "vacunacion.head()"
      ],
      "metadata": {
        "colab": {
          "base_uri": "https://localhost:8080/",
          "height": 206
        },
        "id": "ndOVnSbSHzSx",
        "outputId": "590bb37d-e447-4bd3-d225-c75c41e9853e"
      },
      "execution_count": 2,
      "outputs": [
        {
          "output_type": "execute_result",
          "data": {
            "text/plain": [
              "  iso_code       date  daily_vaccinations\n",
              "0      AFG 2021-02-22                 NaN\n",
              "1      AFG 2021-02-23              1367.0\n",
              "2      AFG 2021-02-24              1367.0\n",
              "3      AFG 2021-02-25              1367.0\n",
              "4      AFG 2021-02-26              1367.0"
            ],
            "text/html": [
              "\n",
              "  <div id=\"df-58762950-a6b6-47b3-b86d-4979b07bd98c\">\n",
              "    <div class=\"colab-df-container\">\n",
              "      <div>\n",
              "<style scoped>\n",
              "    .dataframe tbody tr th:only-of-type {\n",
              "        vertical-align: middle;\n",
              "    }\n",
              "\n",
              "    .dataframe tbody tr th {\n",
              "        vertical-align: top;\n",
              "    }\n",
              "\n",
              "    .dataframe thead th {\n",
              "        text-align: right;\n",
              "    }\n",
              "</style>\n",
              "<table border=\"1\" class=\"dataframe\">\n",
              "  <thead>\n",
              "    <tr style=\"text-align: right;\">\n",
              "      <th></th>\n",
              "      <th>iso_code</th>\n",
              "      <th>date</th>\n",
              "      <th>daily_vaccinations</th>\n",
              "    </tr>\n",
              "  </thead>\n",
              "  <tbody>\n",
              "    <tr>\n",
              "      <th>0</th>\n",
              "      <td>AFG</td>\n",
              "      <td>2021-02-22</td>\n",
              "      <td>NaN</td>\n",
              "    </tr>\n",
              "    <tr>\n",
              "      <th>1</th>\n",
              "      <td>AFG</td>\n",
              "      <td>2021-02-23</td>\n",
              "      <td>1367.0</td>\n",
              "    </tr>\n",
              "    <tr>\n",
              "      <th>2</th>\n",
              "      <td>AFG</td>\n",
              "      <td>2021-02-24</td>\n",
              "      <td>1367.0</td>\n",
              "    </tr>\n",
              "    <tr>\n",
              "      <th>3</th>\n",
              "      <td>AFG</td>\n",
              "      <td>2021-02-25</td>\n",
              "      <td>1367.0</td>\n",
              "    </tr>\n",
              "    <tr>\n",
              "      <th>4</th>\n",
              "      <td>AFG</td>\n",
              "      <td>2021-02-26</td>\n",
              "      <td>1367.0</td>\n",
              "    </tr>\n",
              "  </tbody>\n",
              "</table>\n",
              "</div>\n",
              "      <button class=\"colab-df-convert\" onclick=\"convertToInteractive('df-58762950-a6b6-47b3-b86d-4979b07bd98c')\"\n",
              "              title=\"Convert this dataframe to an interactive table.\"\n",
              "              style=\"display:none;\">\n",
              "        \n",
              "  <svg xmlns=\"http://www.w3.org/2000/svg\" height=\"24px\"viewBox=\"0 0 24 24\"\n",
              "       width=\"24px\">\n",
              "    <path d=\"M0 0h24v24H0V0z\" fill=\"none\"/>\n",
              "    <path d=\"M18.56 5.44l.94 2.06.94-2.06 2.06-.94-2.06-.94-.94-2.06-.94 2.06-2.06.94zm-11 1L8.5 8.5l.94-2.06 2.06-.94-2.06-.94L8.5 2.5l-.94 2.06-2.06.94zm10 10l.94 2.06.94-2.06 2.06-.94-2.06-.94-.94-2.06-.94 2.06-2.06.94z\"/><path d=\"M17.41 7.96l-1.37-1.37c-.4-.4-.92-.59-1.43-.59-.52 0-1.04.2-1.43.59L10.3 9.45l-7.72 7.72c-.78.78-.78 2.05 0 2.83L4 21.41c.39.39.9.59 1.41.59.51 0 1.02-.2 1.41-.59l7.78-7.78 2.81-2.81c.8-.78.8-2.07 0-2.86zM5.41 20L4 18.59l7.72-7.72 1.47 1.35L5.41 20z\"/>\n",
              "  </svg>\n",
              "      </button>\n",
              "      \n",
              "  <style>\n",
              "    .colab-df-container {\n",
              "      display:flex;\n",
              "      flex-wrap:wrap;\n",
              "      gap: 12px;\n",
              "    }\n",
              "\n",
              "    .colab-df-convert {\n",
              "      background-color: #E8F0FE;\n",
              "      border: none;\n",
              "      border-radius: 50%;\n",
              "      cursor: pointer;\n",
              "      display: none;\n",
              "      fill: #1967D2;\n",
              "      height: 32px;\n",
              "      padding: 0 0 0 0;\n",
              "      width: 32px;\n",
              "    }\n",
              "\n",
              "    .colab-df-convert:hover {\n",
              "      background-color: #E2EBFA;\n",
              "      box-shadow: 0px 1px 2px rgba(60, 64, 67, 0.3), 0px 1px 3px 1px rgba(60, 64, 67, 0.15);\n",
              "      fill: #174EA6;\n",
              "    }\n",
              "\n",
              "    [theme=dark] .colab-df-convert {\n",
              "      background-color: #3B4455;\n",
              "      fill: #D2E3FC;\n",
              "    }\n",
              "\n",
              "    [theme=dark] .colab-df-convert:hover {\n",
              "      background-color: #434B5C;\n",
              "      box-shadow: 0px 1px 3px 1px rgba(0, 0, 0, 0.15);\n",
              "      filter: drop-shadow(0px 1px 2px rgba(0, 0, 0, 0.3));\n",
              "      fill: #FFFFFF;\n",
              "    }\n",
              "  </style>\n",
              "\n",
              "      <script>\n",
              "        const buttonEl =\n",
              "          document.querySelector('#df-58762950-a6b6-47b3-b86d-4979b07bd98c button.colab-df-convert');\n",
              "        buttonEl.style.display =\n",
              "          google.colab.kernel.accessAllowed ? 'block' : 'none';\n",
              "\n",
              "        async function convertToInteractive(key) {\n",
              "          const element = document.querySelector('#df-58762950-a6b6-47b3-b86d-4979b07bd98c');\n",
              "          const dataTable =\n",
              "            await google.colab.kernel.invokeFunction('convertToInteractive',\n",
              "                                                     [key], {});\n",
              "          if (!dataTable) return;\n",
              "\n",
              "          const docLinkHtml = 'Like what you see? Visit the ' +\n",
              "            '<a target=\"_blank\" href=https://colab.research.google.com/notebooks/data_table.ipynb>data table notebook</a>'\n",
              "            + ' to learn more about interactive tables.';\n",
              "          element.innerHTML = '';\n",
              "          dataTable['output_type'] = 'display_data';\n",
              "          await google.colab.output.renderOutput(dataTable, element);\n",
              "          const docLink = document.createElement('div');\n",
              "          docLink.innerHTML = docLinkHtml;\n",
              "          element.appendChild(docLink);\n",
              "        }\n",
              "      </script>\n",
              "    </div>\n",
              "  </div>\n",
              "  "
            ]
          },
          "metadata": {},
          "execution_count": 2
        }
      ]
    },
    {
      "cell_type": "code",
      "source": [
        "casos.date.head()"
      ],
      "metadata": {
        "id": "ymvMQNyvU1Ne",
        "colab": {
          "base_uri": "https://localhost:8080/"
        },
        "outputId": "af7dd65c-7841-4bba-a360-1355fe49ff54"
      },
      "execution_count": 3,
      "outputs": [
        {
          "output_type": "execute_result",
          "data": {
            "text/plain": [
              "0   2020-02-24\n",
              "1   2020-02-25\n",
              "2   2020-02-26\n",
              "3   2020-02-27\n",
              "4   2020-02-28\n",
              "Name: date, dtype: datetime64[ns]"
            ]
          },
          "metadata": {},
          "execution_count": 3
        }
      ]
    },
    {
      "cell_type": "markdown",
      "source": [
        "c.  Listado de columnas con el método `info()` para luego seleccionar qué columnas se van a utilizar"
      ],
      "metadata": {
        "id": "H8h8eggRBQP6"
      }
    },
    {
      "cell_type": "code",
      "source": [
        "casos.info()"
      ],
      "metadata": {
        "id": "Fn62t3AHOcLI",
        "colab": {
          "base_uri": "https://localhost:8080/"
        },
        "outputId": "a3e3b2b0-b0ce-4a8f-81ce-88a2a7480715"
      },
      "execution_count": 4,
      "outputs": [
        {
          "output_type": "stream",
          "name": "stdout",
          "text": [
            "<class 'pandas.core.frame.DataFrame'>\n",
            "RangeIndex: 182181 entries, 0 to 182180\n",
            "Data columns (total 67 columns):\n",
            " #   Column                                      Non-Null Count   Dtype         \n",
            "---  ------                                      --------------   -----         \n",
            " 0   iso_code                                    182181 non-null  object        \n",
            " 1   continent                                   171536 non-null  object        \n",
            " 2   location                                    182181 non-null  object        \n",
            " 3   date                                        182181 non-null  datetime64[ns]\n",
            " 4   total_cases                                 175377 non-null  float64       \n",
            " 5   new_cases                                   175185 non-null  float64       \n",
            " 6   new_cases_smoothed                          174016 non-null  float64       \n",
            " 7   total_deaths                                157135 non-null  float64       \n",
            " 8   new_deaths                                  157153 non-null  float64       \n",
            " 9   new_deaths_smoothed                         156003 non-null  float64       \n",
            " 10  total_cases_per_million                     174566 non-null  float64       \n",
            " 11  new_cases_per_million                       174374 non-null  float64       \n",
            " 12  new_cases_smoothed_per_million              173210 non-null  float64       \n",
            " 13  total_deaths_per_million                    156337 non-null  float64       \n",
            " 14  new_deaths_per_million                      156355 non-null  float64       \n",
            " 15  new_deaths_smoothed_per_million             155210 non-null  float64       \n",
            " 16  reproduction_rate                           135746 non-null  float64       \n",
            " 17  icu_patients                                24943 non-null   float64       \n",
            " 18  icu_patients_per_million                    24943 non-null   float64       \n",
            " 19  hosp_patients                               25639 non-null   float64       \n",
            " 20  hosp_patients_per_million                   25639 non-null   float64       \n",
            " 21  weekly_icu_admissions                       5878 non-null    float64       \n",
            " 22  weekly_icu_admissions_per_million           5878 non-null    float64       \n",
            " 23  weekly_hosp_admissions                      11787 non-null   float64       \n",
            " 24  weekly_hosp_admissions_per_million          11787 non-null   float64       \n",
            " 25  total_tests                                 74896 non-null   float64       \n",
            " 26  new_tests                                   72185 non-null   float64       \n",
            " 27  total_tests_per_thousand                    74896 non-null   float64       \n",
            " 28  new_tests_per_thousand                      72185 non-null   float64       \n",
            " 29  new_tests_smoothed                          94698 non-null   float64       \n",
            " 30  new_tests_smoothed_per_thousand             94698 non-null   float64       \n",
            " 31  positive_rate                               91348 non-null   float64       \n",
            " 32  tests_per_case                              90085 non-null   float64       \n",
            " 33  tests_units                                 97417 non-null   object        \n",
            " 34  total_vaccinations                          49513 non-null   float64       \n",
            " 35  people_vaccinated                           47089 non-null   float64       \n",
            " 36  people_fully_vaccinated                     44565 non-null   float64       \n",
            " 37  total_boosters                              22145 non-null   float64       \n",
            " 38  new_vaccinations                            40698 non-null   float64       \n",
            " 39  new_vaccinations_smoothed                   95480 non-null   float64       \n",
            " 40  total_vaccinations_per_hundred              49513 non-null   float64       \n",
            " 41  people_vaccinated_per_hundred               47089 non-null   float64       \n",
            " 42  people_fully_vaccinated_per_hundred         44565 non-null   float64       \n",
            " 43  total_boosters_per_hundred                  22145 non-null   float64       \n",
            " 44  new_vaccinations_smoothed_per_million       95480 non-null   float64       \n",
            " 45  new_people_vaccinated_smoothed              94429 non-null   float64       \n",
            " 46  new_people_vaccinated_smoothed_per_hundred  94429 non-null   float64       \n",
            " 47  stringency_index                            142310 non-null  float64       \n",
            " 48  population                                  181053 non-null  float64       \n",
            " 49  population_density                          162295 non-null  float64       \n",
            " 50  median_age                                  150397 non-null  float64       \n",
            " 51  aged_65_older                               148796 non-null  float64       \n",
            " 52  aged_70_older                               149605 non-null  float64       \n",
            " 53  gdp_per_capita                              150043 non-null  float64       \n",
            " 54  extreme_poverty                             98000 non-null   float64       \n",
            " 55  cardiovasc_death_rate                       150074 non-null  float64       \n",
            " 56  diabetes_prevalence                         157413 non-null  float64       \n",
            " 57  female_smokers                              113866 non-null  float64       \n",
            " 58  male_smokers                                112305 non-null  float64       \n",
            " 59  handwashing_facilities                      73962 non-null   float64       \n",
            " 60  hospital_beds_per_thousand                  133115 non-null  float64       \n",
            " 61  life_expectancy                             170328 non-null  float64       \n",
            " 62  human_development_index                     146628 non-null  float64       \n",
            " 63  excess_mortality_cumulative_absolute        6317 non-null    float64       \n",
            " 64  excess_mortality_cumulative                 6317 non-null    float64       \n",
            " 65  excess_mortality                            6317 non-null    float64       \n",
            " 66  excess_mortality_cumulative_per_million     6317 non-null    float64       \n",
            "dtypes: datetime64[ns](1), float64(62), object(4)\n",
            "memory usage: 93.1+ MB\n"
          ]
        }
      ]
    },
    {
      "cell_type": "markdown",
      "source": [
        "---"
      ],
      "metadata": {
        "id": "kpAxL-oM-6rZ"
      }
    },
    {
      "cell_type": "markdown",
      "source": [
        "# Paso 2: Armado de la muestra final\n",
        "\n",
        "#### a. Unión de los dos df en uno \n",
        "\n",
        "Usamos el método`.merge()` y el parámetro `how` lo definimos  a la izquierda porque el df de casos es el que tiene la mayor cantidad de registros.\n"
      ],
      "metadata": {
        "id": "SzAIToQjktGr"
      }
    },
    {
      "cell_type": "code",
      "source": [
        "df_casos_vacunacion = casos.merge(vacunacion, on=['iso_code','date'], how='left')\n",
        "print(len(df_casos_vacunacion))\n",
        "df_casos_vacunacion.head()              # Vemos la cantidad de filas originales"
      ],
      "metadata": {
        "id": "NDoCR6EgC6cb",
        "colab": {
          "base_uri": "https://localhost:8080/",
          "height": 404
        },
        "outputId": "3063cf31-5831-4605-fc62-5ceb402ca415"
      },
      "execution_count": 5,
      "outputs": [
        {
          "output_type": "stream",
          "name": "stdout",
          "text": [
            "182181\n"
          ]
        },
        {
          "output_type": "execute_result",
          "data": {
            "text/plain": [
              "  iso_code continent     location       date  total_cases  new_cases  \\\n",
              "0      AFG      Asia  Afghanistan 2020-02-24          5.0        5.0   \n",
              "1      AFG      Asia  Afghanistan 2020-02-25          5.0        0.0   \n",
              "2      AFG      Asia  Afghanistan 2020-02-26          5.0        0.0   \n",
              "3      AFG      Asia  Afghanistan 2020-02-27          5.0        0.0   \n",
              "4      AFG      Asia  Afghanistan 2020-02-28          5.0        0.0   \n",
              "\n",
              "   new_cases_smoothed  total_deaths  new_deaths  new_deaths_smoothed  ...  \\\n",
              "0                 NaN           NaN         NaN                  NaN  ...   \n",
              "1                 NaN           NaN         NaN                  NaN  ...   \n",
              "2                 NaN           NaN         NaN                  NaN  ...   \n",
              "3                 NaN           NaN         NaN                  NaN  ...   \n",
              "4                 NaN           NaN         NaN                  NaN  ...   \n",
              "\n",
              "   male_smokers  handwashing_facilities  hospital_beds_per_thousand  \\\n",
              "0           NaN                  37.746                         0.5   \n",
              "1           NaN                  37.746                         0.5   \n",
              "2           NaN                  37.746                         0.5   \n",
              "3           NaN                  37.746                         0.5   \n",
              "4           NaN                  37.746                         0.5   \n",
              "\n",
              "   life_expectancy  human_development_index  \\\n",
              "0            64.83                    0.511   \n",
              "1            64.83                    0.511   \n",
              "2            64.83                    0.511   \n",
              "3            64.83                    0.511   \n",
              "4            64.83                    0.511   \n",
              "\n",
              "   excess_mortality_cumulative_absolute  excess_mortality_cumulative  \\\n",
              "0                                   NaN                          NaN   \n",
              "1                                   NaN                          NaN   \n",
              "2                                   NaN                          NaN   \n",
              "3                                   NaN                          NaN   \n",
              "4                                   NaN                          NaN   \n",
              "\n",
              "   excess_mortality  excess_mortality_cumulative_per_million  \\\n",
              "0               NaN                                      NaN   \n",
              "1               NaN                                      NaN   \n",
              "2               NaN                                      NaN   \n",
              "3               NaN                                      NaN   \n",
              "4               NaN                                      NaN   \n",
              "\n",
              "   daily_vaccinations  \n",
              "0                 NaN  \n",
              "1                 NaN  \n",
              "2                 NaN  \n",
              "3                 NaN  \n",
              "4                 NaN  \n",
              "\n",
              "[5 rows x 68 columns]"
            ],
            "text/html": [
              "\n",
              "  <div id=\"df-56bcea2d-ece2-4145-b0b3-cb9020e9c3c5\">\n",
              "    <div class=\"colab-df-container\">\n",
              "      <div>\n",
              "<style scoped>\n",
              "    .dataframe tbody tr th:only-of-type {\n",
              "        vertical-align: middle;\n",
              "    }\n",
              "\n",
              "    .dataframe tbody tr th {\n",
              "        vertical-align: top;\n",
              "    }\n",
              "\n",
              "    .dataframe thead th {\n",
              "        text-align: right;\n",
              "    }\n",
              "</style>\n",
              "<table border=\"1\" class=\"dataframe\">\n",
              "  <thead>\n",
              "    <tr style=\"text-align: right;\">\n",
              "      <th></th>\n",
              "      <th>iso_code</th>\n",
              "      <th>continent</th>\n",
              "      <th>location</th>\n",
              "      <th>date</th>\n",
              "      <th>total_cases</th>\n",
              "      <th>new_cases</th>\n",
              "      <th>new_cases_smoothed</th>\n",
              "      <th>total_deaths</th>\n",
              "      <th>new_deaths</th>\n",
              "      <th>new_deaths_smoothed</th>\n",
              "      <th>...</th>\n",
              "      <th>male_smokers</th>\n",
              "      <th>handwashing_facilities</th>\n",
              "      <th>hospital_beds_per_thousand</th>\n",
              "      <th>life_expectancy</th>\n",
              "      <th>human_development_index</th>\n",
              "      <th>excess_mortality_cumulative_absolute</th>\n",
              "      <th>excess_mortality_cumulative</th>\n",
              "      <th>excess_mortality</th>\n",
              "      <th>excess_mortality_cumulative_per_million</th>\n",
              "      <th>daily_vaccinations</th>\n",
              "    </tr>\n",
              "  </thead>\n",
              "  <tbody>\n",
              "    <tr>\n",
              "      <th>0</th>\n",
              "      <td>AFG</td>\n",
              "      <td>Asia</td>\n",
              "      <td>Afghanistan</td>\n",
              "      <td>2020-02-24</td>\n",
              "      <td>5.0</td>\n",
              "      <td>5.0</td>\n",
              "      <td>NaN</td>\n",
              "      <td>NaN</td>\n",
              "      <td>NaN</td>\n",
              "      <td>NaN</td>\n",
              "      <td>...</td>\n",
              "      <td>NaN</td>\n",
              "      <td>37.746</td>\n",
              "      <td>0.5</td>\n",
              "      <td>64.83</td>\n",
              "      <td>0.511</td>\n",
              "      <td>NaN</td>\n",
              "      <td>NaN</td>\n",
              "      <td>NaN</td>\n",
              "      <td>NaN</td>\n",
              "      <td>NaN</td>\n",
              "    </tr>\n",
              "    <tr>\n",
              "      <th>1</th>\n",
              "      <td>AFG</td>\n",
              "      <td>Asia</td>\n",
              "      <td>Afghanistan</td>\n",
              "      <td>2020-02-25</td>\n",
              "      <td>5.0</td>\n",
              "      <td>0.0</td>\n",
              "      <td>NaN</td>\n",
              "      <td>NaN</td>\n",
              "      <td>NaN</td>\n",
              "      <td>NaN</td>\n",
              "      <td>...</td>\n",
              "      <td>NaN</td>\n",
              "      <td>37.746</td>\n",
              "      <td>0.5</td>\n",
              "      <td>64.83</td>\n",
              "      <td>0.511</td>\n",
              "      <td>NaN</td>\n",
              "      <td>NaN</td>\n",
              "      <td>NaN</td>\n",
              "      <td>NaN</td>\n",
              "      <td>NaN</td>\n",
              "    </tr>\n",
              "    <tr>\n",
              "      <th>2</th>\n",
              "      <td>AFG</td>\n",
              "      <td>Asia</td>\n",
              "      <td>Afghanistan</td>\n",
              "      <td>2020-02-26</td>\n",
              "      <td>5.0</td>\n",
              "      <td>0.0</td>\n",
              "      <td>NaN</td>\n",
              "      <td>NaN</td>\n",
              "      <td>NaN</td>\n",
              "      <td>NaN</td>\n",
              "      <td>...</td>\n",
              "      <td>NaN</td>\n",
              "      <td>37.746</td>\n",
              "      <td>0.5</td>\n",
              "      <td>64.83</td>\n",
              "      <td>0.511</td>\n",
              "      <td>NaN</td>\n",
              "      <td>NaN</td>\n",
              "      <td>NaN</td>\n",
              "      <td>NaN</td>\n",
              "      <td>NaN</td>\n",
              "    </tr>\n",
              "    <tr>\n",
              "      <th>3</th>\n",
              "      <td>AFG</td>\n",
              "      <td>Asia</td>\n",
              "      <td>Afghanistan</td>\n",
              "      <td>2020-02-27</td>\n",
              "      <td>5.0</td>\n",
              "      <td>0.0</td>\n",
              "      <td>NaN</td>\n",
              "      <td>NaN</td>\n",
              "      <td>NaN</td>\n",
              "      <td>NaN</td>\n",
              "      <td>...</td>\n",
              "      <td>NaN</td>\n",
              "      <td>37.746</td>\n",
              "      <td>0.5</td>\n",
              "      <td>64.83</td>\n",
              "      <td>0.511</td>\n",
              "      <td>NaN</td>\n",
              "      <td>NaN</td>\n",
              "      <td>NaN</td>\n",
              "      <td>NaN</td>\n",
              "      <td>NaN</td>\n",
              "    </tr>\n",
              "    <tr>\n",
              "      <th>4</th>\n",
              "      <td>AFG</td>\n",
              "      <td>Asia</td>\n",
              "      <td>Afghanistan</td>\n",
              "      <td>2020-02-28</td>\n",
              "      <td>5.0</td>\n",
              "      <td>0.0</td>\n",
              "      <td>NaN</td>\n",
              "      <td>NaN</td>\n",
              "      <td>NaN</td>\n",
              "      <td>NaN</td>\n",
              "      <td>...</td>\n",
              "      <td>NaN</td>\n",
              "      <td>37.746</td>\n",
              "      <td>0.5</td>\n",
              "      <td>64.83</td>\n",
              "      <td>0.511</td>\n",
              "      <td>NaN</td>\n",
              "      <td>NaN</td>\n",
              "      <td>NaN</td>\n",
              "      <td>NaN</td>\n",
              "      <td>NaN</td>\n",
              "    </tr>\n",
              "  </tbody>\n",
              "</table>\n",
              "<p>5 rows × 68 columns</p>\n",
              "</div>\n",
              "      <button class=\"colab-df-convert\" onclick=\"convertToInteractive('df-56bcea2d-ece2-4145-b0b3-cb9020e9c3c5')\"\n",
              "              title=\"Convert this dataframe to an interactive table.\"\n",
              "              style=\"display:none;\">\n",
              "        \n",
              "  <svg xmlns=\"http://www.w3.org/2000/svg\" height=\"24px\"viewBox=\"0 0 24 24\"\n",
              "       width=\"24px\">\n",
              "    <path d=\"M0 0h24v24H0V0z\" fill=\"none\"/>\n",
              "    <path d=\"M18.56 5.44l.94 2.06.94-2.06 2.06-.94-2.06-.94-.94-2.06-.94 2.06-2.06.94zm-11 1L8.5 8.5l.94-2.06 2.06-.94-2.06-.94L8.5 2.5l-.94 2.06-2.06.94zm10 10l.94 2.06.94-2.06 2.06-.94-2.06-.94-.94-2.06-.94 2.06-2.06.94z\"/><path d=\"M17.41 7.96l-1.37-1.37c-.4-.4-.92-.59-1.43-.59-.52 0-1.04.2-1.43.59L10.3 9.45l-7.72 7.72c-.78.78-.78 2.05 0 2.83L4 21.41c.39.39.9.59 1.41.59.51 0 1.02-.2 1.41-.59l7.78-7.78 2.81-2.81c.8-.78.8-2.07 0-2.86zM5.41 20L4 18.59l7.72-7.72 1.47 1.35L5.41 20z\"/>\n",
              "  </svg>\n",
              "      </button>\n",
              "      \n",
              "  <style>\n",
              "    .colab-df-container {\n",
              "      display:flex;\n",
              "      flex-wrap:wrap;\n",
              "      gap: 12px;\n",
              "    }\n",
              "\n",
              "    .colab-df-convert {\n",
              "      background-color: #E8F0FE;\n",
              "      border: none;\n",
              "      border-radius: 50%;\n",
              "      cursor: pointer;\n",
              "      display: none;\n",
              "      fill: #1967D2;\n",
              "      height: 32px;\n",
              "      padding: 0 0 0 0;\n",
              "      width: 32px;\n",
              "    }\n",
              "\n",
              "    .colab-df-convert:hover {\n",
              "      background-color: #E2EBFA;\n",
              "      box-shadow: 0px 1px 2px rgba(60, 64, 67, 0.3), 0px 1px 3px 1px rgba(60, 64, 67, 0.15);\n",
              "      fill: #174EA6;\n",
              "    }\n",
              "\n",
              "    [theme=dark] .colab-df-convert {\n",
              "      background-color: #3B4455;\n",
              "      fill: #D2E3FC;\n",
              "    }\n",
              "\n",
              "    [theme=dark] .colab-df-convert:hover {\n",
              "      background-color: #434B5C;\n",
              "      box-shadow: 0px 1px 3px 1px rgba(0, 0, 0, 0.15);\n",
              "      filter: drop-shadow(0px 1px 2px rgba(0, 0, 0, 0.3));\n",
              "      fill: #FFFFFF;\n",
              "    }\n",
              "  </style>\n",
              "\n",
              "      <script>\n",
              "        const buttonEl =\n",
              "          document.querySelector('#df-56bcea2d-ece2-4145-b0b3-cb9020e9c3c5 button.colab-df-convert');\n",
              "        buttonEl.style.display =\n",
              "          google.colab.kernel.accessAllowed ? 'block' : 'none';\n",
              "\n",
              "        async function convertToInteractive(key) {\n",
              "          const element = document.querySelector('#df-56bcea2d-ece2-4145-b0b3-cb9020e9c3c5');\n",
              "          const dataTable =\n",
              "            await google.colab.kernel.invokeFunction('convertToInteractive',\n",
              "                                                     [key], {});\n",
              "          if (!dataTable) return;\n",
              "\n",
              "          const docLinkHtml = 'Like what you see? Visit the ' +\n",
              "            '<a target=\"_blank\" href=https://colab.research.google.com/notebooks/data_table.ipynb>data table notebook</a>'\n",
              "            + ' to learn more about interactive tables.';\n",
              "          element.innerHTML = '';\n",
              "          dataTable['output_type'] = 'display_data';\n",
              "          await google.colab.output.renderOutput(dataTable, element);\n",
              "          const docLink = document.createElement('div');\n",
              "          docLink.innerHTML = docLinkHtml;\n",
              "          element.appendChild(docLink);\n",
              "        }\n",
              "      </script>\n",
              "    </div>\n",
              "  </div>\n",
              "  "
            ]
          },
          "metadata": {},
          "execution_count": 5
        }
      ]
    },
    {
      "cell_type": "markdown",
      "source": [
        "#### b. Selección de las columnas con las que posteriormente trabajamos el df creado"
      ],
      "metadata": {
        "id": "2Sx1YPGJKXhM"
      }
    },
    {
      "cell_type": "code",
      "source": [
        "lista_col = ['iso_code', 'location', 'continent', 'date', 'total_cases', 'new_cases','new_deaths', 'icu_patients', 'hosp_patients', 'total_tests', 'new_tests', \n",
        "                         'total_vaccinations','people_vaccinated', 'people_fully_vaccinated', 'total_boosters', 'population', 'population_density', \n",
        "                         'median_age', 'aged_65_older', 'aged_70_older', 'life_expectancy' ]\n",
        "print(len(lista_col))\n",
        "df_casos_vacunacion = df_casos_vacunacion[lista_col]\n",
        "print(df_casos_vacunacion.shape)        # Vemos la forma de la matriz para ver el toal de columnas que quedaron\n",
        "df_casos_vacunacion.head()"
      ],
      "metadata": {
        "id": "wUV9xn9LlEIU",
        "colab": {
          "base_uri": "https://localhost:8080/",
          "height": 422
        },
        "outputId": "e6f42006-e941-4212-8a62-a5702ee08bb8"
      },
      "execution_count": 6,
      "outputs": [
        {
          "output_type": "stream",
          "name": "stdout",
          "text": [
            "21\n",
            "(182181, 21)\n"
          ]
        },
        {
          "output_type": "execute_result",
          "data": {
            "text/plain": [
              "  iso_code     location continent       date  total_cases  new_cases  \\\n",
              "0      AFG  Afghanistan      Asia 2020-02-24          5.0        5.0   \n",
              "1      AFG  Afghanistan      Asia 2020-02-25          5.0        0.0   \n",
              "2      AFG  Afghanistan      Asia 2020-02-26          5.0        0.0   \n",
              "3      AFG  Afghanistan      Asia 2020-02-27          5.0        0.0   \n",
              "4      AFG  Afghanistan      Asia 2020-02-28          5.0        0.0   \n",
              "\n",
              "   new_deaths  icu_patients  hosp_patients  total_tests  ...  \\\n",
              "0         NaN           NaN            NaN          NaN  ...   \n",
              "1         NaN           NaN            NaN          NaN  ...   \n",
              "2         NaN           NaN            NaN          NaN  ...   \n",
              "3         NaN           NaN            NaN          NaN  ...   \n",
              "4         NaN           NaN            NaN          NaN  ...   \n",
              "\n",
              "   total_vaccinations  people_vaccinated  people_fully_vaccinated  \\\n",
              "0                 NaN                NaN                      NaN   \n",
              "1                 NaN                NaN                      NaN   \n",
              "2                 NaN                NaN                      NaN   \n",
              "3                 NaN                NaN                      NaN   \n",
              "4                 NaN                NaN                      NaN   \n",
              "\n",
              "   total_boosters  population  population_density  median_age  aged_65_older  \\\n",
              "0             NaN  39835428.0              54.422        18.6          2.581   \n",
              "1             NaN  39835428.0              54.422        18.6          2.581   \n",
              "2             NaN  39835428.0              54.422        18.6          2.581   \n",
              "3             NaN  39835428.0              54.422        18.6          2.581   \n",
              "4             NaN  39835428.0              54.422        18.6          2.581   \n",
              "\n",
              "   aged_70_older  life_expectancy  \n",
              "0          1.337            64.83  \n",
              "1          1.337            64.83  \n",
              "2          1.337            64.83  \n",
              "3          1.337            64.83  \n",
              "4          1.337            64.83  \n",
              "\n",
              "[5 rows x 21 columns]"
            ],
            "text/html": [
              "\n",
              "  <div id=\"df-3d8c0531-6005-4d6a-9a52-a71ffc2f327e\">\n",
              "    <div class=\"colab-df-container\">\n",
              "      <div>\n",
              "<style scoped>\n",
              "    .dataframe tbody tr th:only-of-type {\n",
              "        vertical-align: middle;\n",
              "    }\n",
              "\n",
              "    .dataframe tbody tr th {\n",
              "        vertical-align: top;\n",
              "    }\n",
              "\n",
              "    .dataframe thead th {\n",
              "        text-align: right;\n",
              "    }\n",
              "</style>\n",
              "<table border=\"1\" class=\"dataframe\">\n",
              "  <thead>\n",
              "    <tr style=\"text-align: right;\">\n",
              "      <th></th>\n",
              "      <th>iso_code</th>\n",
              "      <th>location</th>\n",
              "      <th>continent</th>\n",
              "      <th>date</th>\n",
              "      <th>total_cases</th>\n",
              "      <th>new_cases</th>\n",
              "      <th>new_deaths</th>\n",
              "      <th>icu_patients</th>\n",
              "      <th>hosp_patients</th>\n",
              "      <th>total_tests</th>\n",
              "      <th>...</th>\n",
              "      <th>total_vaccinations</th>\n",
              "      <th>people_vaccinated</th>\n",
              "      <th>people_fully_vaccinated</th>\n",
              "      <th>total_boosters</th>\n",
              "      <th>population</th>\n",
              "      <th>population_density</th>\n",
              "      <th>median_age</th>\n",
              "      <th>aged_65_older</th>\n",
              "      <th>aged_70_older</th>\n",
              "      <th>life_expectancy</th>\n",
              "    </tr>\n",
              "  </thead>\n",
              "  <tbody>\n",
              "    <tr>\n",
              "      <th>0</th>\n",
              "      <td>AFG</td>\n",
              "      <td>Afghanistan</td>\n",
              "      <td>Asia</td>\n",
              "      <td>2020-02-24</td>\n",
              "      <td>5.0</td>\n",
              "      <td>5.0</td>\n",
              "      <td>NaN</td>\n",
              "      <td>NaN</td>\n",
              "      <td>NaN</td>\n",
              "      <td>NaN</td>\n",
              "      <td>...</td>\n",
              "      <td>NaN</td>\n",
              "      <td>NaN</td>\n",
              "      <td>NaN</td>\n",
              "      <td>NaN</td>\n",
              "      <td>39835428.0</td>\n",
              "      <td>54.422</td>\n",
              "      <td>18.6</td>\n",
              "      <td>2.581</td>\n",
              "      <td>1.337</td>\n",
              "      <td>64.83</td>\n",
              "    </tr>\n",
              "    <tr>\n",
              "      <th>1</th>\n",
              "      <td>AFG</td>\n",
              "      <td>Afghanistan</td>\n",
              "      <td>Asia</td>\n",
              "      <td>2020-02-25</td>\n",
              "      <td>5.0</td>\n",
              "      <td>0.0</td>\n",
              "      <td>NaN</td>\n",
              "      <td>NaN</td>\n",
              "      <td>NaN</td>\n",
              "      <td>NaN</td>\n",
              "      <td>...</td>\n",
              "      <td>NaN</td>\n",
              "      <td>NaN</td>\n",
              "      <td>NaN</td>\n",
              "      <td>NaN</td>\n",
              "      <td>39835428.0</td>\n",
              "      <td>54.422</td>\n",
              "      <td>18.6</td>\n",
              "      <td>2.581</td>\n",
              "      <td>1.337</td>\n",
              "      <td>64.83</td>\n",
              "    </tr>\n",
              "    <tr>\n",
              "      <th>2</th>\n",
              "      <td>AFG</td>\n",
              "      <td>Afghanistan</td>\n",
              "      <td>Asia</td>\n",
              "      <td>2020-02-26</td>\n",
              "      <td>5.0</td>\n",
              "      <td>0.0</td>\n",
              "      <td>NaN</td>\n",
              "      <td>NaN</td>\n",
              "      <td>NaN</td>\n",
              "      <td>NaN</td>\n",
              "      <td>...</td>\n",
              "      <td>NaN</td>\n",
              "      <td>NaN</td>\n",
              "      <td>NaN</td>\n",
              "      <td>NaN</td>\n",
              "      <td>39835428.0</td>\n",
              "      <td>54.422</td>\n",
              "      <td>18.6</td>\n",
              "      <td>2.581</td>\n",
              "      <td>1.337</td>\n",
              "      <td>64.83</td>\n",
              "    </tr>\n",
              "    <tr>\n",
              "      <th>3</th>\n",
              "      <td>AFG</td>\n",
              "      <td>Afghanistan</td>\n",
              "      <td>Asia</td>\n",
              "      <td>2020-02-27</td>\n",
              "      <td>5.0</td>\n",
              "      <td>0.0</td>\n",
              "      <td>NaN</td>\n",
              "      <td>NaN</td>\n",
              "      <td>NaN</td>\n",
              "      <td>NaN</td>\n",
              "      <td>...</td>\n",
              "      <td>NaN</td>\n",
              "      <td>NaN</td>\n",
              "      <td>NaN</td>\n",
              "      <td>NaN</td>\n",
              "      <td>39835428.0</td>\n",
              "      <td>54.422</td>\n",
              "      <td>18.6</td>\n",
              "      <td>2.581</td>\n",
              "      <td>1.337</td>\n",
              "      <td>64.83</td>\n",
              "    </tr>\n",
              "    <tr>\n",
              "      <th>4</th>\n",
              "      <td>AFG</td>\n",
              "      <td>Afghanistan</td>\n",
              "      <td>Asia</td>\n",
              "      <td>2020-02-28</td>\n",
              "      <td>5.0</td>\n",
              "      <td>0.0</td>\n",
              "      <td>NaN</td>\n",
              "      <td>NaN</td>\n",
              "      <td>NaN</td>\n",
              "      <td>NaN</td>\n",
              "      <td>...</td>\n",
              "      <td>NaN</td>\n",
              "      <td>NaN</td>\n",
              "      <td>NaN</td>\n",
              "      <td>NaN</td>\n",
              "      <td>39835428.0</td>\n",
              "      <td>54.422</td>\n",
              "      <td>18.6</td>\n",
              "      <td>2.581</td>\n",
              "      <td>1.337</td>\n",
              "      <td>64.83</td>\n",
              "    </tr>\n",
              "  </tbody>\n",
              "</table>\n",
              "<p>5 rows × 21 columns</p>\n",
              "</div>\n",
              "      <button class=\"colab-df-convert\" onclick=\"convertToInteractive('df-3d8c0531-6005-4d6a-9a52-a71ffc2f327e')\"\n",
              "              title=\"Convert this dataframe to an interactive table.\"\n",
              "              style=\"display:none;\">\n",
              "        \n",
              "  <svg xmlns=\"http://www.w3.org/2000/svg\" height=\"24px\"viewBox=\"0 0 24 24\"\n",
              "       width=\"24px\">\n",
              "    <path d=\"M0 0h24v24H0V0z\" fill=\"none\"/>\n",
              "    <path d=\"M18.56 5.44l.94 2.06.94-2.06 2.06-.94-2.06-.94-.94-2.06-.94 2.06-2.06.94zm-11 1L8.5 8.5l.94-2.06 2.06-.94-2.06-.94L8.5 2.5l-.94 2.06-2.06.94zm10 10l.94 2.06.94-2.06 2.06-.94-2.06-.94-.94-2.06-.94 2.06-2.06.94z\"/><path d=\"M17.41 7.96l-1.37-1.37c-.4-.4-.92-.59-1.43-.59-.52 0-1.04.2-1.43.59L10.3 9.45l-7.72 7.72c-.78.78-.78 2.05 0 2.83L4 21.41c.39.39.9.59 1.41.59.51 0 1.02-.2 1.41-.59l7.78-7.78 2.81-2.81c.8-.78.8-2.07 0-2.86zM5.41 20L4 18.59l7.72-7.72 1.47 1.35L5.41 20z\"/>\n",
              "  </svg>\n",
              "      </button>\n",
              "      \n",
              "  <style>\n",
              "    .colab-df-container {\n",
              "      display:flex;\n",
              "      flex-wrap:wrap;\n",
              "      gap: 12px;\n",
              "    }\n",
              "\n",
              "    .colab-df-convert {\n",
              "      background-color: #E8F0FE;\n",
              "      border: none;\n",
              "      border-radius: 50%;\n",
              "      cursor: pointer;\n",
              "      display: none;\n",
              "      fill: #1967D2;\n",
              "      height: 32px;\n",
              "      padding: 0 0 0 0;\n",
              "      width: 32px;\n",
              "    }\n",
              "\n",
              "    .colab-df-convert:hover {\n",
              "      background-color: #E2EBFA;\n",
              "      box-shadow: 0px 1px 2px rgba(60, 64, 67, 0.3), 0px 1px 3px 1px rgba(60, 64, 67, 0.15);\n",
              "      fill: #174EA6;\n",
              "    }\n",
              "\n",
              "    [theme=dark] .colab-df-convert {\n",
              "      background-color: #3B4455;\n",
              "      fill: #D2E3FC;\n",
              "    }\n",
              "\n",
              "    [theme=dark] .colab-df-convert:hover {\n",
              "      background-color: #434B5C;\n",
              "      box-shadow: 0px 1px 3px 1px rgba(0, 0, 0, 0.15);\n",
              "      filter: drop-shadow(0px 1px 2px rgba(0, 0, 0, 0.3));\n",
              "      fill: #FFFFFF;\n",
              "    }\n",
              "  </style>\n",
              "\n",
              "      <script>\n",
              "        const buttonEl =\n",
              "          document.querySelector('#df-3d8c0531-6005-4d6a-9a52-a71ffc2f327e button.colab-df-convert');\n",
              "        buttonEl.style.display =\n",
              "          google.colab.kernel.accessAllowed ? 'block' : 'none';\n",
              "\n",
              "        async function convertToInteractive(key) {\n",
              "          const element = document.querySelector('#df-3d8c0531-6005-4d6a-9a52-a71ffc2f327e');\n",
              "          const dataTable =\n",
              "            await google.colab.kernel.invokeFunction('convertToInteractive',\n",
              "                                                     [key], {});\n",
              "          if (!dataTable) return;\n",
              "\n",
              "          const docLinkHtml = 'Like what you see? Visit the ' +\n",
              "            '<a target=\"_blank\" href=https://colab.research.google.com/notebooks/data_table.ipynb>data table notebook</a>'\n",
              "            + ' to learn more about interactive tables.';\n",
              "          element.innerHTML = '';\n",
              "          dataTable['output_type'] = 'display_data';\n",
              "          await google.colab.output.renderOutput(dataTable, element);\n",
              "          const docLink = document.createElement('div');\n",
              "          docLink.innerHTML = docLinkHtml;\n",
              "          element.appendChild(docLink);\n",
              "        }\n",
              "      </script>\n",
              "    </div>\n",
              "  </div>\n",
              "  "
            ]
          },
          "metadata": {},
          "execution_count": 6
        }
      ]
    },
    {
      "cell_type": "markdown",
      "source": [
        "#### c. Filtrado de filas por consigna (rango de fechas)"
      ],
      "metadata": {
        "id": "Ok5FTnHaEiCe"
      }
    },
    {
      "cell_type": "code",
      "source": [
        "mask = (df_casos_vacunacion[\"date\"] <= '2021-01-15') & (df_casos_vacunacion[\"date\"] >= '2021-01-01')\n",
        "df_casos_vacunacion = df_casos_vacunacion[mask]\n",
        "len(df_casos_vacunacion)                # Vemos la cantidad de filas que quedaron"
      ],
      "metadata": {
        "id": "Hte0oMNdWqYV",
        "colab": {
          "base_uri": "https://localhost:8080/"
        },
        "outputId": "d10e6163-c262-4dd8-e76f-609562bd4a8d"
      },
      "execution_count": 7,
      "outputs": [
        {
          "output_type": "execute_result",
          "data": {
            "text/plain": [
              "3407"
            ]
          },
          "metadata": {},
          "execution_count": 7
        }
      ]
    },
    {
      "cell_type": "markdown",
      "source": [
        "#### d. Consigna: Seleccionamos los paises por su código `iso_code`\n",
        "\n",
        "Se tomaron a modo de ejemplo un país por continente europeo, africano y asiático, uno de america del norte y otro de latinoamerica."
      ],
      "metadata": {
        "id": "ZwaT0fVWMng8"
      }
    },
    {
      "cell_type": "code",
      "source": [
        "df_final = df_casos_vacunacion[(df_casos_vacunacion['iso_code'] == 'ARG') | (df_casos_vacunacion['iso_code'] == 'USA' ) | \n",
        "               (df_casos_vacunacion['iso_code'] == 'GBR') | (df_casos_vacunacion['iso_code'] == 'CHN')  | (df_casos_vacunacion['iso_code'] == 'ZAF')]\n",
        "\n",
        "df_final.shape"
      ],
      "metadata": {
        "id": "6z-nbh5TlDX9",
        "colab": {
          "base_uri": "https://localhost:8080/"
        },
        "outputId": "34d00261-0eae-4675-a710-577a2284ed01"
      },
      "execution_count": 8,
      "outputs": [
        {
          "output_type": "execute_result",
          "data": {
            "text/plain": [
              "(75, 21)"
            ]
          },
          "metadata": {},
          "execution_count": 8
        }
      ]
    },
    {
      "cell_type": "markdown",
      "source": [
        "---"
      ],
      "metadata": {
        "id": "Mcm9BHdk_KB3"
      }
    },
    {
      "cell_type": "markdown",
      "source": [
        "# Paso 3: Tranformación de Datos\n",
        "\n"
      ],
      "metadata": {
        "id": "1pNHTGlFJ6Sl"
      }
    },
    {
      "cell_type": "markdown",
      "source": [
        "#### a. Transformación de valores nulos"
      ],
      "metadata": {
        "id": "8vGXeSfSPyAT"
      }
    },
    {
      "cell_type": "code",
      "source": [
        "# Identificamos las columnas con NaN (lo vemos en el df-info())\n",
        "# icu_patients, hosp_patients, total_tests, new_tests, total_vaccinations, people_vaccinated, people_fully_vaccinated, total_boosters\n",
        "\n",
        "# Cambiamos NaN a 0\n",
        "df_final['icu_patients'].fillna(0) \n",
        "\n",
        "# Cambiamos NaN con el promedio lo usamos para el df_final\n",
        "df_final['icu_patients'] = df_final['icu_patients'].fillna(df_final['icu_patients'].mean()) \n",
        "df_final['hosp_patients'] = df_final['hosp_patients'].fillna(df_final['hosp_patients'].mean()) \n",
        "df_final['total_tests'] = df_final['total_tests'].fillna(df_final['total_tests'].mean()) \n",
        "df_final['new_tests'] = df_final['new_tests'].fillna(df_final['new_tests'].mean()) \n",
        "df_final['total_vaccinations'] = df_final['total_vaccinations'].fillna(df_final['total_vaccinations'].mean()) \n",
        "df_final['people_vaccinated'] = df_final['people_vaccinated'].fillna(df_final['people_vaccinated'].mean()) \n",
        "df_final['people_fully_vaccinated'] = df_final['people_fully_vaccinated'].fillna(df_final['people_fully_vaccinated'].mean()) \n",
        "df_final['total_boosters'] = df_final['total_boosters'].fillna(df_final['total_boosters'].mean()) "
      ],
      "metadata": {
        "id": "7Q8ahPy6LDFM",
        "colab": {
          "base_uri": "https://localhost:8080/"
        },
        "outputId": "c1e9b1b7-eacf-4692-f5f4-f90410aabce2"
      },
      "execution_count": 23,
      "outputs": [
        {
          "output_type": "stream",
          "name": "stderr",
          "text": [
            "/usr/local/lib/python3.7/dist-packages/ipykernel_launcher.py:8: SettingWithCopyWarning: \n",
            "A value is trying to be set on a copy of a slice from a DataFrame.\n",
            "Try using .loc[row_indexer,col_indexer] = value instead\n",
            "\n",
            "See the caveats in the documentation: https://pandas.pydata.org/pandas-docs/stable/user_guide/indexing.html#returning-a-view-versus-a-copy\n",
            "  \n",
            "/usr/local/lib/python3.7/dist-packages/ipykernel_launcher.py:9: SettingWithCopyWarning: \n",
            "A value is trying to be set on a copy of a slice from a DataFrame.\n",
            "Try using .loc[row_indexer,col_indexer] = value instead\n",
            "\n",
            "See the caveats in the documentation: https://pandas.pydata.org/pandas-docs/stable/user_guide/indexing.html#returning-a-view-versus-a-copy\n",
            "  if __name__ == '__main__':\n",
            "/usr/local/lib/python3.7/dist-packages/ipykernel_launcher.py:10: SettingWithCopyWarning: \n",
            "A value is trying to be set on a copy of a slice from a DataFrame.\n",
            "Try using .loc[row_indexer,col_indexer] = value instead\n",
            "\n",
            "See the caveats in the documentation: https://pandas.pydata.org/pandas-docs/stable/user_guide/indexing.html#returning-a-view-versus-a-copy\n",
            "  # Remove the CWD from sys.path while we load stuff.\n",
            "/usr/local/lib/python3.7/dist-packages/ipykernel_launcher.py:11: SettingWithCopyWarning: \n",
            "A value is trying to be set on a copy of a slice from a DataFrame.\n",
            "Try using .loc[row_indexer,col_indexer] = value instead\n",
            "\n",
            "See the caveats in the documentation: https://pandas.pydata.org/pandas-docs/stable/user_guide/indexing.html#returning-a-view-versus-a-copy\n",
            "  # This is added back by InteractiveShellApp.init_path()\n",
            "/usr/local/lib/python3.7/dist-packages/ipykernel_launcher.py:12: SettingWithCopyWarning: \n",
            "A value is trying to be set on a copy of a slice from a DataFrame.\n",
            "Try using .loc[row_indexer,col_indexer] = value instead\n",
            "\n",
            "See the caveats in the documentation: https://pandas.pydata.org/pandas-docs/stable/user_guide/indexing.html#returning-a-view-versus-a-copy\n",
            "  if sys.path[0] == '':\n",
            "/usr/local/lib/python3.7/dist-packages/ipykernel_launcher.py:13: SettingWithCopyWarning: \n",
            "A value is trying to be set on a copy of a slice from a DataFrame.\n",
            "Try using .loc[row_indexer,col_indexer] = value instead\n",
            "\n",
            "See the caveats in the documentation: https://pandas.pydata.org/pandas-docs/stable/user_guide/indexing.html#returning-a-view-versus-a-copy\n",
            "  del sys.path[0]\n",
            "/usr/local/lib/python3.7/dist-packages/ipykernel_launcher.py:14: SettingWithCopyWarning: \n",
            "A value is trying to be set on a copy of a slice from a DataFrame.\n",
            "Try using .loc[row_indexer,col_indexer] = value instead\n",
            "\n",
            "See the caveats in the documentation: https://pandas.pydata.org/pandas-docs/stable/user_guide/indexing.html#returning-a-view-versus-a-copy\n",
            "  \n",
            "/usr/local/lib/python3.7/dist-packages/ipykernel_launcher.py:15: SettingWithCopyWarning: \n",
            "A value is trying to be set on a copy of a slice from a DataFrame.\n",
            "Try using .loc[row_indexer,col_indexer] = value instead\n",
            "\n",
            "See the caveats in the documentation: https://pandas.pydata.org/pandas-docs/stable/user_guide/indexing.html#returning-a-view-versus-a-copy\n",
            "  from ipykernel import kernelapp as app\n"
          ]
        }
      ]
    },
    {
      "cell_type": "code",
      "source": [
        "df_final.info()"
      ],
      "metadata": {
        "id": "m5uj-tiwnLPC"
      },
      "execution_count": null,
      "outputs": []
    },
    {
      "cell_type": "markdown",
      "source": [
        "#### b. Cambiar el tipo de dato de una columna (`cast`)"
      ],
      "metadata": {
        "id": "sHBbroOGP9OZ"
      }
    },
    {
      "cell_type": "code",
      "source": [
        "df_final['icu_patients'] = df_final['icu_patients'].astype(int) \n",
        "df_final['hosp_patients'] = df_final['hosp_patients'].astype(int) \n",
        "df_final['total_tests'] = df_final['total_tests'].astype(int) \n",
        "df_final['new_tests'] = df_final['new_tests'].astype(int) \n",
        "df_final['total_vaccinations'] = df_final['total_vaccinations'].astype(int) \n",
        "df_final['people_vaccinated'] = df_final['people_vaccinated'].astype(int) \n",
        "df_final['people_fully_vaccinated'] = df_final['people_fully_vaccinated'].astype(int) \n",
        "df_final['total_boosters'] = df_final['total_boosters'].astype(int) "
      ],
      "metadata": {
        "id": "N-ofcBtyQJE5",
        "colab": {
          "base_uri": "https://localhost:8080/"
        },
        "outputId": "4acafea2-27d9-4e1a-a000-4b04a4c63ed9"
      },
      "execution_count": 10,
      "outputs": [
        {
          "output_type": "stream",
          "name": "stderr",
          "text": [
            "/usr/local/lib/python3.7/dist-packages/ipykernel_launcher.py:1: SettingWithCopyWarning: \n",
            "A value is trying to be set on a copy of a slice from a DataFrame.\n",
            "Try using .loc[row_indexer,col_indexer] = value instead\n",
            "\n",
            "See the caveats in the documentation: https://pandas.pydata.org/pandas-docs/stable/user_guide/indexing.html#returning-a-view-versus-a-copy\n",
            "  \"\"\"Entry point for launching an IPython kernel.\n",
            "/usr/local/lib/python3.7/dist-packages/ipykernel_launcher.py:2: SettingWithCopyWarning: \n",
            "A value is trying to be set on a copy of a slice from a DataFrame.\n",
            "Try using .loc[row_indexer,col_indexer] = value instead\n",
            "\n",
            "See the caveats in the documentation: https://pandas.pydata.org/pandas-docs/stable/user_guide/indexing.html#returning-a-view-versus-a-copy\n",
            "  \n",
            "/usr/local/lib/python3.7/dist-packages/ipykernel_launcher.py:3: SettingWithCopyWarning: \n",
            "A value is trying to be set on a copy of a slice from a DataFrame.\n",
            "Try using .loc[row_indexer,col_indexer] = value instead\n",
            "\n",
            "See the caveats in the documentation: https://pandas.pydata.org/pandas-docs/stable/user_guide/indexing.html#returning-a-view-versus-a-copy\n",
            "  This is separate from the ipykernel package so we can avoid doing imports until\n",
            "/usr/local/lib/python3.7/dist-packages/ipykernel_launcher.py:4: SettingWithCopyWarning: \n",
            "A value is trying to be set on a copy of a slice from a DataFrame.\n",
            "Try using .loc[row_indexer,col_indexer] = value instead\n",
            "\n",
            "See the caveats in the documentation: https://pandas.pydata.org/pandas-docs/stable/user_guide/indexing.html#returning-a-view-versus-a-copy\n",
            "  after removing the cwd from sys.path.\n",
            "/usr/local/lib/python3.7/dist-packages/ipykernel_launcher.py:5: SettingWithCopyWarning: \n",
            "A value is trying to be set on a copy of a slice from a DataFrame.\n",
            "Try using .loc[row_indexer,col_indexer] = value instead\n",
            "\n",
            "See the caveats in the documentation: https://pandas.pydata.org/pandas-docs/stable/user_guide/indexing.html#returning-a-view-versus-a-copy\n",
            "  \"\"\"\n",
            "/usr/local/lib/python3.7/dist-packages/ipykernel_launcher.py:6: SettingWithCopyWarning: \n",
            "A value is trying to be set on a copy of a slice from a DataFrame.\n",
            "Try using .loc[row_indexer,col_indexer] = value instead\n",
            "\n",
            "See the caveats in the documentation: https://pandas.pydata.org/pandas-docs/stable/user_guide/indexing.html#returning-a-view-versus-a-copy\n",
            "  \n",
            "/usr/local/lib/python3.7/dist-packages/ipykernel_launcher.py:7: SettingWithCopyWarning: \n",
            "A value is trying to be set on a copy of a slice from a DataFrame.\n",
            "Try using .loc[row_indexer,col_indexer] = value instead\n",
            "\n",
            "See the caveats in the documentation: https://pandas.pydata.org/pandas-docs/stable/user_guide/indexing.html#returning-a-view-versus-a-copy\n",
            "  import sys\n",
            "/usr/local/lib/python3.7/dist-packages/ipykernel_launcher.py:8: SettingWithCopyWarning: \n",
            "A value is trying to be set on a copy of a slice from a DataFrame.\n",
            "Try using .loc[row_indexer,col_indexer] = value instead\n",
            "\n",
            "See the caveats in the documentation: https://pandas.pydata.org/pandas-docs/stable/user_guide/indexing.html#returning-a-view-versus-a-copy\n",
            "  \n"
          ]
        }
      ]
    },
    {
      "cell_type": "markdown",
      "source": [
        "#### c. Crear o modificar el valor de una columna con un condicional sobre otra"
      ],
      "metadata": {
        "id": "71W8OE0VblIN"
      }
    },
    {
      "cell_type": "code",
      "source": [
        "df_final[\"result\"] = np.where(df_final[\"icu_patients\"] >  12000, 'True', 'False')\n",
        "df_final[['icu_patients', 'result']].head()"
      ],
      "metadata": {
        "id": "dQOUyW5KaQRL",
        "outputId": "09a2d804-5512-4fcd-c8b5-1c8b13c19941",
        "colab": {
          "base_uri": "https://localhost:8080/",
          "height": 250
        }
      },
      "execution_count": 25,
      "outputs": [
        {
          "output_type": "stream",
          "name": "stderr",
          "text": [
            "/usr/local/lib/python3.7/dist-packages/ipykernel_launcher.py:1: SettingWithCopyWarning: \n",
            "A value is trying to be set on a copy of a slice from a DataFrame.\n",
            "Try using .loc[row_indexer,col_indexer] = value instead\n",
            "\n",
            "See the caveats in the documentation: https://pandas.pydata.org/pandas-docs/stable/user_guide/indexing.html#returning-a-view-versus-a-copy\n",
            "  \"\"\"Entry point for launching an IPython kernel.\n"
          ]
        },
        {
          "output_type": "execute_result",
          "data": {
            "text/plain": [
              "      icu_patients result\n",
              "6644         11391  False\n",
              "6645          3438  False\n",
              "6646          3433  False"
            ],
            "text/html": [
              "\n",
              "  <div id=\"df-0cb1bc8c-44a2-4ee5-8133-70365d0bb1fa\">\n",
              "    <div class=\"colab-df-container\">\n",
              "      <div>\n",
              "<style scoped>\n",
              "    .dataframe tbody tr th:only-of-type {\n",
              "        vertical-align: middle;\n",
              "    }\n",
              "\n",
              "    .dataframe tbody tr th {\n",
              "        vertical-align: top;\n",
              "    }\n",
              "\n",
              "    .dataframe thead th {\n",
              "        text-align: right;\n",
              "    }\n",
              "</style>\n",
              "<table border=\"1\" class=\"dataframe\">\n",
              "  <thead>\n",
              "    <tr style=\"text-align: right;\">\n",
              "      <th></th>\n",
              "      <th>icu_patients</th>\n",
              "      <th>result</th>\n",
              "    </tr>\n",
              "  </thead>\n",
              "  <tbody>\n",
              "    <tr>\n",
              "      <th>6644</th>\n",
              "      <td>11391</td>\n",
              "      <td>False</td>\n",
              "    </tr>\n",
              "    <tr>\n",
              "      <th>6645</th>\n",
              "      <td>3438</td>\n",
              "      <td>False</td>\n",
              "    </tr>\n",
              "    <tr>\n",
              "      <th>6646</th>\n",
              "      <td>3433</td>\n",
              "      <td>False</td>\n",
              "    </tr>\n",
              "  </tbody>\n",
              "</table>\n",
              "</div>\n",
              "      <button class=\"colab-df-convert\" onclick=\"convertToInteractive('df-0cb1bc8c-44a2-4ee5-8133-70365d0bb1fa')\"\n",
              "              title=\"Convert this dataframe to an interactive table.\"\n",
              "              style=\"display:none;\">\n",
              "        \n",
              "  <svg xmlns=\"http://www.w3.org/2000/svg\" height=\"24px\"viewBox=\"0 0 24 24\"\n",
              "       width=\"24px\">\n",
              "    <path d=\"M0 0h24v24H0V0z\" fill=\"none\"/>\n",
              "    <path d=\"M18.56 5.44l.94 2.06.94-2.06 2.06-.94-2.06-.94-.94-2.06-.94 2.06-2.06.94zm-11 1L8.5 8.5l.94-2.06 2.06-.94-2.06-.94L8.5 2.5l-.94 2.06-2.06.94zm10 10l.94 2.06.94-2.06 2.06-.94-2.06-.94-.94-2.06-.94 2.06-2.06.94z\"/><path d=\"M17.41 7.96l-1.37-1.37c-.4-.4-.92-.59-1.43-.59-.52 0-1.04.2-1.43.59L10.3 9.45l-7.72 7.72c-.78.78-.78 2.05 0 2.83L4 21.41c.39.39.9.59 1.41.59.51 0 1.02-.2 1.41-.59l7.78-7.78 2.81-2.81c.8-.78.8-2.07 0-2.86zM5.41 20L4 18.59l7.72-7.72 1.47 1.35L5.41 20z\"/>\n",
              "  </svg>\n",
              "      </button>\n",
              "      \n",
              "  <style>\n",
              "    .colab-df-container {\n",
              "      display:flex;\n",
              "      flex-wrap:wrap;\n",
              "      gap: 12px;\n",
              "    }\n",
              "\n",
              "    .colab-df-convert {\n",
              "      background-color: #E8F0FE;\n",
              "      border: none;\n",
              "      border-radius: 50%;\n",
              "      cursor: pointer;\n",
              "      display: none;\n",
              "      fill: #1967D2;\n",
              "      height: 32px;\n",
              "      padding: 0 0 0 0;\n",
              "      width: 32px;\n",
              "    }\n",
              "\n",
              "    .colab-df-convert:hover {\n",
              "      background-color: #E2EBFA;\n",
              "      box-shadow: 0px 1px 2px rgba(60, 64, 67, 0.3), 0px 1px 3px 1px rgba(60, 64, 67, 0.15);\n",
              "      fill: #174EA6;\n",
              "    }\n",
              "\n",
              "    [theme=dark] .colab-df-convert {\n",
              "      background-color: #3B4455;\n",
              "      fill: #D2E3FC;\n",
              "    }\n",
              "\n",
              "    [theme=dark] .colab-df-convert:hover {\n",
              "      background-color: #434B5C;\n",
              "      box-shadow: 0px 1px 3px 1px rgba(0, 0, 0, 0.15);\n",
              "      filter: drop-shadow(0px 1px 2px rgba(0, 0, 0, 0.3));\n",
              "      fill: #FFFFFF;\n",
              "    }\n",
              "  </style>\n",
              "\n",
              "      <script>\n",
              "        const buttonEl =\n",
              "          document.querySelector('#df-0cb1bc8c-44a2-4ee5-8133-70365d0bb1fa button.colab-df-convert');\n",
              "        buttonEl.style.display =\n",
              "          google.colab.kernel.accessAllowed ? 'block' : 'none';\n",
              "\n",
              "        async function convertToInteractive(key) {\n",
              "          const element = document.querySelector('#df-0cb1bc8c-44a2-4ee5-8133-70365d0bb1fa');\n",
              "          const dataTable =\n",
              "            await google.colab.kernel.invokeFunction('convertToInteractive',\n",
              "                                                     [key], {});\n",
              "          if (!dataTable) return;\n",
              "\n",
              "          const docLinkHtml = 'Like what you see? Visit the ' +\n",
              "            '<a target=\"_blank\" href=https://colab.research.google.com/notebooks/data_table.ipynb>data table notebook</a>'\n",
              "            + ' to learn more about interactive tables.';\n",
              "          element.innerHTML = '';\n",
              "          dataTable['output_type'] = 'display_data';\n",
              "          await google.colab.output.renderOutput(dataTable, element);\n",
              "          const docLink = document.createElement('div');\n",
              "          docLink.innerHTML = docLinkHtml;\n",
              "          element.appendChild(docLink);\n",
              "        }\n",
              "      </script>\n",
              "    </div>\n",
              "  </div>\n",
              "  "
            ]
          },
          "metadata": {},
          "execution_count": 25
        }
      ]
    },
    {
      "cell_type": "markdown",
      "source": [
        "---"
      ],
      "metadata": {
        "id": "sW89cpouci3G"
      }
    },
    {
      "cell_type": "markdown",
      "source": [
        "# Paso 4: Análisis y Visualizaciones\n"
      ],
      "metadata": {
        "id": "7hb5S74tk1rr"
      }
    },
    {
      "cell_type": "markdown",
      "source": [
        "En este paso hay que:\n",
        "- Definir las variables independientes (x)\n",
        "- Definir las variables dependientes (x)\n",
        "- Establecer las relaciones  x / y para las distintas tablas \n",
        "- Definir los tipos de gráficos según las consignas"
      ],
      "metadata": {
        "id": "LtBiEIVLrlxV"
      }
    },
    {
      "cell_type": "markdown",
      "source": [
        "#### Figura 1: Casos Totales Por Pais (barras)"
      ],
      "metadata": {
        "id": "lrKY0CY1dupu"
      }
    },
    {
      "cell_type": "code",
      "source": [
        "totales = df_final.loc[df_final.date == \"2021-01-15\"]   # df temporal con el total de infectados al último día del rango temporal\n",
        "totales = totales.sort_values(by = ['total_cases'])     # ordenamos pot total_cases\n",
        "\n",
        "\n",
        "fig = plt.figure(figsize=(8,5))\n",
        "ax = fig.add_axes([0,0,1,1])\n",
        "y= (totales.total_cases/1000000)\n",
        "plt.bar(totales.iso_code, y)\n",
        "plt.title('Figura 1 - Casos totales', size=16)\n",
        "plt.xlabel(\"Paises\", size =14)\n",
        "plt.ylabel(\"Casos / Millón\", size =14)\n",
        "plt.yticks(size=12)\n",
        "plt.show()"
      ],
      "metadata": {
        "colab": {
          "base_uri": "https://localhost:8080/",
          "height": 444
        },
        "id": "dEU05ysJiunA",
        "outputId": "b3701c97-912b-4fc4-f6c0-7cd54a277256"
      },
      "execution_count": 12,
      "outputs": [
        {
          "output_type": "display_data",
          "data": {
            "text/plain": [
              "<Figure size 576x360 with 1 Axes>"
            ],
            "image/png": "[encoded data removed]"
          },
          "metadata": {
            "needs_background": "light"
          }
        }
      ]
    },
    {
      "cell_type": "markdown",
      "source": [
        "#### Figura 2: Comparados los casos totales por pais (lineas, múltiple 2x2 con el inferior completo\n",
        "- Creamos listas para los casos de lso distintos paises\n",
        "- Los pasamos como argumento en los métodos del plot\n",
        "- Ajustamos las escalas para los paises pero mantuvimos una escala diferente para 'EEUU' ya que por tamañom poblacional no son comparables"
      ],
      "metadata": {
        "id": "JGGdsRUpgEjw"
      }
    },
    {
      "cell_type": "code",
      "source": [
        "arg_casos_t= df_final.loc[df_final.location == \"Argentina\"]\n",
        "usa_casos_t= df_final.loc[df_final.location == \"United States\"]\n",
        "chn_casos_t= df_final.loc[df_final.location == \"China\"]\n",
        "sa_casos_t= df_final.loc[df_final.location == \"South Africa\"]\n",
        "uk_casos_t= df_final.loc[df_final.location == \"United Kingdom\"]\n",
        "\n",
        "fig = plt.figure(figsize=(8,11))\n",
        "\n",
        "gs = fig.add_gridspec(2,2)\n",
        "plt.suptitle('Figura 2 - Casos Por Pais')\n",
        "ax1 = fig.add_subplot(gs[0, 0])\n",
        "plt.plot(arg_casos_t.date, (arg_casos_t.total_cases/1000000))\n",
        "plt.title('Argentina', size = 16)\n",
        "plt.xlabel('Fechas', size = 9)\n",
        "plt.ylabel('Casos Totales / Millon', size = 13)\n",
        "plt.xticks(rotation=45)\n",
        "plt.ylim(1.5, 3.5)\n",
        "#plt.yticks((1, 1.2, 1.4, 1.6, 1.8, 2.0, 2.2, 2.4, 2.6, 2.8, 3.0, 3.2))\n",
        "\n",
        "ax2 = fig.add_subplot(gs[0, 1])\n",
        "plt.plot(uk_casos_t.date, (uk_casos_t.total_cases/1000000))\n",
        "plt.title('Reino Unido', size = 16)\n",
        "plt.xlabel('Fechas', size = 9)\n",
        "plt.ylabel('Casos Totales / Millon', size = 13)\n",
        "plt.xticks(rotation=45)\n",
        "plt.ylim(1.0, 3.5)\n",
        "#plt.yticks((1, 1.2, 1.4, 1.6, 1.8, 2.0, 2.2, 2.4, 2.6, 2.8, 3.0, 3.2))\n",
        "\n",
        "#plt.yticks((1, 1.2, 1.4, 1.6, 1.8, 2.0, 2.2, 2.4, 2.6, 2.8, 3.0, 3.2))\n",
        "\n",
        "ax5 = fig.add_subplot(gs[1, :])\n",
        "plt.plot(usa_casos_t.date, (usa_casos_t.total_cases/1000000))\n",
        "plt.title('Estados Unidos', size = 16)\n",
        "plt.xlabel('Fechas', size = 9)\n",
        "plt.ylabel('Casos Totales / Millon', size = 13)\n",
        "plt.xticks(rotation=45)\n",
        "#plt.ylim(1.5, 3.5)\n",
        "#plt.yticks((1, 1.2, 1.4, 1.6, 1.8, 2.0, 2.2, 2.4, 2.6, 2.8, 3.0, 3.2))\n",
        "\n",
        "plt.show()"
      ],
      "metadata": {
        "colab": {
          "base_uri": "https://localhost:8080/",
          "height": 776
        },
        "id": "VkGLID5lP5wx",
        "outputId": "c80883e8-aad7-4b71-bb04-931abd3e325a"
      },
      "execution_count": 13,
      "outputs": [
        {
          "output_type": "display_data",
          "data": {
            "text/plain": [
              "<Figure size 576x792 with 3 Axes>"
            ],
            "image/png": "[encoded data removed]"
          },
          "metadata": {
            "needs_background": "light"
          }
        }
      ]
    },
    {
      "cell_type": "markdown",
      "source": [
        "#### Figura 3: Total de Casos Nuevos y Nuevas Muertes"
      ],
      "metadata": {
        "id": "HnbNHDsln-ib"
      }
    },
    {
      "cell_type": "markdown",
      "source": [
        "##### Creamos df temporales para \"casos nuevos\"\n",
        "\n",
        "- Pasamos el df completo a df2\n",
        "- Creamos una nueva columna que tome la proporción de casos nevos en función de la población del país.\n",
        "  - EEUU y China tienen una población muy superior en números absolutos a los de Argentina, Inglaterra o Sudáfrica\n",
        "- los ordenamos los datos con el método `.sort_values`por la columna `prop_casos` \n",
        "\n"
      ],
      "metadata": {
        "id": "gfViECVmSa23"
      }
    },
    {
      "cell_type": "code",
      "source": [
        "df2 = df_final\n",
        "df2['prop_casos'] = (df2['new_cases']/df2['population'])* 100000\n",
        "df2 = df2.sort_values(by = ['prop_casos'])"
      ],
      "metadata": {
        "id": "-aCve1pzoK8b",
        "colab": {
          "base_uri": "https://localhost:8080/"
        },
        "outputId": "d21ce18c-b1ee-41ec-d3a3-69b500c4a032"
      },
      "execution_count": 14,
      "outputs": [
        {
          "output_type": "stream",
          "name": "stderr",
          "text": [
            "/usr/local/lib/python3.7/dist-packages/ipykernel_launcher.py:2: SettingWithCopyWarning: \n",
            "A value is trying to be set on a copy of a slice from a DataFrame.\n",
            "Try using .loc[row_indexer,col_indexer] = value instead\n",
            "\n",
            "See the caveats in the documentation: https://pandas.pydata.org/pandas-docs/stable/user_guide/indexing.html#returning-a-view-versus-a-copy\n",
            "  \n"
          ]
        }
      ]
    },
    {
      "cell_type": "markdown",
      "source": [
        "##### Creamos la tabla de fuente de datos para el gráfico\n",
        "\n",
        "Usamos el método `.groupoby()`por pais"
      ],
      "metadata": {
        "id": "z-b2BUsGTc1q"
      }
    },
    {
      "cell_type": "code",
      "source": [
        "tabla_new_cases = df2[['prop_casos', 'new_deaths','iso_code']].groupby('iso_code').sum()\n",
        "tabla_new_cases = tabla_new_cases.sort_values(by = ['prop_casos'])\n",
        "tabla_new_cases"
      ],
      "metadata": {
        "id": "mLkRHDVW2P3w",
        "colab": {
          "base_uri": "https://localhost:8080/",
          "height": 237
        },
        "outputId": "bf1fbd1d-7126-4598-b262-94d4ea6d291a"
      },
      "execution_count": 15,
      "outputs": [
        {
          "output_type": "execute_result",
          "data": {
            "text/plain": [
              "           prop_casos  new_deaths\n",
              "iso_code                         \n",
              "CHN          0.110787         1.0\n",
              "ARG        345.422996      1982.0\n",
              "ZAF        423.911623      7998.0\n",
              "USA       1061.640123     46994.0\n",
              "GBR       1213.303058     13802.0"
            ],
            "text/html": [
              "\n",
              "  <div id=\"df-4e7a9788-9521-4746-aaa0-50ff1d12657c\">\n",
              "    <div class=\"colab-df-container\">\n",
              "      <div>\n",
              "<style scoped>\n",
              "    .dataframe tbody tr th:only-of-type {\n",
              "        vertical-align: middle;\n",
              "    }\n",
              "\n",
              "    .dataframe tbody tr th {\n",
              "        vertical-align: top;\n",
              "    }\n",
              "\n",
              "    .dataframe thead th {\n",
              "        text-align: right;\n",
              "    }\n",
              "</style>\n",
              "<table border=\"1\" class=\"dataframe\">\n",
              "  <thead>\n",
              "    <tr style=\"text-align: right;\">\n",
              "      <th></th>\n",
              "      <th>prop_casos</th>\n",
              "      <th>new_deaths</th>\n",
              "    </tr>\n",
              "    <tr>\n",
              "      <th>iso_code</th>\n",
              "      <th></th>\n",
              "      <th></th>\n",
              "    </tr>\n",
              "  </thead>\n",
              "  <tbody>\n",
              "    <tr>\n",
              "      <th>CHN</th>\n",
              "      <td>0.110787</td>\n",
              "      <td>1.0</td>\n",
              "    </tr>\n",
              "    <tr>\n",
              "      <th>ARG</th>\n",
              "      <td>345.422996</td>\n",
              "      <td>1982.0</td>\n",
              "    </tr>\n",
              "    <tr>\n",
              "      <th>ZAF</th>\n",
              "      <td>423.911623</td>\n",
              "      <td>7998.0</td>\n",
              "    </tr>\n",
              "    <tr>\n",
              "      <th>USA</th>\n",
              "      <td>1061.640123</td>\n",
              "      <td>46994.0</td>\n",
              "    </tr>\n",
              "    <tr>\n",
              "      <th>GBR</th>\n",
              "      <td>1213.303058</td>\n",
              "      <td>13802.0</td>\n",
              "    </tr>\n",
              "  </tbody>\n",
              "</table>\n",
              "</div>\n",
              "      <button class=\"colab-df-convert\" onclick=\"convertToInteractive('df-4e7a9788-9521-4746-aaa0-50ff1d12657c')\"\n",
              "              title=\"Convert this dataframe to an interactive table.\"\n",
              "              style=\"display:none;\">\n",
              "        \n",
              "  <svg xmlns=\"http://www.w3.org/2000/svg\" height=\"24px\"viewBox=\"0 0 24 24\"\n",
              "       width=\"24px\">\n",
              "    <path d=\"M0 0h24v24H0V0z\" fill=\"none\"/>\n",
              "    <path d=\"M18.56 5.44l.94 2.06.94-2.06 2.06-.94-2.06-.94-.94-2.06-.94 2.06-2.06.94zm-11 1L8.5 8.5l.94-2.06 2.06-.94-2.06-.94L8.5 2.5l-.94 2.06-2.06.94zm10 10l.94 2.06.94-2.06 2.06-.94-2.06-.94-.94-2.06-.94 2.06-2.06.94z\"/><path d=\"M17.41 7.96l-1.37-1.37c-.4-.4-.92-.59-1.43-.59-.52 0-1.04.2-1.43.59L10.3 9.45l-7.72 7.72c-.78.78-.78 2.05 0 2.83L4 21.41c.39.39.9.59 1.41.59.51 0 1.02-.2 1.41-.59l7.78-7.78 2.81-2.81c.8-.78.8-2.07 0-2.86zM5.41 20L4 18.59l7.72-7.72 1.47 1.35L5.41 20z\"/>\n",
              "  </svg>\n",
              "      </button>\n",
              "      \n",
              "  <style>\n",
              "    .colab-df-container {\n",
              "      display:flex;\n",
              "      flex-wrap:wrap;\n",
              "      gap: 12px;\n",
              "    }\n",
              "\n",
              "    .colab-df-convert {\n",
              "      background-color: #E8F0FE;\n",
              "      border: none;\n",
              "      border-radius: 50%;\n",
              "      cursor: pointer;\n",
              "      display: none;\n",
              "      fill: #1967D2;\n",
              "      height: 32px;\n",
              "      padding: 0 0 0 0;\n",
              "      width: 32px;\n",
              "    }\n",
              "\n",
              "    .colab-df-convert:hover {\n",
              "      background-color: #E2EBFA;\n",
              "      box-shadow: 0px 1px 2px rgba(60, 64, 67, 0.3), 0px 1px 3px 1px rgba(60, 64, 67, 0.15);\n",
              "      fill: #174EA6;\n",
              "    }\n",
              "\n",
              "    [theme=dark] .colab-df-convert {\n",
              "      background-color: #3B4455;\n",
              "      fill: #D2E3FC;\n",
              "    }\n",
              "\n",
              "    [theme=dark] .colab-df-convert:hover {\n",
              "      background-color: #434B5C;\n",
              "      box-shadow: 0px 1px 3px 1px rgba(0, 0, 0, 0.15);\n",
              "      filter: drop-shadow(0px 1px 2px rgba(0, 0, 0, 0.3));\n",
              "      fill: #FFFFFF;\n",
              "    }\n",
              "  </style>\n",
              "\n",
              "      <script>\n",
              "        const buttonEl =\n",
              "          document.querySelector('#df-4e7a9788-9521-4746-aaa0-50ff1d12657c button.colab-df-convert');\n",
              "        buttonEl.style.display =\n",
              "          google.colab.kernel.accessAllowed ? 'block' : 'none';\n",
              "\n",
              "        async function convertToInteractive(key) {\n",
              "          const element = document.querySelector('#df-4e7a9788-9521-4746-aaa0-50ff1d12657c');\n",
              "          const dataTable =\n",
              "            await google.colab.kernel.invokeFunction('convertToInteractive',\n",
              "                                                     [key], {});\n",
              "          if (!dataTable) return;\n",
              "\n",
              "          const docLinkHtml = 'Like what you see? Visit the ' +\n",
              "            '<a target=\"_blank\" href=https://colab.research.google.com/notebooks/data_table.ipynb>data table notebook</a>'\n",
              "            + ' to learn more about interactive tables.';\n",
              "          element.innerHTML = '';\n",
              "          dataTable['output_type'] = 'display_data';\n",
              "          await google.colab.output.renderOutput(dataTable, element);\n",
              "          const docLink = document.createElement('div');\n",
              "          docLink.innerHTML = docLinkHtml;\n",
              "          element.appendChild(docLink);\n",
              "        }\n",
              "      </script>\n",
              "    </div>\n",
              "  </div>\n",
              "  "
            ]
          },
          "metadata": {},
          "execution_count": 15
        }
      ]
    },
    {
      "cell_type": "markdown",
      "source": [
        "##### Creamos df temporales para \"nuevas muertes\"\n",
        "- Pasamos el df completo a df2\n",
        "- Creamos una nueva columna que tome la proporción de casos nevos en función de la población del país.\n",
        "    - EEUU y China tienen una población muy superior en números absolutos a los de Argentina, Inglaterra o Sudáfrica\n",
        "- Los ordenamos los datos con el método .sort_values)por la columna prop_casos"
      ],
      "metadata": {
        "id": "h0OQtsxbTvxs"
      }
    },
    {
      "cell_type": "code",
      "source": [
        "df2 = df_final\n",
        "df2['prop_muertes'] = (df2['new_deaths']/df2['population'])* 100000\n",
        "df2 = df2.sort_values(by = ['prop_muertes'])"
      ],
      "metadata": {
        "id": "CGhkq0G8AAUR",
        "colab": {
          "base_uri": "https://localhost:8080/"
        },
        "outputId": "dac80090-f844-4d95-b0b1-7bf7b49315ad"
      },
      "execution_count": 16,
      "outputs": [
        {
          "output_type": "stream",
          "name": "stderr",
          "text": [
            "/usr/local/lib/python3.7/dist-packages/ipykernel_launcher.py:2: SettingWithCopyWarning: \n",
            "A value is trying to be set on a copy of a slice from a DataFrame.\n",
            "Try using .loc[row_indexer,col_indexer] = value instead\n",
            "\n",
            "See the caveats in the documentation: https://pandas.pydata.org/pandas-docs/stable/user_guide/indexing.html#returning-a-view-versus-a-copy\n",
            "  \n"
          ]
        }
      ]
    },
    {
      "cell_type": "markdown",
      "source": [
        "##### Creamos la tabla de fuente de datos para el gráfico\n",
        "\n",
        "Usamos el método `.groupoby()`por pais"
      ],
      "metadata": {
        "id": "1OVkm3o_T0Cw"
      }
    },
    {
      "cell_type": "code",
      "source": [
        "tabla_new_deaths = df2[['prop_muertes', 'new_deaths','iso_code']].groupby('iso_code').sum()\n",
        "tabla_new_deaths = tabla_new_deaths.sort_values(by = ['prop_muertes'])\n",
        "tabla_new_deaths"
      ],
      "metadata": {
        "id": "li5kSrVuAJZs",
        "colab": {
          "base_uri": "https://localhost:8080/",
          "height": 237
        },
        "outputId": "adf5f712-2ac6-4090-d980-4e84d0a895c3"
      },
      "execution_count": 17,
      "outputs": [
        {
          "output_type": "execute_result",
          "data": {
            "text/plain": [
              "          prop_muertes  new_deaths\n",
              "iso_code                          \n",
              "CHN           0.000069         1.0\n",
              "ARG           4.345936      1982.0\n",
              "ZAF          13.320676      7998.0\n",
              "USA          14.115912     46994.0\n",
              "GBR          20.235426     13802.0"
            ],
            "text/html": [
              "\n",
              "  <div id=\"df-fbac863c-7dfe-4e35-9d0c-a8d7d65396fa\">\n",
              "    <div class=\"colab-df-container\">\n",
              "      <div>\n",
              "<style scoped>\n",
              "    .dataframe tbody tr th:only-of-type {\n",
              "        vertical-align: middle;\n",
              "    }\n",
              "\n",
              "    .dataframe tbody tr th {\n",
              "        vertical-align: top;\n",
              "    }\n",
              "\n",
              "    .dataframe thead th {\n",
              "        text-align: right;\n",
              "    }\n",
              "</style>\n",
              "<table border=\"1\" class=\"dataframe\">\n",
              "  <thead>\n",
              "    <tr style=\"text-align: right;\">\n",
              "      <th></th>\n",
              "      <th>prop_muertes</th>\n",
              "      <th>new_deaths</th>\n",
              "    </tr>\n",
              "    <tr>\n",
              "      <th>iso_code</th>\n",
              "      <th></th>\n",
              "      <th></th>\n",
              "    </tr>\n",
              "  </thead>\n",
              "  <tbody>\n",
              "    <tr>\n",
              "      <th>CHN</th>\n",
              "      <td>0.000069</td>\n",
              "      <td>1.0</td>\n",
              "    </tr>\n",
              "    <tr>\n",
              "      <th>ARG</th>\n",
              "      <td>4.345936</td>\n",
              "      <td>1982.0</td>\n",
              "    </tr>\n",
              "    <tr>\n",
              "      <th>ZAF</th>\n",
              "      <td>13.320676</td>\n",
              "      <td>7998.0</td>\n",
              "    </tr>\n",
              "    <tr>\n",
              "      <th>USA</th>\n",
              "      <td>14.115912</td>\n",
              "      <td>46994.0</td>\n",
              "    </tr>\n",
              "    <tr>\n",
              "      <th>GBR</th>\n",
              "      <td>20.235426</td>\n",
              "      <td>13802.0</td>\n",
              "    </tr>\n",
              "  </tbody>\n",
              "</table>\n",
              "</div>\n",
              "      <button class=\"colab-df-convert\" onclick=\"convertToInteractive('df-fbac863c-7dfe-4e35-9d0c-a8d7d65396fa')\"\n",
              "              title=\"Convert this dataframe to an interactive table.\"\n",
              "              style=\"display:none;\">\n",
              "        \n",
              "  <svg xmlns=\"http://www.w3.org/2000/svg\" height=\"24px\"viewBox=\"0 0 24 24\"\n",
              "       width=\"24px\">\n",
              "    <path d=\"M0 0h24v24H0V0z\" fill=\"none\"/>\n",
              "    <path d=\"M18.56 5.44l.94 2.06.94-2.06 2.06-.94-2.06-.94-.94-2.06-.94 2.06-2.06.94zm-11 1L8.5 8.5l.94-2.06 2.06-.94-2.06-.94L8.5 2.5l-.94 2.06-2.06.94zm10 10l.94 2.06.94-2.06 2.06-.94-2.06-.94-.94-2.06-.94 2.06-2.06.94z\"/><path d=\"M17.41 7.96l-1.37-1.37c-.4-.4-.92-.59-1.43-.59-.52 0-1.04.2-1.43.59L10.3 9.45l-7.72 7.72c-.78.78-.78 2.05 0 2.83L4 21.41c.39.39.9.59 1.41.59.51 0 1.02-.2 1.41-.59l7.78-7.78 2.81-2.81c.8-.78.8-2.07 0-2.86zM5.41 20L4 18.59l7.72-7.72 1.47 1.35L5.41 20z\"/>\n",
              "  </svg>\n",
              "      </button>\n",
              "      \n",
              "  <style>\n",
              "    .colab-df-container {\n",
              "      display:flex;\n",
              "      flex-wrap:wrap;\n",
              "      gap: 12px;\n",
              "    }\n",
              "\n",
              "    .colab-df-convert {\n",
              "      background-color: #E8F0FE;\n",
              "      border: none;\n",
              "      border-radius: 50%;\n",
              "      cursor: pointer;\n",
              "      display: none;\n",
              "      fill: #1967D2;\n",
              "      height: 32px;\n",
              "      padding: 0 0 0 0;\n",
              "      width: 32px;\n",
              "    }\n",
              "\n",
              "    .colab-df-convert:hover {\n",
              "      background-color: #E2EBFA;\n",
              "      box-shadow: 0px 1px 2px rgba(60, 64, 67, 0.3), 0px 1px 3px 1px rgba(60, 64, 67, 0.15);\n",
              "      fill: #174EA6;\n",
              "    }\n",
              "\n",
              "    [theme=dark] .colab-df-convert {\n",
              "      background-color: #3B4455;\n",
              "      fill: #D2E3FC;\n",
              "    }\n",
              "\n",
              "    [theme=dark] .colab-df-convert:hover {\n",
              "      background-color: #434B5C;\n",
              "      box-shadow: 0px 1px 3px 1px rgba(0, 0, 0, 0.15);\n",
              "      filter: drop-shadow(0px 1px 2px rgba(0, 0, 0, 0.3));\n",
              "      fill: #FFFFFF;\n",
              "    }\n",
              "  </style>\n",
              "\n",
              "      <script>\n",
              "        const buttonEl =\n",
              "          document.querySelector('#df-fbac863c-7dfe-4e35-9d0c-a8d7d65396fa button.colab-df-convert');\n",
              "        buttonEl.style.display =\n",
              "          google.colab.kernel.accessAllowed ? 'block' : 'none';\n",
              "\n",
              "        async function convertToInteractive(key) {\n",
              "          const element = document.querySelector('#df-fbac863c-7dfe-4e35-9d0c-a8d7d65396fa');\n",
              "          const dataTable =\n",
              "            await google.colab.kernel.invokeFunction('convertToInteractive',\n",
              "                                                     [key], {});\n",
              "          if (!dataTable) return;\n",
              "\n",
              "          const docLinkHtml = 'Like what you see? Visit the ' +\n",
              "            '<a target=\"_blank\" href=https://colab.research.google.com/notebooks/data_table.ipynb>data table notebook</a>'\n",
              "            + ' to learn more about interactive tables.';\n",
              "          element.innerHTML = '';\n",
              "          dataTable['output_type'] = 'display_data';\n",
              "          await google.colab.output.renderOutput(dataTable, element);\n",
              "          const docLink = document.createElement('div');\n",
              "          docLink.innerHTML = docLinkHtml;\n",
              "          element.appendChild(docLink);\n",
              "        }\n",
              "      </script>\n",
              "    </div>\n",
              "  </div>\n",
              "  "
            ]
          },
          "metadata": {},
          "execution_count": 17
        }
      ]
    },
    {
      "cell_type": "markdown",
      "source": [
        "##### Creamos el gráfico\n",
        "Unificamos en uno sólo gráfico con dos subplots \"casos nuevos\" y \"nuevas muertes\""
      ],
      "metadata": {
        "id": "_81zsSiDUIJY"
      }
    },
    {
      "cell_type": "code",
      "source": [
        "plt.figure(figsize=(12,8))\n",
        "  \n",
        "plt.subplot(121) \n",
        "plt.bar(tabla_new_cases.index, tabla_new_cases['prop_casos']) \n",
        "plt.title('Figura 3 - Proporción Casos nuevos / Población', size = 16)\n",
        "plt.xlabel('Pais')\n",
        "plt.ylabel('Casos Nuevos')\n",
        "plt.xticks(rotation=50)\n",
        "  \n",
        "plt.subplot(122) \n",
        "plt.bar(tabla_new_deaths.index, tabla_new_deaths['prop_muertes'])\n",
        "plt.title('Proporción Nuevas Muertes / Población', size = 16)\n",
        "plt.xlabel('Pais')\n",
        "plt.ylabel('Nuevas Muertes')\n",
        "plt.xticks(rotation=50)"
      ],
      "metadata": {
        "id": "OrypVUbYOrHi",
        "colab": {
          "base_uri": "https://localhost:8080/",
          "height": 547
        },
        "outputId": "63cb4c45-1d1f-4d76-cab1-00859bbd4dbe"
      },
      "execution_count": 18,
      "outputs": [
        {
          "output_type": "execute_result",
          "data": {
            "text/plain": [
              "([0, 1, 2, 3, 4], <a list of 5 Text major ticklabel objects>)"
            ]
          },
          "metadata": {},
          "execution_count": 18
        },
        {
          "output_type": "display_data",
          "data": {
            "text/plain": [
              "<Figure size 864x576 with 2 Axes>"
            ],
            "image/png": "[encoded data removed]"
          },
          "metadata": {
            "needs_background": "light"
          }
        }
      ]
    },
    {
      "cell_type": "markdown",
      "source": [
        "#### Figura 5: Por pais (lineas) analizamos dos variables\n",
        "  - Numero de casos nuevos diarios\n",
        "  - Numero de VACUNADOS\n",
        "  "
      ],
      "metadata": {
        "id": "Yq1S7EZK2Qka"
      }
    },
    {
      "cell_type": "markdown",
      "source": [
        "##### Creamos una función para poder aplicar a cualquier pais\n",
        "Teniendo en cuenta que este tipo de gráfico por pais individual podria aplicarse a cualquier otro pais, es que decidimos crear esta función\n",
        "\n",
        "- el parámetro de la función `vacunadosNuevosCasos` es el país\n",
        "- Creamos la máscara con el parametro pasado desde la función\n",
        "- Filtramos los NaN rellenandolos con el método .fillna(method = \"bfill\") que rellena para atras con el primer valor presente\n",
        "- Reindexamos el df con la fecha\n",
        "- Generamos el gráfico de líneas "
      ],
      "metadata": {
        "id": "g__ud31-azfZ"
      }
    },
    {
      "cell_type": "code",
      "source": [
        "def vacunadosNuevosCasos(pais):\n",
        "  maskPais = df_final[\"iso_code\"] == pais\n",
        "  casosPaisPais = df_final[maskPais]\n",
        "  casosPaisPais[\"people_vaccinated\"] = casosPaisPais[\"people_vaccinated\"].fillna(method = \"bfill\")\n",
        "   \n",
        "  casosPaisPais = casosPaisPais.set_index(\"date\")\n",
        "\n",
        "  fig, ax = plt.subplots(figsize=(10,8))\n",
        "\n",
        "  lns1 = ax.plot(casosPaisPais.index, casosPaisPais[\"new_cases\"], color = \"blue\", label = \"Nuevos casos\")\n",
        "  plt.xticks(casosPaisPais.index, rotation = 90)\n",
        "  ax2 = ax.twinx()\n",
        "  lns2 = ax2.plot(casosPaisPais.index, casosPaisPais[\"people_vaccinated\"], color = \"red\", label = \"Personas vacunadas\")\n",
        "\n",
        "  ax.set_xlabel(\"\\n Fecha\")\n",
        "  ax.set_ylabel(\"Nuevos casos\")\n",
        "  ax2.set_ylabel(\"Personas vacunadas\")\n",
        "  ax.set_title(\"Figura 5 - Relación Nuevos Casos y Personas Vacunadas\")\n",
        "\n",
        "  lns = lns1+lns2\n",
        "  labs = [l.get_label() for l in lns]\n",
        "  ax.legend(lns, labs, loc = 'lower right')\n",
        "\n",
        "  plt.show()"
      ],
      "metadata": {
        "id": "7GWvmNFv2TAA"
      },
      "execution_count": 26,
      "outputs": []
    },
    {
      "cell_type": "markdown",
      "source": [
        "##### Probamos la función con un gráfico\n",
        "En este caso con 'GBR'"
      ],
      "metadata": {
        "id": "VQ3xb57FbqLI"
      }
    },
    {
      "cell_type": "code",
      "source": [
        "vacunadosNuevosCasos(\"GBR\")"
      ],
      "metadata": {
        "id": "8xx1QFfj2Vv3",
        "colab": {
          "base_uri": "https://localhost:8080/",
          "height": 679
        },
        "outputId": "2951fdfb-e54e-4957-ca85-d56aa06e055d"
      },
      "execution_count": 27,
      "outputs": [
        {
          "output_type": "stream",
          "name": "stderr",
          "text": [
            "/usr/local/lib/python3.7/dist-packages/ipykernel_launcher.py:4: SettingWithCopyWarning: \n",
            "A value is trying to be set on a copy of a slice from a DataFrame.\n",
            "Try using .loc[row_indexer,col_indexer] = value instead\n",
            "\n",
            "See the caveats in the documentation: https://pandas.pydata.org/pandas-docs/stable/user_guide/indexing.html#returning-a-view-versus-a-copy\n",
            "  after removing the cwd from sys.path.\n"
          ]
        },
        {
          "output_type": "display_data",
          "data": {
            "text/plain": [
              "<Figure size 720x576 with 2 Axes>"
            ],
            "image/png": "[encoded data removed]"
          },
          "metadata": {
            "needs_background": "light"
          }
        }
      ]
    },
    {
      "cell_type": "markdown",
      "source": [
        "#### Figura 6: Total de UTI"
      ],
      "metadata": {
        "id": "s3316bp_n7ow"
      }
    },
    {
      "cell_type": "markdown",
      "source": [
        "Tomamos los valores "
      ],
      "metadata": {
        "id": "R8ScSbMSk6bJ"
      }
    },
    {
      "cell_type": "code",
      "source": [
        "import matplotlib.dates as mdates\n",
        "\n",
        "fig, ax = plt.subplots(figsize=(6,6), constrained_layout=True)\n",
        "\n",
        "ax.twinx()\n",
        "\n",
        "for i in ['ARG','CHN','USA','GBR']:\n",
        "  x = df_final.loc[df_final['iso_code'] == i].icu_patients / df_final.loc[df_final['iso_code'] == i].population\n",
        "  y = df_final.loc[df_final['iso_code'] == i].date\n",
        "  ax.plot(y,x,label=i,linewidth = 2)\n",
        "\n",
        "ax.xaxis.set_major_formatter(mdates.ConciseDateFormatter(ax.xaxis.get_major_locator()))\n",
        "plt.title('Figura 6 - Pacientes en ICU')\n",
        "ax.grid(True)\n",
        "ax.set_ylabel('Tasa Pacientes en ICU por poblacion')\n",
        "ax.legend()\n",
        "plt.show()"
      ],
      "metadata": {
        "id": "VGI5xtd1oKby",
        "colab": {
          "base_uri": "https://localhost:8080/",
          "height": 457
        },
        "outputId": "a3b3055d-7def-4a07-fe59-c43221eddc3d"
      },
      "execution_count": 28,
      "outputs": [
        {
          "output_type": "display_data",
          "data": {
            "text/plain": [
              "<Figure size 432x432 with 2 Axes>"
            ],
            "image/png": "[encoded data removed]"
          },
          "metadata": {
            "needs_background": "light"
          }
        }
      ]
    },
    {
      "cell_type": "markdown",
      "source": [
        "#### Figura 7: Casos según la mediana general y mayores de 65-70 años"
      ],
      "metadata": {
        "id": "5vdxyi1AB7dI"
      }
    },
    {
      "cell_type": "code",
      "source": [
        "tabla_median = df2[['median_age','iso_code']].groupby('iso_code').mean()\n",
        "tabla_median = tabla_median.sort_values(by = ['median_age'])"
      ],
      "metadata": {
        "id": "He8tjByVVSJT"
      },
      "execution_count": 29,
      "outputs": []
    },
    {
      "cell_type": "code",
      "source": [
        "tabla_65_70 = df2[['aged_65_older', 'aged_70_older','iso_code']].groupby('iso_code').sum()\n",
        "tabla_65_70 = tabla_65_70.sort_values(by = ['aged_65_older'])"
      ],
      "metadata": {
        "id": "diw6fmg6WnzJ"
      },
      "execution_count": 30,
      "outputs": []
    },
    {
      "cell_type": "code",
      "source": [
        "fig = plt.figure(figsize=(12,8))\n",
        "ax = fig.subplots(nrows=2, ncols=2)\n",
        "\n",
        "ax1 = plt.subplot2grid((2,2), (0,0)) \n",
        "plt.bar(tabla_65_70.index, tabla_65_70['aged_70_older'])\n",
        "plt.title('Figura 7 - Mayores de 70 años', size = 16)\n",
        "plt.xlabel('Pais')\n",
        "plt.ylabel('Nuevas Muertes')\n",
        "\n",
        "\n",
        "ax2 = plt.subplot2grid((2,2), (1,0))\n",
        "plt.bar(tabla_65_70.index, tabla_65_70['aged_65_older'])\n",
        "plt.title('Mayores de 65 años', size = 16)\n",
        "plt.xlabel('Pais')\n",
        "plt.ylabel('Nuevas Muertes')\n",
        "\n",
        "\n",
        "ax3 = plt.subplot2grid((2,2), (0,1), rowspan=2)\n",
        "plt.bar(tabla_median.index, tabla_median['median_age']) \n",
        "plt.title('Edad Mediana Promedio por Pais', size = 16)\n",
        "plt.xlabel('Pais')\n",
        "plt.ylabel('Edad Mediana Promedio')\n"
      ],
      "metadata": {
        "colab": {
          "base_uri": "https://localhost:8080/",
          "height": 533
        },
        "id": "W1wwq4SEW-Vj",
        "outputId": "281d08fd-9a09-4159-a230-3640193dc148"
      },
      "execution_count": 31,
      "outputs": [
        {
          "output_type": "execute_result",
          "data": {
            "text/plain": [
              "Text(0, 0.5, 'Edad Mediana Promedio')"
            ]
          },
          "metadata": {},
          "execution_count": 31
        },
        {
          "output_type": "display_data",
          "data": {
            "text/plain": [
              "<Figure size 864x576 with 3 Axes>"
            ],
            "image/png": "[encoded data removed]"
          },
          "metadata": {
            "needs_background": "light"
          }
        }
      ]
    },
    {
      "cell_type": "markdown",
      "source": [
        "---"
      ],
      "metadata": {
        "id": "ve7Y9Cqd_X5f"
      }
    },
    {
      "cell_type": "markdown",
      "source": [
        "# Paso 5: Conclusión\n",
        "\n",
        "La pandemia de COVID-19, conocida también como pandemia de coronavirus, es una pandemia actualmente en curso derivada de la enfermedad causada por el virus SARS-CoV-2. Inicialmente fue llamada «neumonía de Wuhan», puesto que los primeros casos fueron identificados en diciembre de 2019 en la ciudad china de Wuhan,​ al reportarse casos de un grupo de personas enfermas con un tipo de neumonía desconocida. La mayoría de los afectados tenía vinculación con trabajadores del Mercado mayorista de mariscos de Huanan.​ La Organización Mundial de la Salud (OMS) la declaró una emergencia de salud pública de importancia internacional el 30 de enero de 2020 y la reconoció como una pandemia el 11 de marzo de 2020, cuando informó que había 4291 muertos y 118 000 casos en 114 países.\n",
        "\n",
        "Analizamos lo ocurrido en la primer quincena de enero 2021 principalmente en número y evolución de los casos y estado de vacunación en una muestra que comprendió cinco países: Argentina, Estados Unidos, Inglaterra, Sudáfrica y China.\n",
        "\n",
        "\n",
        "\n"
      ],
      "metadata": {
        "id": "SDoG7Ol5k5JN"
      }
    },
    {
      "cell_type": "markdown",
      "source": [
        "#### Número de casos\n"
      ],
      "metadata": {
        "id": "FL9BbsYbnU8R"
      }
    },
    {
      "cell_type": "markdown",
      "source": [
        "Tal como se vio en la figura 1 y, asociado a la mayor población, EEUU mostró tener la mayor cantidad de casos / millón de hab. Mientras que China prácticamente no reportó casos a pesar de haber sido el foco de inicio de la pandemia.\n",
        "\n",
        "Todos los países (salvo China) mostraron en esos 15 dias un incremento de casos, en EEUU e Inglaterra en relación con las variantes estacionales, Sudafrica con la variante local en desarrollo y muy probablente en relación con la fiestas de fin de año ocurridas en los dias previos (figura 2)."
      ],
      "metadata": {
        "id": "YXi7_CmSn-b4"
      }
    },
    {
      "cell_type": "markdown",
      "source": [
        "#### Casos Nuevos y Muertes\n",
        "\n",
        "Cuando se evalúan casos nuevos se está viendo la incidencia actual mientras que las muertes es un reflejo del impacto que tuvo la pandemia en la población que enfermó, requirió internación hospitalaria o en UTI y terminó falleciendo por la enfermedad y sus co morbilidades (Figura 4). Ponderado por la población de cada pais, vemos que el impacto de casos nuevos y enfermedad en ese periodo de tiempo se lo llevó Inglaterra y EEUU, seguido por Sudáfrica. Es interesante notar el impacto en muertes en este país ponderado por población.\n"
      ],
      "metadata": {
        "id": "TCX_vX6Gpsqn"
      }
    },
    {
      "cell_type": "markdown",
      "source": [
        "#### Relación Vacunación y Casos nuevos\n",
        "\n",
        "En este caso se compararon dos paises, Argentina e Inglaterra, con programas de vacunación en ese momento muy diferentes (figura 5). Inglaterra fue pionera en este campo y vemos que a medida que avanzó la aplicación sistemática de vacunas el número de casos tendió a disminuir. En contrapartida esta misma relación en Argentina fue más errática. "
      ],
      "metadata": {
        "id": "tsjDsdpyriMB"
      }
    },
    {
      "cell_type": "markdown",
      "source": [
        "#### Casos UTI\n",
        "Conforme aumentaban los casos eso se tradujo en un aumento de pacientes que requirieron cuidados intensivos (Figura 6). "
      ],
      "metadata": {
        "id": "Wwx0v0g0sHg1"
      }
    },
    {
      "cell_type": "markdown",
      "source": [
        "#### Análisis por Edad\n",
        "La COVID es una enfermedad que en un inicio se caracterizó por afectar a la población añosa, con el correr de las mutaciones y variantes del virus la mediana de la edad fue bajando. En la Argentina y Sudáfrica por ejemplo éstas fueron más bajas que en EEUU e Inglaterra (Figura 7)."
      ],
      "metadata": {
        "id": "nmC9yoNOsYOW"
      }
    },
    {
      "cell_type": "markdown",
      "source": [
        "#### Conclusión final\n",
        "Este análisis nos mostró el impacto del virus SARS-CoV-2 en los distintos países seleccionados. Pudimos apreciar en cada instancia la deficiencia de los datos otorgados por el gobierno chino y su falta de compromiso a nivel global.\n",
        "También se observó como la aplicación de un programa de vacunación extenso fue eficiente para reducir los casos en países como Inglaterra. \n",
        "Por último pudimos ver los efectos de la enfermedad en el sistema de salud y edad media.\n"
      ],
      "metadata": {
        "id": "3lDhzZcT4XpJ"
      }
    },
    {
      "cell_type": "markdown",
      "source": [
        "---"
      ],
      "metadata": {
        "id": "rTT6T08t_Zvy"
      }
    },
    {
      "cell_type": "markdown",
      "source": [
        "# Paso 6: Almacenamiento de resultados"
      ],
      "metadata": {
        "id": "N7_qJtlek90u"
      }
    },
    {
      "cell_type": "markdown",
      "source": [
        "Procesamos la información ya obtenida del dataframe para almacenarla en un diccionario y almacenar el archivo."
      ],
      "metadata": {
        "id": "1BOPXPGb3O2U"
      }
    },
    {
      "cell_type": "code",
      "source": [
        "#Reseteamos el index del df\n",
        "df_final.reset_index(inplace=True)\n",
        "del df_final['index']"
      ],
      "metadata": {
        "id": "bD0E20bIg3Uy"
      },
      "execution_count": null,
      "outputs": []
    },
    {
      "cell_type": "code",
      "source": [
        "#Se hace el filtrado solicitado del dataframe y se lo almacena en ID con la estructura de diccionario\n",
        "dfID = df_final[['location', 'date', 'new_cases', 'new_deaths', 'total_vaccinations']]\n",
        "print(dfID)\n",
        "ID = dfID.to_dict(orient=\"list\")\n",
        "print(ID)"
      ],
      "metadata": {
        "id": "vEwQheo0lJJf"
      },
      "execution_count": null,
      "outputs": []
    },
    {
      "cell_type": "code",
      "source": [
        "#Se almacenan los datos con la estructura solicitada en un archivo CSV denominado ArchivoID\n",
        "ArchivoID=pd.DataFrame(ID)\n",
        "ArchivoID.to_csv(\"./sample_data/ArchivoID.csv\")"
      ],
      "metadata": {
        "id": "FAL8ueRVdbhD"
      },
      "execution_count": null,
      "outputs": []
    },
    {
      "cell_type": "code",
      "source": [
        "df_final['result']"
      ],
      "metadata": {
        "id": "BAqAIZOVmzTD",
        "outputId": "2bdb09c6-57a1-45ce-fc4a-5739657a716a",
        "colab": {
          "base_uri": "https://localhost:8080/"
        }
      },
      "execution_count": 22,
      "outputs": [
        {
          "output_type": "execute_result",
          "data": {
            "text/plain": [
              "6644      False\n",
              "6645      False\n",
              "6646      False\n",
              "6647      False\n",
              "6648      False\n",
              "          ...  \n",
              "171983     True\n",
              "171984     True\n",
              "171985     True\n",
              "171986     True\n",
              "171987     True\n",
              "Name: result, Length: 75, dtype: object"
            ]
          },
          "metadata": {},
          "execution_count": 22
        }
      ]
    }
  ]
}