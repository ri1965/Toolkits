{
  "nbformat": 4,
  "nbformat_minor": 0,
  "metadata": {
    "colab": {
      "name": "Ejercicio Tipo Parcial - Grupo 2.ipynb",
      "provenance": [],
      "collapsed_sections": [],
      "include_colab_link": true
    },
    "kernelspec": {
      "name": "python3",
      "display_name": "Python 3"
    },
    "language_info": {
      "name": "python"
    }
  },
  "cells": [
    {
      "cell_type": "markdown",
      "metadata": {
        "id": "view-in-github",
        "colab_type": "text"
      },
      "source": [
        "<a href=\"https://colab.research.google.com/github/ri1965/Toolkits/blob/main/Template_TP.ipynb\" target=\"_parent\"><img src=\"https://colab.research.google.com/assets/colab-badge.svg\" alt=\"Open In Colab\"/></a>"
      ]
    },
    {
      "cell_type": "markdown",
      "metadata": {
        "id": "0ZBHM9KbFmxq"
      },
      "source": [
        "# Consigna\n",
        "\n",
        "El ministerio de salud de la nación les solicita realizar un programa que les permita visualizar el estado de ciudadanos infectados con COVID-19 en todas sus variantes en un rango de fecha determinado y comparar esos resultados con los niveles de vacunación.\n",
        "A su vez, se les solicita que realicen una compración con otro(s) país(es). (Seleccionar como máximo 2 adicionales)\n",
        "\n",
        "Para ello, un analista le provee los siguientes archivos.\n",
        "\n",
        "[Vacunación Global](https://raw.githubusercontent.com/al34n1x/DataScience/master/100.Examen/2022/country_vaccinations.csv)\n",
        "\n",
        "[Casos COVID Global](https://raw.githubusercontent.com/al34n1x/DataScience/master/100.Examen/2022/owid-covid-data.csv)\n",
        "\n",
        "\n",
        "Consideraciones:\n",
        "\n",
        "* Rango de Fechas desde 01/01/2021 a 15/01/2021\n",
        "* Importar los archivos y trabajarlos como diccionarios o dataframes. El caracter delimitador de los archivos es el **';'**\n",
        "* Realizar al menos 4 charts que representen la información solicitada\n",
        "* Utilizar funciones\n",
        "* Generar un archivo que posea la siguiente estructura de datos dscriminado por el rango de fechas.\n",
        "```\n",
        "ID:{\n",
        "'país':value,\n",
        "'fecha':value,\n",
        "'nuevos_casos':value,\n",
        "'nuevas_muertes':value,\n",
        "'total_vacunados':value\n",
        "}\n",
        "```\n",
        "* Documentar cada paso con bloques de texto adicionalmente a notas en el código\n",
        "* Presentar por pantalla el total acumulado de infectados y de vacunados en el rango de fechas solicitado\n",
        "* Proveer una breve conclusión como parte del análisis \n",
        "\n",
        "\n",
        "\n"
      ]
    },
    {
      "cell_type": "markdown",
      "source": [
        "---\n"
      ],
      "metadata": {
        "id": "3ti1yO9zlVpI"
      }
    },
    {
      "cell_type": "markdown",
      "source": [
        "# Paso 1: Carga de datos"
      ],
      "metadata": {
        "id": "aQneOoJ_krvJ"
      }
    },
    {
      "cell_type": "markdown",
      "source": [
        "#### a. Importamos las librerías y los datos de las url aportadas en las consignas del TP "
      ],
      "metadata": {
        "id": "u6kTbUilHkQc"
      }
    },
    {
      "cell_type": "code",
      "source": [
        "# Ingrese código aquí\n",
        "import pandas as pd\n",
        "import numpy as np\n",
        "import matplotlib.pyplot as plt\n",
        "\n",
        "url_vacunacion = 'https://raw.githubusercontent.com/al34n1x/DataScience/master/100.Examen/2022/country_vaccinations.csv'\n",
        "url_casos = 'https://raw.githubusercontent.com/al34n1x/DataScience/master/100.Examen/2022/owid-covid-data.csv'\n",
        "\n",
        "vacunacion = pd.read_csv(url_vacunacion, sep=';', parse_dates=['date'])   # usamos parse_date=['date'] para importar ese campo co formato fecha\n",
        "casos = pd.read_csv(url_casos, sep=',',parse_dates=['date'])              # usamos parse_date=['date'] para importar ese campo co formato fecha"
      ],
      "metadata": {
        "id": "_J96onT_lCw9"
      },
      "execution_count": 13,
      "outputs": []
    },
    {
      "cell_type": "markdown",
      "source": [
        "#### b. Visualización de los datos con el método `head()`"
      ],
      "metadata": {
        "id": "SDxfEdnUH6XG"
      }
    },
    {
      "cell_type": "code",
      "source": [
        "vacunacion.head()"
      ],
      "metadata": {
        "colab": {
          "base_uri": "https://localhost:8080/",
          "height": 206
        },
        "id": "ndOVnSbSHzSx",
        "outputId": "a4938587-90bb-440e-ff75-a138dfc82eb1"
      },
      "execution_count": 14,
      "outputs": [
        {
          "output_type": "execute_result",
          "data": {
            "text/plain": [
              "  iso_code       date  daily_vaccinations\n",
              "0      AFG 2021-02-22                 NaN\n",
              "1      AFG 2021-02-23              1367.0\n",
              "2      AFG 2021-02-24              1367.0\n",
              "3      AFG 2021-02-25              1367.0\n",
              "4      AFG 2021-02-26              1367.0"
            ],
            "text/html": [
              "\n",
              "  <div id=\"df-c1adadec-a18f-40b2-9ea9-ae67a9dc4771\">\n",
              "    <div class=\"colab-df-container\">\n",
              "      <div>\n",
              "<style scoped>\n",
              "    .dataframe tbody tr th:only-of-type {\n",
              "        vertical-align: middle;\n",
              "    }\n",
              "\n",
              "    .dataframe tbody tr th {\n",
              "        vertical-align: top;\n",
              "    }\n",
              "\n",
              "    .dataframe thead th {\n",
              "        text-align: right;\n",
              "    }\n",
              "</style>\n",
              "<table border=\"1\" class=\"dataframe\">\n",
              "  <thead>\n",
              "    <tr style=\"text-align: right;\">\n",
              "      <th></th>\n",
              "      <th>iso_code</th>\n",
              "      <th>date</th>\n",
              "      <th>daily_vaccinations</th>\n",
              "    </tr>\n",
              "  </thead>\n",
              "  <tbody>\n",
              "    <tr>\n",
              "      <th>0</th>\n",
              "      <td>AFG</td>\n",
              "      <td>2021-02-22</td>\n",
              "      <td>NaN</td>\n",
              "    </tr>\n",
              "    <tr>\n",
              "      <th>1</th>\n",
              "      <td>AFG</td>\n",
              "      <td>2021-02-23</td>\n",
              "      <td>1367.0</td>\n",
              "    </tr>\n",
              "    <tr>\n",
              "      <th>2</th>\n",
              "      <td>AFG</td>\n",
              "      <td>2021-02-24</td>\n",
              "      <td>1367.0</td>\n",
              "    </tr>\n",
              "    <tr>\n",
              "      <th>3</th>\n",
              "      <td>AFG</td>\n",
              "      <td>2021-02-25</td>\n",
              "      <td>1367.0</td>\n",
              "    </tr>\n",
              "    <tr>\n",
              "      <th>4</th>\n",
              "      <td>AFG</td>\n",
              "      <td>2021-02-26</td>\n",
              "      <td>1367.0</td>\n",
              "    </tr>\n",
              "  </tbody>\n",
              "</table>\n",
              "</div>\n",
              "      <button class=\"colab-df-convert\" onclick=\"convertToInteractive('df-c1adadec-a18f-40b2-9ea9-ae67a9dc4771')\"\n",
              "              title=\"Convert this dataframe to an interactive table.\"\n",
              "              style=\"display:none;\">\n",
              "        \n",
              "  <svg xmlns=\"http://www.w3.org/2000/svg\" height=\"24px\"viewBox=\"0 0 24 24\"\n",
              "       width=\"24px\">\n",
              "    <path d=\"M0 0h24v24H0V0z\" fill=\"none\"/>\n",
              "    <path d=\"M18.56 5.44l.94 2.06.94-2.06 2.06-.94-2.06-.94-.94-2.06-.94 2.06-2.06.94zm-11 1L8.5 8.5l.94-2.06 2.06-.94-2.06-.94L8.5 2.5l-.94 2.06-2.06.94zm10 10l.94 2.06.94-2.06 2.06-.94-2.06-.94-.94-2.06-.94 2.06-2.06.94z\"/><path d=\"M17.41 7.96l-1.37-1.37c-.4-.4-.92-.59-1.43-.59-.52 0-1.04.2-1.43.59L10.3 9.45l-7.72 7.72c-.78.78-.78 2.05 0 2.83L4 21.41c.39.39.9.59 1.41.59.51 0 1.02-.2 1.41-.59l7.78-7.78 2.81-2.81c.8-.78.8-2.07 0-2.86zM5.41 20L4 18.59l7.72-7.72 1.47 1.35L5.41 20z\"/>\n",
              "  </svg>\n",
              "      </button>\n",
              "      \n",
              "  <style>\n",
              "    .colab-df-container {\n",
              "      display:flex;\n",
              "      flex-wrap:wrap;\n",
              "      gap: 12px;\n",
              "    }\n",
              "\n",
              "    .colab-df-convert {\n",
              "      background-color: #E8F0FE;\n",
              "      border: none;\n",
              "      border-radius: 50%;\n",
              "      cursor: pointer;\n",
              "      display: none;\n",
              "      fill: #1967D2;\n",
              "      height: 32px;\n",
              "      padding: 0 0 0 0;\n",
              "      width: 32px;\n",
              "    }\n",
              "\n",
              "    .colab-df-convert:hover {\n",
              "      background-color: #E2EBFA;\n",
              "      box-shadow: 0px 1px 2px rgba(60, 64, 67, 0.3), 0px 1px 3px 1px rgba(60, 64, 67, 0.15);\n",
              "      fill: #174EA6;\n",
              "    }\n",
              "\n",
              "    [theme=dark] .colab-df-convert {\n",
              "      background-color: #3B4455;\n",
              "      fill: #D2E3FC;\n",
              "    }\n",
              "\n",
              "    [theme=dark] .colab-df-convert:hover {\n",
              "      background-color: #434B5C;\n",
              "      box-shadow: 0px 1px 3px 1px rgba(0, 0, 0, 0.15);\n",
              "      filter: drop-shadow(0px 1px 2px rgba(0, 0, 0, 0.3));\n",
              "      fill: #FFFFFF;\n",
              "    }\n",
              "  </style>\n",
              "\n",
              "      <script>\n",
              "        const buttonEl =\n",
              "          document.querySelector('#df-c1adadec-a18f-40b2-9ea9-ae67a9dc4771 button.colab-df-convert');\n",
              "        buttonEl.style.display =\n",
              "          google.colab.kernel.accessAllowed ? 'block' : 'none';\n",
              "\n",
              "        async function convertToInteractive(key) {\n",
              "          const element = document.querySelector('#df-c1adadec-a18f-40b2-9ea9-ae67a9dc4771');\n",
              "          const dataTable =\n",
              "            await google.colab.kernel.invokeFunction('convertToInteractive',\n",
              "                                                     [key], {});\n",
              "          if (!dataTable) return;\n",
              "\n",
              "          const docLinkHtml = 'Like what you see? Visit the ' +\n",
              "            '<a target=\"_blank\" href=https://colab.research.google.com/notebooks/data_table.ipynb>data table notebook</a>'\n",
              "            + ' to learn more about interactive tables.';\n",
              "          element.innerHTML = '';\n",
              "          dataTable['output_type'] = 'display_data';\n",
              "          await google.colab.output.renderOutput(dataTable, element);\n",
              "          const docLink = document.createElement('div');\n",
              "          docLink.innerHTML = docLinkHtml;\n",
              "          element.appendChild(docLink);\n",
              "        }\n",
              "      </script>\n",
              "    </div>\n",
              "  </div>\n",
              "  "
            ]
          },
          "metadata": {},
          "execution_count": 14
        }
      ]
    },
    {
      "cell_type": "code",
      "source": [
        "casos.date.head()"
      ],
      "metadata": {
        "id": "ymvMQNyvU1Ne",
        "colab": {
          "base_uri": "https://localhost:8080/"
        },
        "outputId": "b8d0c062-7d14-4a54-c218-b2309c17da1a"
      },
      "execution_count": 15,
      "outputs": [
        {
          "output_type": "execute_result",
          "data": {
            "text/plain": [
              "0   2020-02-24\n",
              "1   2020-02-25\n",
              "2   2020-02-26\n",
              "3   2020-02-27\n",
              "4   2020-02-28\n",
              "Name: date, dtype: datetime64[ns]"
            ]
          },
          "metadata": {},
          "execution_count": 15
        }
      ]
    },
    {
      "cell_type": "markdown",
      "source": [
        "c.  Listado de columnas con el método `info()` para luego seleccionar qué columnas se van a utilizar"
      ],
      "metadata": {
        "id": "H8h8eggRBQP6"
      }
    },
    {
      "cell_type": "code",
      "source": [
        "casos.info()"
      ],
      "metadata": {
        "id": "Fn62t3AHOcLI"
      },
      "execution_count": null,
      "outputs": []
    },
    {
      "cell_type": "markdown",
      "source": [
        "---"
      ],
      "metadata": {
        "id": "kpAxL-oM-6rZ"
      }
    },
    {
      "cell_type": "markdown",
      "source": [
        "# Paso 2: Armado de la muestra final\n",
        "\n",
        "#### a. Unión de los dos df en uno \n",
        "\n",
        "Usamos el método`.merge()` y el parámetro `how` lo definimos  a la izquierda porque el df de casos es el que tiene la mayor cantidad de registros.\n"
      ],
      "metadata": {
        "id": "SzAIToQjktGr"
      }
    },
    {
      "cell_type": "code",
      "source": [
        "df_casos_vacunacion = casos.merge(vacunacion, on=['iso_code','date'], how='left')\n",
        "print(len(df_casos_vacunacion))\n",
        "df_casos_vacunacion.head()              # Vemos la cantidad de filas originales"
      ],
      "metadata": {
        "id": "NDoCR6EgC6cb"
      },
      "execution_count": null,
      "outputs": []
    },
    {
      "cell_type": "markdown",
      "source": [
        "#### b. Selección de las columnas con las que posteriormente trabajamos el df creado"
      ],
      "metadata": {
        "id": "2Sx1YPGJKXhM"
      }
    },
    {
      "cell_type": "code",
      "source": [
        "lista_col = ['iso_code', 'location', 'continent', 'date', 'total_cases', 'new_cases','new_deaths', 'icu_patients', 'hosp_patients', 'total_tests', 'new_tests', \n",
        "                         'total_vaccinations','people_vaccinated', 'people_fully_vaccinated', 'total_boosters', 'population', 'population_density', \n",
        "                         'median_age', 'aged_65_older', 'aged_70_older', 'life_expectancy' ]\n",
        "print(len(lista_col))\n",
        "df_casos_vacunacion = df_casos_vacunacion[lista_col]\n",
        "print(df_casos_vacunacion.shape)        # Vemos la forma de la matriz para ver el toal de columnas que quedaron\n",
        "df_casos_vacunacion.head()"
      ],
      "metadata": {
        "id": "wUV9xn9LlEIU"
      },
      "execution_count": null,
      "outputs": []
    },
    {
      "cell_type": "markdown",
      "source": [
        "#### c. Filtrado de filas por consigna (rango de fechas)"
      ],
      "metadata": {
        "id": "Ok5FTnHaEiCe"
      }
    },
    {
      "cell_type": "code",
      "source": [
        "mask = (df_casos_vacunacion[\"date\"] <= '2021-01-15') & (df_casos_vacunacion[\"date\"] >= '2021-01-01')\n",
        "df_casos_vacunacion = df_casos_vacunacion[mask]\n",
        "len(df_casos_vacunacion)                # Vemos la cantidad de filas que quedaron"
      ],
      "metadata": {
        "id": "Hte0oMNdWqYV",
        "colab": {
          "base_uri": "https://localhost:8080/"
        },
        "outputId": "e58fa3c9-5fb4-43db-ffb6-9a23ac48705d"
      },
      "execution_count": 18,
      "outputs": [
        {
          "output_type": "execute_result",
          "data": {
            "text/plain": [
              "3407"
            ]
          },
          "metadata": {},
          "execution_count": 18
        }
      ]
    },
    {
      "cell_type": "markdown",
      "source": [
        "#### d. Consigna: Seleccionamos los paises por su código `iso_code`\n",
        "\n",
        "Se tomaron a modo de ejemplo un país por continente europeo, africano y asiático, uno de america del norte y otro de latinoamerica."
      ],
      "metadata": {
        "id": "ZwaT0fVWMng8"
      }
    },
    {
      "cell_type": "code",
      "source": [
        "df_final = df_casos_vacunacion[(df_casos_vacunacion['iso_code'] == 'ARG') | (df_casos_vacunacion['iso_code'] == 'USA' ) | \n",
        "               (df_casos_vacunacion['iso_code'] == 'GBR') | (df_casos_vacunacion['iso_code'] == 'CHN')  | (df_casos_vacunacion['iso_code'] == 'ZAF')]\n",
        "\n",
        "df_final.shape"
      ],
      "metadata": {
        "id": "6z-nbh5TlDX9",
        "colab": {
          "base_uri": "https://localhost:8080/"
        },
        "outputId": "2f0476ab-3a8c-4d02-cff5-2bcaae53fe69"
      },
      "execution_count": 24,
      "outputs": [
        {
          "output_type": "execute_result",
          "data": {
            "text/plain": [
              "(75, 21)"
            ]
          },
          "metadata": {},
          "execution_count": 24
        }
      ]
    },
    {
      "cell_type": "markdown",
      "source": [
        "---"
      ],
      "metadata": {
        "id": "Mcm9BHdk_KB3"
      }
    },
    {
      "cell_type": "markdown",
      "source": [
        "# Paso 3: Tranformación de Datos\n",
        "\n"
      ],
      "metadata": {
        "id": "1pNHTGlFJ6Sl"
      }
    },
    {
      "cell_type": "markdown",
      "source": [
        "#### a. Transformación de valores nulos"
      ],
      "metadata": {
        "id": "8vGXeSfSPyAT"
      }
    },
    {
      "cell_type": "code",
      "source": [
        "# Identificamos las columnas con NaN (lo vemos en el df-info())\n",
        "# icu_patients, hosp_patients, total_tests, new_tests, total_vaccinations, people_vaccinated, people_fully_vaccinated, total_boosters\n",
        "\n",
        "# Cambiamos NaN a 0\n",
        "df_final['icu_patients'].fillna(0) \n",
        "\n",
        "# Cambiamos NaN con el promedio lo usamos para el df_final\n",
        "df_final['icu_patients'] = df_final['icu_patients'].fillna(df_final['icu_patients'].mean()) \n",
        "df_final['hosp_patients'] = df_final['hosp_patients'].fillna(df_final['hosp_patients'].mean()) \n",
        "df_final['total_tests'] = df_final['total_tests'].fillna(df_final['total_tests'].mean()) \n",
        "df_final['new_tests'] = df_final['new_tests'].fillna(df_final['new_tests'].mean()) \n",
        "df_final['total_vaccinations'] = df_final['total_vaccinations'].fillna(df_final['total_vaccinations'].mean()) \n",
        "df_final['people_vaccinated'] = df_final['people_vaccinated'].fillna(df_final['people_vaccinated'].mean()) \n",
        "df_final['people_fully_vaccinated'] = df_final['people_fully_vaccinated'].fillna(df_final['people_fully_vaccinated'].mean()) \n",
        "df_final['total_boosters'] = df_final['total_boosters'].fillna(df_final['total_boosters'].mean()) "
      ],
      "metadata": {
        "id": "7Q8ahPy6LDFM"
      },
      "execution_count": 47,
      "outputs": []
    },
    {
      "cell_type": "markdown",
      "source": [
        "#### b. Cambiar el tipo de dato de una columna (`cast`)"
      ],
      "metadata": {
        "id": "sHBbroOGP9OZ"
      }
    },
    {
      "cell_type": "code",
      "source": [
        "df_final['icu_patients'] = df_final['icu_patients'].astype(int) \n",
        "df_final['hosp_patients'] = df_final['hosp_patients'].astype(int) \n",
        "df_final['total_tests'] = df_final['total_tests'].astype(int) \n",
        "df_final['new_tests'] = df_final['new_tests'].astype(int) \n",
        "df_final['total_vaccinations'] = df_final['total_vaccinations'].astype(int) \n",
        "df_final['people_vaccinated'] = df_final['people_vaccinated'].astype(int) \n",
        "df_final['people_fully_vaccinated'] = df_final['people_fully_vaccinated'].astype(int) \n",
        "df_final['total_boosters'] = df_final['total_boosters'].astype(int) "
      ],
      "metadata": {
        "id": "N-ofcBtyQJE5"
      },
      "execution_count": null,
      "outputs": []
    },
    {
      "cell_type": "markdown",
      "source": [
        "#### c. Crear o modificar el valor de una columna con un condicional sobre otra"
      ],
      "metadata": {
        "id": "71W8OE0VblIN"
      }
    },
    {
      "cell_type": "code",
      "source": [
        "df_final[\"result\"] = np.where(df_final[\"icu_patients\"] >  12000, 'True', 'False')\n",
        "df_final[['icu_patients', 'result']].head(3)"
      ],
      "metadata": {
        "id": "dQOUyW5KaQRL",
        "outputId": "3613b5c5-f9a5-44f6-e6c3-3ffce587346c",
        "colab": {
          "base_uri": "https://localhost:8080/",
          "height": 143
        }
      },
      "execution_count": 65,
      "outputs": [
        {
          "output_type": "execute_result",
          "data": {
            "text/plain": [
              "      icu_patients result\n",
              "6644         11391  False\n",
              "6645          3438  False\n",
              "6646          3433  False"
            ],
            "text/html": [
              "\n",
              "  <div id=\"df-2410b0e5-bf30-4a63-9cc1-9e6c72457ecc\">\n",
              "    <div class=\"colab-df-container\">\n",
              "      <div>\n",
              "<style scoped>\n",
              "    .dataframe tbody tr th:only-of-type {\n",
              "        vertical-align: middle;\n",
              "    }\n",
              "\n",
              "    .dataframe tbody tr th {\n",
              "        vertical-align: top;\n",
              "    }\n",
              "\n",
              "    .dataframe thead th {\n",
              "        text-align: right;\n",
              "    }\n",
              "</style>\n",
              "<table border=\"1\" class=\"dataframe\">\n",
              "  <thead>\n",
              "    <tr style=\"text-align: right;\">\n",
              "      <th></th>\n",
              "      <th>icu_patients</th>\n",
              "      <th>result</th>\n",
              "    </tr>\n",
              "  </thead>\n",
              "  <tbody>\n",
              "    <tr>\n",
              "      <th>6644</th>\n",
              "      <td>11391</td>\n",
              "      <td>False</td>\n",
              "    </tr>\n",
              "    <tr>\n",
              "      <th>6645</th>\n",
              "      <td>3438</td>\n",
              "      <td>False</td>\n",
              "    </tr>\n",
              "    <tr>\n",
              "      <th>6646</th>\n",
              "      <td>3433</td>\n",
              "      <td>False</td>\n",
              "    </tr>\n",
              "  </tbody>\n",
              "</table>\n",
              "</div>\n",
              "      <button class=\"colab-df-convert\" onclick=\"convertToInteractive('df-2410b0e5-bf30-4a63-9cc1-9e6c72457ecc')\"\n",
              "              title=\"Convert this dataframe to an interactive table.\"\n",
              "              style=\"display:none;\">\n",
              "        \n",
              "  <svg xmlns=\"http://www.w3.org/2000/svg\" height=\"24px\"viewBox=\"0 0 24 24\"\n",
              "       width=\"24px\">\n",
              "    <path d=\"M0 0h24v24H0V0z\" fill=\"none\"/>\n",
              "    <path d=\"M18.56 5.44l.94 2.06.94-2.06 2.06-.94-2.06-.94-.94-2.06-.94 2.06-2.06.94zm-11 1L8.5 8.5l.94-2.06 2.06-.94-2.06-.94L8.5 2.5l-.94 2.06-2.06.94zm10 10l.94 2.06.94-2.06 2.06-.94-2.06-.94-.94-2.06-.94 2.06-2.06.94z\"/><path d=\"M17.41 7.96l-1.37-1.37c-.4-.4-.92-.59-1.43-.59-.52 0-1.04.2-1.43.59L10.3 9.45l-7.72 7.72c-.78.78-.78 2.05 0 2.83L4 21.41c.39.39.9.59 1.41.59.51 0 1.02-.2 1.41-.59l7.78-7.78 2.81-2.81c.8-.78.8-2.07 0-2.86zM5.41 20L4 18.59l7.72-7.72 1.47 1.35L5.41 20z\"/>\n",
              "  </svg>\n",
              "      </button>\n",
              "      \n",
              "  <style>\n",
              "    .colab-df-container {\n",
              "      display:flex;\n",
              "      flex-wrap:wrap;\n",
              "      gap: 12px;\n",
              "    }\n",
              "\n",
              "    .colab-df-convert {\n",
              "      background-color: #E8F0FE;\n",
              "      border: none;\n",
              "      border-radius: 50%;\n",
              "      cursor: pointer;\n",
              "      display: none;\n",
              "      fill: #1967D2;\n",
              "      height: 32px;\n",
              "      padding: 0 0 0 0;\n",
              "      width: 32px;\n",
              "    }\n",
              "\n",
              "    .colab-df-convert:hover {\n",
              "      background-color: #E2EBFA;\n",
              "      box-shadow: 0px 1px 2px rgba(60, 64, 67, 0.3), 0px 1px 3px 1px rgba(60, 64, 67, 0.15);\n",
              "      fill: #174EA6;\n",
              "    }\n",
              "\n",
              "    [theme=dark] .colab-df-convert {\n",
              "      background-color: #3B4455;\n",
              "      fill: #D2E3FC;\n",
              "    }\n",
              "\n",
              "    [theme=dark] .colab-df-convert:hover {\n",
              "      background-color: #434B5C;\n",
              "      box-shadow: 0px 1px 3px 1px rgba(0, 0, 0, 0.15);\n",
              "      filter: drop-shadow(0px 1px 2px rgba(0, 0, 0, 0.3));\n",
              "      fill: #FFFFFF;\n",
              "    }\n",
              "  </style>\n",
              "\n",
              "      <script>\n",
              "        const buttonEl =\n",
              "          document.querySelector('#df-2410b0e5-bf30-4a63-9cc1-9e6c72457ecc button.colab-df-convert');\n",
              "        buttonEl.style.display =\n",
              "          google.colab.kernel.accessAllowed ? 'block' : 'none';\n",
              "\n",
              "        async function convertToInteractive(key) {\n",
              "          const element = document.querySelector('#df-2410b0e5-bf30-4a63-9cc1-9e6c72457ecc');\n",
              "          const dataTable =\n",
              "            await google.colab.kernel.invokeFunction('convertToInteractive',\n",
              "                                                     [key], {});\n",
              "          if (!dataTable) return;\n",
              "\n",
              "          const docLinkHtml = 'Like what you see? Visit the ' +\n",
              "            '<a target=\"_blank\" href=https://colab.research.google.com/notebooks/data_table.ipynb>data table notebook</a>'\n",
              "            + ' to learn more about interactive tables.';\n",
              "          element.innerHTML = '';\n",
              "          dataTable['output_type'] = 'display_data';\n",
              "          await google.colab.output.renderOutput(dataTable, element);\n",
              "          const docLink = document.createElement('div');\n",
              "          docLink.innerHTML = docLinkHtml;\n",
              "          element.appendChild(docLink);\n",
              "        }\n",
              "      </script>\n",
              "    </div>\n",
              "  </div>\n",
              "  "
            ]
          },
          "metadata": {},
          "execution_count": 65
        }
      ]
    },
    {
      "cell_type": "markdown",
      "source": [
        "---"
      ],
      "metadata": {
        "id": "sW89cpouci3G"
      }
    },
    {
      "cell_type": "markdown",
      "source": [
        "# Paso 4: Análisis y Visualizaciones\n"
      ],
      "metadata": {
        "id": "7hb5S74tk1rr"
      }
    },
    {
      "cell_type": "markdown",
      "source": [
        "#### Figura 1: Casos Totales Por Pais"
      ],
      "metadata": {
        "id": "lrKY0CY1dupu"
      }
    },
    {
      "cell_type": "code",
      "source": [
        "totales = df_final.loc[df_final.date == \"2021-01-15\"]   # df temporal con el total de infectados al último día del rango temporal\n",
        "totales = totales.sort_values(by = ['total_cases'])     # ordenamos pot total_cases\n",
        "\n",
        "\n",
        "fig = plt.figure(figsize=(8,5))\n",
        "ax = fig.add_axes([0,0,1,1])\n",
        "y= (totales.total_cases/1000000)\n",
        "plt.bar(totales.iso_code, y)\n",
        "plt.title('Figura 1 - Casos totales', size=16)\n",
        "plt.xlabel(\"Paises\", size =14)\n",
        "plt.ylabel(\"Casos / Millón\", size =14)\n",
        "plt.yticks(size=12)\n",
        "plt.show()"
      ],
      "metadata": {
        "colab": {
          "base_uri": "https://localhost:8080/",
          "height": 444
        },
        "id": "dEU05ysJiunA",
        "outputId": "afced72f-3a2d-4e83-81da-ce8edc1806f7"
      },
      "execution_count": 68,
      "outputs": [
        {
          "output_type": "display_data",
          "data": {
            "text/plain": [
              "<Figure size 576x360 with 1 Axes>"
            ],
            "image/png": "[encoded data removed]"
          },
          "metadata": {
            "needs_background": "light"
          }
        }
      ]
    },
    {
      "cell_type": "markdown",
      "source": [
        "## Comparados los casos totales por pais\n",
        "- Creamos listas para los casos de lso distintos paises\n",
        "- Los pasamos como argumento en los métodos del plot\n",
        "- Ajustamos las escalas para los paises pero mantuvimos una escala diferente para 'EEUU' ya que por tamañom poblacional no son comparables"
      ],
      "metadata": {
        "id": "JGGdsRUpgEjw"
      }
    },
    {
      "cell_type": "code",
      "source": [
        "arg_casos_t= df_final.loc[df_final.location == \"Argentina\"]\n",
        "usa_casos_t= df_final.loc[df_final.location == \"United States\"]\n",
        "chn_casos_t= df_final.loc[df_final.location == \"China\"]\n",
        "sa_casos_t= df_final.loc[df_final.location == \"South Africa\"]\n",
        "uk_casos_t= df_final.loc[df_final.location == \"United Kingdom\"]\n",
        "\n",
        "fig = plt.figure(figsize=(8,11))\n",
        "\n",
        "gs = fig.add_gridspec(2,2)\n",
        "plt.suptitle('Figura 2 - Casos Por Pais')\n",
        "ax1 = fig.add_subplot(gs[0, 0])\n",
        "plt.plot(arg_casos_t.date, (arg_casos_t.total_cases/1000000))\n",
        "plt.title('Argentina', size = 16)\n",
        "plt.xlabel('Fechas', size = 9)\n",
        "plt.ylabel('Casos Totales / Millon', size = 13)\n",
        "plt.xticks(rotation=45)\n",
        "plt.ylim(1.5, 3.5)\n",
        "#plt.yticks((1, 1.2, 1.4, 1.6, 1.8, 2.0, 2.2, 2.4, 2.6, 2.8, 3.0, 3.2))\n",
        "\n",
        "ax2 = fig.add_subplot(gs[0, 1])\n",
        "plt.plot(uk_casos_t.date, (uk_casos_t.total_cases/1000000))\n",
        "plt.title('Reino Unido', size = 16)\n",
        "plt.xlabel('Fechas', size = 9)\n",
        "plt.ylabel('Casos Totales / Millon', size = 13)\n",
        "plt.xticks(rotation=45)\n",
        "plt.ylim(1.0, 3.5)\n",
        "#plt.yticks((1, 1.2, 1.4, 1.6, 1.8, 2.0, 2.2, 2.4, 2.6, 2.8, 3.0, 3.2))\n",
        "\n",
        "#plt.yticks((1, 1.2, 1.4, 1.6, 1.8, 2.0, 2.2, 2.4, 2.6, 2.8, 3.0, 3.2))\n",
        "\n",
        "ax5 = fig.add_subplot(gs[1, :])\n",
        "plt.plot(usa_casos_t.date, (usa_casos_t.total_cases/1000000))\n",
        "plt.title('Estados Unidos', size = 16)\n",
        "plt.xlabel('Fechas', size = 9)\n",
        "plt.ylabel('Casos Totales / Millon', size = 13)\n",
        "plt.xticks(rotation=45)\n",
        "#plt.ylim(1.5, 3.5)\n",
        "#plt.yticks((1, 1.2, 1.4, 1.6, 1.8, 2.0, 2.2, 2.4, 2.6, 2.8, 3.0, 3.2))\n",
        "\n",
        "plt.show()"
      ],
      "metadata": {
        "colab": {
          "base_uri": "https://localhost:8080/",
          "height": 776
        },
        "id": "VkGLID5lP5wx",
        "outputId": "2ab55837-5451-4a16-fe64-7a6c6352ef40"
      },
      "execution_count": 74,
      "outputs": [
        {
          "output_type": "display_data",
          "data": {
            "text/plain": [
              "<Figure size 576x792 with 3 Axes>"
            ],
            "image/png": "[encoded data removed]"
          },
          "metadata": {
            "needs_background": "light"
          }
        }
      ]
    },
    {
      "cell_type": "markdown",
      "source": [
        "### Total de Casos Nuevos y Nuevas Muertes"
      ],
      "metadata": {
        "id": "HnbNHDsln-ib"
      }
    },
    {
      "cell_type": "markdown",
      "source": [
        "### Creamos df temporales para \"casos nuevos\"\n",
        "\n",
        "- Pasamos el df completo a df2\n",
        "- Creamos una nueva columna que tome la proporción de casos nevos en función de la población del país.\n",
        "  - EEUU y China tienen una población muy superior en números absolutos a los de Argentina, Inglaterra o Sudáfrica\n",
        "- los ordenamos los datos con el método `.sort_values`por la columna `prop_casos` \n",
        "\n"
      ],
      "metadata": {
        "id": "gfViECVmSa23"
      }
    },
    {
      "cell_type": "code",
      "source": [
        "df2 = df\n",
        "df2['prop_casos'] = (df2['new_cases']/df2['population'])* 100000\n",
        "df2 = df2.sort_values(by = ['prop_casos'])"
      ],
      "metadata": {
        "id": "-aCve1pzoK8b",
        "colab": {
          "base_uri": "https://localhost:8080/"
        },
        "outputId": "0ca21de5-614b-4dfc-b8df-8f227fbb449e"
      },
      "execution_count": null,
      "outputs": [
        {
          "output_type": "stream",
          "name": "stderr",
          "text": [
            "/usr/local/lib/python3.7/dist-packages/ipykernel_launcher.py:2: SettingWithCopyWarning: \n",
            "A value is trying to be set on a copy of a slice from a DataFrame.\n",
            "Try using .loc[row_indexer,col_indexer] = value instead\n",
            "\n",
            "See the caveats in the documentation: https://pandas.pydata.org/pandas-docs/stable/user_guide/indexing.html#returning-a-view-versus-a-copy\n",
            "  \n"
          ]
        }
      ]
    },
    {
      "cell_type": "markdown",
      "source": [
        "### Creamos la tabla de fuente de datos para el gráfico\n",
        "\n",
        "Usamos el método `.groupoby()`por pais"
      ],
      "metadata": {
        "id": "z-b2BUsGTc1q"
      }
    },
    {
      "cell_type": "code",
      "source": [
        "tabla_new_cases = df2[['prop_casos', 'new_deaths','iso_code']].groupby('iso_code').sum()\n",
        "tabla_new_cases = tabla_new_cases.sort_values(by = ['prop_casos'])\n",
        "tabla_new_cases"
      ],
      "metadata": {
        "id": "mLkRHDVW2P3w",
        "colab": {
          "base_uri": "https://localhost:8080/",
          "height": 237
        },
        "outputId": "56df669d-17ac-4878-d775-c26ff2b21de8"
      },
      "execution_count": null,
      "outputs": [
        {
          "output_type": "execute_result",
          "data": {
            "text/plain": [
              "           prop_casos  new_deaths\n",
              "iso_code                         \n",
              "CHN          0.110787         1.0\n",
              "ARG        345.422996      1982.0\n",
              "ZAF        423.911623      7998.0\n",
              "USA       1061.640123     46994.0\n",
              "GBR       1213.303058     13802.0"
            ],
            "text/html": [
              "\n",
              "  <div id=\"df-76b4c38f-fd88-4563-93e3-cbc9c5def315\">\n",
              "    <div class=\"colab-df-container\">\n",
              "      <div>\n",
              "<style scoped>\n",
              "    .dataframe tbody tr th:only-of-type {\n",
              "        vertical-align: middle;\n",
              "    }\n",
              "\n",
              "    .dataframe tbody tr th {\n",
              "        vertical-align: top;\n",
              "    }\n",
              "\n",
              "    .dataframe thead th {\n",
              "        text-align: right;\n",
              "    }\n",
              "</style>\n",
              "<table border=\"1\" class=\"dataframe\">\n",
              "  <thead>\n",
              "    <tr style=\"text-align: right;\">\n",
              "      <th></th>\n",
              "      <th>prop_casos</th>\n",
              "      <th>new_deaths</th>\n",
              "    </tr>\n",
              "    <tr>\n",
              "      <th>iso_code</th>\n",
              "      <th></th>\n",
              "      <th></th>\n",
              "    </tr>\n",
              "  </thead>\n",
              "  <tbody>\n",
              "    <tr>\n",
              "      <th>CHN</th>\n",
              "      <td>0.110787</td>\n",
              "      <td>1.0</td>\n",
              "    </tr>\n",
              "    <tr>\n",
              "      <th>ARG</th>\n",
              "      <td>345.422996</td>\n",
              "      <td>1982.0</td>\n",
              "    </tr>\n",
              "    <tr>\n",
              "      <th>ZAF</th>\n",
              "      <td>423.911623</td>\n",
              "      <td>7998.0</td>\n",
              "    </tr>\n",
              "    <tr>\n",
              "      <th>USA</th>\n",
              "      <td>1061.640123</td>\n",
              "      <td>46994.0</td>\n",
              "    </tr>\n",
              "    <tr>\n",
              "      <th>GBR</th>\n",
              "      <td>1213.303058</td>\n",
              "      <td>13802.0</td>\n",
              "    </tr>\n",
              "  </tbody>\n",
              "</table>\n",
              "</div>\n",
              "      <button class=\"colab-df-convert\" onclick=\"convertToInteractive('df-76b4c38f-fd88-4563-93e3-cbc9c5def315')\"\n",
              "              title=\"Convert this dataframe to an interactive table.\"\n",
              "              style=\"display:none;\">\n",
              "        \n",
              "  <svg xmlns=\"http://www.w3.org/2000/svg\" height=\"24px\"viewBox=\"0 0 24 24\"\n",
              "       width=\"24px\">\n",
              "    <path d=\"M0 0h24v24H0V0z\" fill=\"none\"/>\n",
              "    <path d=\"M18.56 5.44l.94 2.06.94-2.06 2.06-.94-2.06-.94-.94-2.06-.94 2.06-2.06.94zm-11 1L8.5 8.5l.94-2.06 2.06-.94-2.06-.94L8.5 2.5l-.94 2.06-2.06.94zm10 10l.94 2.06.94-2.06 2.06-.94-2.06-.94-.94-2.06-.94 2.06-2.06.94z\"/><path d=\"M17.41 7.96l-1.37-1.37c-.4-.4-.92-.59-1.43-.59-.52 0-1.04.2-1.43.59L10.3 9.45l-7.72 7.72c-.78.78-.78 2.05 0 2.83L4 21.41c.39.39.9.59 1.41.59.51 0 1.02-.2 1.41-.59l7.78-7.78 2.81-2.81c.8-.78.8-2.07 0-2.86zM5.41 20L4 18.59l7.72-7.72 1.47 1.35L5.41 20z\"/>\n",
              "  </svg>\n",
              "      </button>\n",
              "      \n",
              "  <style>\n",
              "    .colab-df-container {\n",
              "      display:flex;\n",
              "      flex-wrap:wrap;\n",
              "      gap: 12px;\n",
              "    }\n",
              "\n",
              "    .colab-df-convert {\n",
              "      background-color: #E8F0FE;\n",
              "      border: none;\n",
              "      border-radius: 50%;\n",
              "      cursor: pointer;\n",
              "      display: none;\n",
              "      fill: #1967D2;\n",
              "      height: 32px;\n",
              "      padding: 0 0 0 0;\n",
              "      width: 32px;\n",
              "    }\n",
              "\n",
              "    .colab-df-convert:hover {\n",
              "      background-color: #E2EBFA;\n",
              "      box-shadow: 0px 1px 2px rgba(60, 64, 67, 0.3), 0px 1px 3px 1px rgba(60, 64, 67, 0.15);\n",
              "      fill: #174EA6;\n",
              "    }\n",
              "\n",
              "    [theme=dark] .colab-df-convert {\n",
              "      background-color: #3B4455;\n",
              "      fill: #D2E3FC;\n",
              "    }\n",
              "\n",
              "    [theme=dark] .colab-df-convert:hover {\n",
              "      background-color: #434B5C;\n",
              "      box-shadow: 0px 1px 3px 1px rgba(0, 0, 0, 0.15);\n",
              "      filter: drop-shadow(0px 1px 2px rgba(0, 0, 0, 0.3));\n",
              "      fill: #FFFFFF;\n",
              "    }\n",
              "  </style>\n",
              "\n",
              "      <script>\n",
              "        const buttonEl =\n",
              "          document.querySelector('#df-76b4c38f-fd88-4563-93e3-cbc9c5def315 button.colab-df-convert');\n",
              "        buttonEl.style.display =\n",
              "          google.colab.kernel.accessAllowed ? 'block' : 'none';\n",
              "\n",
              "        async function convertToInteractive(key) {\n",
              "          const element = document.querySelector('#df-76b4c38f-fd88-4563-93e3-cbc9c5def315');\n",
              "          const dataTable =\n",
              "            await google.colab.kernel.invokeFunction('convertToInteractive',\n",
              "                                                     [key], {});\n",
              "          if (!dataTable) return;\n",
              "\n",
              "          const docLinkHtml = 'Like what you see? Visit the ' +\n",
              "            '<a target=\"_blank\" href=https://colab.research.google.com/notebooks/data_table.ipynb>data table notebook</a>'\n",
              "            + ' to learn more about interactive tables.';\n",
              "          element.innerHTML = '';\n",
              "          dataTable['output_type'] = 'display_data';\n",
              "          await google.colab.output.renderOutput(dataTable, element);\n",
              "          const docLink = document.createElement('div');\n",
              "          docLink.innerHTML = docLinkHtml;\n",
              "          element.appendChild(docLink);\n",
              "        }\n",
              "      </script>\n",
              "    </div>\n",
              "  </div>\n",
              "  "
            ]
          },
          "metadata": {},
          "execution_count": 16
        }
      ]
    },
    {
      "cell_type": "markdown",
      "source": [
        "### Creamos df temporales para \"nuevas muertes\"\n",
        "- Pasamos el df completo a df2\n",
        "- Creamos una nueva columna que tome la proporción de casos nevos en función de la población del país.\n",
        "    - EEUU y China tienen una población muy superior en números absolutos a los de Argentina, Inglaterra o Sudáfrica\n",
        "- Los ordenamos los datos con el método .sort_values)por la columna prop_casos"
      ],
      "metadata": {
        "id": "h0OQtsxbTvxs"
      }
    },
    {
      "cell_type": "code",
      "source": [
        "df2 = df\n",
        "df2['prop_muertes'] = (df2['new_deaths']/df2['population'])* 100000\n",
        "df2 = df2.sort_values(by = ['prop_muertes'])"
      ],
      "metadata": {
        "colab": {
          "base_uri": "https://localhost:8080/"
        },
        "id": "CGhkq0G8AAUR",
        "outputId": "e9791941-f967-4ed0-9d21-7e05ef140039"
      },
      "execution_count": null,
      "outputs": [
        {
          "output_type": "stream",
          "name": "stderr",
          "text": [
            "/usr/local/lib/python3.7/dist-packages/ipykernel_launcher.py:2: SettingWithCopyWarning: \n",
            "A value is trying to be set on a copy of a slice from a DataFrame.\n",
            "Try using .loc[row_indexer,col_indexer] = value instead\n",
            "\n",
            "See the caveats in the documentation: https://pandas.pydata.org/pandas-docs/stable/user_guide/indexing.html#returning-a-view-versus-a-copy\n",
            "  \n"
          ]
        }
      ]
    },
    {
      "cell_type": "markdown",
      "source": [
        "### Creamos la tabla de fuente de datos para el gráfico\n",
        "\n",
        "Usamos el método `.groupoby()`por pais"
      ],
      "metadata": {
        "id": "1OVkm3o_T0Cw"
      }
    },
    {
      "cell_type": "code",
      "source": [
        "tabla_new_deaths = df2[['prop_muertes', 'new_deaths','iso_code']].groupby('iso_code').sum()\n",
        "tabla_new_deaths = tabla_new_deaths.sort_values(by = ['prop_muertes'])\n",
        "tabla_new_deaths"
      ],
      "metadata": {
        "id": "li5kSrVuAJZs",
        "colab": {
          "base_uri": "https://localhost:8080/",
          "height": 237
        },
        "outputId": "015b53ee-0099-4e05-c287-2efd4911361e"
      },
      "execution_count": null,
      "outputs": [
        {
          "output_type": "execute_result",
          "data": {
            "text/plain": [
              "          prop_muertes  new_deaths\n",
              "iso_code                          \n",
              "CHN           0.000069         1.0\n",
              "ARG           4.345936      1982.0\n",
              "ZAF          13.320676      7998.0\n",
              "USA          14.115912     46994.0\n",
              "GBR          20.235426     13802.0"
            ],
            "text/html": [
              "\n",
              "  <div id=\"df-9c1f1687-c294-465e-aabe-834942c8d9f7\">\n",
              "    <div class=\"colab-df-container\">\n",
              "      <div>\n",
              "<style scoped>\n",
              "    .dataframe tbody tr th:only-of-type {\n",
              "        vertical-align: middle;\n",
              "    }\n",
              "\n",
              "    .dataframe tbody tr th {\n",
              "        vertical-align: top;\n",
              "    }\n",
              "\n",
              "    .dataframe thead th {\n",
              "        text-align: right;\n",
              "    }\n",
              "</style>\n",
              "<table border=\"1\" class=\"dataframe\">\n",
              "  <thead>\n",
              "    <tr style=\"text-align: right;\">\n",
              "      <th></th>\n",
              "      <th>prop_muertes</th>\n",
              "      <th>new_deaths</th>\n",
              "    </tr>\n",
              "    <tr>\n",
              "      <th>iso_code</th>\n",
              "      <th></th>\n",
              "      <th></th>\n",
              "    </tr>\n",
              "  </thead>\n",
              "  <tbody>\n",
              "    <tr>\n",
              "      <th>CHN</th>\n",
              "      <td>0.000069</td>\n",
              "      <td>1.0</td>\n",
              "    </tr>\n",
              "    <tr>\n",
              "      <th>ARG</th>\n",
              "      <td>4.345936</td>\n",
              "      <td>1982.0</td>\n",
              "    </tr>\n",
              "    <tr>\n",
              "      <th>ZAF</th>\n",
              "      <td>13.320676</td>\n",
              "      <td>7998.0</td>\n",
              "    </tr>\n",
              "    <tr>\n",
              "      <th>USA</th>\n",
              "      <td>14.115912</td>\n",
              "      <td>46994.0</td>\n",
              "    </tr>\n",
              "    <tr>\n",
              "      <th>GBR</th>\n",
              "      <td>20.235426</td>\n",
              "      <td>13802.0</td>\n",
              "    </tr>\n",
              "  </tbody>\n",
              "</table>\n",
              "</div>\n",
              "      <button class=\"colab-df-convert\" onclick=\"convertToInteractive('df-9c1f1687-c294-465e-aabe-834942c8d9f7')\"\n",
              "              title=\"Convert this dataframe to an interactive table.\"\n",
              "              style=\"display:none;\">\n",
              "        \n",
              "  <svg xmlns=\"http://www.w3.org/2000/svg\" height=\"24px\"viewBox=\"0 0 24 24\"\n",
              "       width=\"24px\">\n",
              "    <path d=\"M0 0h24v24H0V0z\" fill=\"none\"/>\n",
              "    <path d=\"M18.56 5.44l.94 2.06.94-2.06 2.06-.94-2.06-.94-.94-2.06-.94 2.06-2.06.94zm-11 1L8.5 8.5l.94-2.06 2.06-.94-2.06-.94L8.5 2.5l-.94 2.06-2.06.94zm10 10l.94 2.06.94-2.06 2.06-.94-2.06-.94-.94-2.06-.94 2.06-2.06.94z\"/><path d=\"M17.41 7.96l-1.37-1.37c-.4-.4-.92-.59-1.43-.59-.52 0-1.04.2-1.43.59L10.3 9.45l-7.72 7.72c-.78.78-.78 2.05 0 2.83L4 21.41c.39.39.9.59 1.41.59.51 0 1.02-.2 1.41-.59l7.78-7.78 2.81-2.81c.8-.78.8-2.07 0-2.86zM5.41 20L4 18.59l7.72-7.72 1.47 1.35L5.41 20z\"/>\n",
              "  </svg>\n",
              "      </button>\n",
              "      \n",
              "  <style>\n",
              "    .colab-df-container {\n",
              "      display:flex;\n",
              "      flex-wrap:wrap;\n",
              "      gap: 12px;\n",
              "    }\n",
              "\n",
              "    .colab-df-convert {\n",
              "      background-color: #E8F0FE;\n",
              "      border: none;\n",
              "      border-radius: 50%;\n",
              "      cursor: pointer;\n",
              "      display: none;\n",
              "      fill: #1967D2;\n",
              "      height: 32px;\n",
              "      padding: 0 0 0 0;\n",
              "      width: 32px;\n",
              "    }\n",
              "\n",
              "    .colab-df-convert:hover {\n",
              "      background-color: #E2EBFA;\n",
              "      box-shadow: 0px 1px 2px rgba(60, 64, 67, 0.3), 0px 1px 3px 1px rgba(60, 64, 67, 0.15);\n",
              "      fill: #174EA6;\n",
              "    }\n",
              "\n",
              "    [theme=dark] .colab-df-convert {\n",
              "      background-color: #3B4455;\n",
              "      fill: #D2E3FC;\n",
              "    }\n",
              "\n",
              "    [theme=dark] .colab-df-convert:hover {\n",
              "      background-color: #434B5C;\n",
              "      box-shadow: 0px 1px 3px 1px rgba(0, 0, 0, 0.15);\n",
              "      filter: drop-shadow(0px 1px 2px rgba(0, 0, 0, 0.3));\n",
              "      fill: #FFFFFF;\n",
              "    }\n",
              "  </style>\n",
              "\n",
              "      <script>\n",
              "        const buttonEl =\n",
              "          document.querySelector('#df-9c1f1687-c294-465e-aabe-834942c8d9f7 button.colab-df-convert');\n",
              "        buttonEl.style.display =\n",
              "          google.colab.kernel.accessAllowed ? 'block' : 'none';\n",
              "\n",
              "        async function convertToInteractive(key) {\n",
              "          const element = document.querySelector('#df-9c1f1687-c294-465e-aabe-834942c8d9f7');\n",
              "          const dataTable =\n",
              "            await google.colab.kernel.invokeFunction('convertToInteractive',\n",
              "                                                     [key], {});\n",
              "          if (!dataTable) return;\n",
              "\n",
              "          const docLinkHtml = 'Like what you see? Visit the ' +\n",
              "            '<a target=\"_blank\" href=https://colab.research.google.com/notebooks/data_table.ipynb>data table notebook</a>'\n",
              "            + ' to learn more about interactive tables.';\n",
              "          element.innerHTML = '';\n",
              "          dataTable['output_type'] = 'display_data';\n",
              "          await google.colab.output.renderOutput(dataTable, element);\n",
              "          const docLink = document.createElement('div');\n",
              "          docLink.innerHTML = docLinkHtml;\n",
              "          element.appendChild(docLink);\n",
              "        }\n",
              "      </script>\n",
              "    </div>\n",
              "  </div>\n",
              "  "
            ]
          },
          "metadata": {},
          "execution_count": 18
        }
      ]
    },
    {
      "cell_type": "markdown",
      "source": [
        "### Creamos el gráfico\n",
        "Unificamos en uno sólo gráfico con dos subplots \"casos nuevos\" y \"nuevas muertes\""
      ],
      "metadata": {
        "id": "_81zsSiDUIJY"
      }
    },
    {
      "cell_type": "code",
      "source": [
        "plt.figure(figsize=(12,8))\n",
        "  \n",
        "plt.subplot(121) \n",
        "plt.bar(tabla_new_cases.index, tabla_new_cases['prop_casos']) \n",
        "plt.title('Fig 3 - Proporción Casos nuevos / Población', size = 16)\n",
        "plt.xlabel('Pais')\n",
        "plt.ylabel('Casos Nuevos')\n",
        "plt.xticks(rotation=50)\n",
        "  \n",
        "plt.subplot(122) \n",
        "plt.bar(tabla_new_deaths.index, tabla_new_deaths['prop_muertes'])\n",
        "plt.title('Proporción Nuevas Muertes / Población', size = 16)\n",
        "plt.xlabel('Pais')\n",
        "plt.ylabel('Nuevas Muertes')\n",
        "plt.xticks(rotation=50)"
      ],
      "metadata": {
        "id": "OrypVUbYOrHi",
        "colab": {
          "base_uri": "https://localhost:8080/",
          "height": 547
        },
        "outputId": "98d7d981-0767-4078-c003-db72df365642"
      },
      "execution_count": null,
      "outputs": [
        {
          "output_type": "execute_result",
          "data": {
            "text/plain": [
              "([0, 1, 2, 3, 4], <a list of 5 Text major ticklabel objects>)"
            ]
          },
          "metadata": {},
          "execution_count": 19
        },
        {
          "output_type": "display_data",
          "data": {
            "text/plain": [
              "<Figure size 864x576 with 2 Axes>"
            ],
            "image/png": "[encoded data removed]"
          },
          "metadata": {
            "needs_background": "light"
          }
        }
      ]
    },
    {
      "cell_type": "markdown",
      "source": [
        "#### Figura 5: Por pais (lineas) analizamos dos variables\n",
        "  - Numero de casos nuevos diarios\n",
        "  - Numero de VACUNADOS\n",
        "  "
      ],
      "metadata": {
        "id": "Yq1S7EZK2Qka"
      }
    },
    {
      "cell_type": "markdown",
      "source": [
        "##### Creamos una función para poder aplicar a cualquier pais\n",
        "Teniendo en cuenta que este tipo de gráfico por pais individual podria aplicarse a cualquier otro pais, es que decidimos crear esta función\n",
        "\n",
        "- el parámetro de la función `vacunadosNuevosCasos` es el país\n",
        "- Creamos la máscara con el parametro pasado desde la función\n",
        "- Filtramos los NaN rellenandolos con el método .fillna(method = \"bfill\") que rellena para atras con el primer valor presente\n",
        "- Reindexamos el df con la fecha\n",
        "- Generamos el gráfico de líneas "
      ],
      "metadata": {
        "id": "g__ud31-azfZ"
      }
    },
    {
      "cell_type": "code",
      "source": [
        "def vacunadosNuevosCasos(pais):\n",
        "  maskPais = casosPais[\"iso_code\"] == pais\n",
        "  casosPaisPais = casosPais[maskPais]\n",
        "  casosPaisPais[\"people_vaccinated\"] = casosPaisPais[\"people_vaccinated\"].fillna(method = \"bfill\")\n",
        "   \n",
        "  casosPaisPais = casosPaisPais.set_index(\"date\")\n",
        "\n",
        "  fig, ax = plt.subplots(figsize=(10,8))\n",
        "\n",
        "  lns1 = ax.plot(casosPaisPais.index, casosPaisPais[\"new_cases\"], color = \"blue\", label = \"Nuevos casos\")\n",
        "  plt.xticks(casosPaisPais.index, rotation = 90)\n",
        "  ax2 = ax.twinx()\n",
        "  lns2 = ax2.plot(casosPaisPais.index, casosPaisPais[\"people_vaccinated\"], color = \"red\", label = \"Personas vacunadas\")\n",
        "\n",
        "  ax.set_xlabel(\"\\n Fecha\")\n",
        "  ax.set_ylabel(\"Nuevos casos\")\n",
        "  ax2.set_ylabel(\"Personas vacunadas\")\n",
        "  ax.set_title(\"Figura 5 - Relación Nuevos Casos y Personas Vacunadas\")\n",
        "\n",
        "  lns = lns1+lns2\n",
        "  labs = [l.get_label() for l in lns]\n",
        "  ax.legend(lns, labs, loc = 'lower right')\n",
        "\n",
        "  plt.show()"
      ],
      "metadata": {
        "id": "7GWvmNFv2TAA"
      },
      "execution_count": null,
      "outputs": []
    },
    {
      "cell_type": "markdown",
      "source": [
        "### Probamos la función con un gráfico\n",
        "En este caso con 'GBR'"
      ],
      "metadata": {
        "id": "VQ3xb57FbqLI"
      }
    },
    {
      "cell_type": "code",
      "source": [
        "vacunadosNuevosCasos(\"GBR\")"
      ],
      "metadata": {
        "id": "8xx1QFfj2Vv3",
        "colab": {
          "base_uri": "https://localhost:8080/",
          "height": 679
        },
        "outputId": "da51dfed-14d5-42c7-b75a-26fec9887308"
      },
      "execution_count": null,
      "outputs": [
        {
          "output_type": "stream",
          "name": "stderr",
          "text": [
            "/usr/local/lib/python3.7/dist-packages/ipykernel_launcher.py:4: SettingWithCopyWarning: \n",
            "A value is trying to be set on a copy of a slice from a DataFrame.\n",
            "Try using .loc[row_indexer,col_indexer] = value instead\n",
            "\n",
            "See the caveats in the documentation: https://pandas.pydata.org/pandas-docs/stable/user_guide/indexing.html#returning-a-view-versus-a-copy\n",
            "  after removing the cwd from sys.path.\n"
          ]
        },
        {
          "output_type": "display_data",
          "data": {
            "text/plain": [
              "<Figure size 720x576 with 2 Axes>"
            ],
            "image/png": "[encoded data removed]"
          },
          "metadata": {
            "needs_background": "light"
          }
        }
      ]
    },
    {
      "cell_type": "markdown",
      "source": [
        "### Total de UTI"
      ],
      "metadata": {
        "id": "s3316bp_n7ow"
      }
    },
    {
      "cell_type": "markdown",
      "source": [
        "Tomamos los valores "
      ],
      "metadata": {
        "id": "R8ScSbMSk6bJ"
      }
    },
    {
      "cell_type": "code",
      "source": [
        "import matplotlib.dates as mdates\n",
        "\n",
        "fig, ax = plt.subplots(figsize=(6,6), constrained_layout=True)\n",
        "\n",
        "ax.twinx()\n",
        "\n",
        "for i in ['ARG','CHN','USA','GBR']:\n",
        "  x = df.loc[df['iso_code'] == i].icu_patients / df.loc[df['iso_code'] == i].population\n",
        "  y = df.loc[df['iso_code'] == i].date\n",
        "  ax.plot(y,x,label=i,linewidth = 2)\n",
        "\n",
        "ax.xaxis.set_major_formatter(mdates.ConciseDateFormatter(ax.xaxis.get_major_locator()))\n",
        "plt.title('Figura 6 - Pacientes en ICU')\n",
        "ax.grid(True)\n",
        "ax.set_ylabel('Tasa Pacientes en ICU por poblacion')\n",
        "ax.legend()\n",
        "plt.show()"
      ],
      "metadata": {
        "id": "VGI5xtd1oKby",
        "colab": {
          "base_uri": "https://localhost:8080/",
          "height": 457
        },
        "outputId": "1a32bf1c-9014-40de-8684-418b0d9247c8"
      },
      "execution_count": null,
      "outputs": [
        {
          "output_type": "display_data",
          "data": {
            "text/plain": [
              "<Figure size 432x432 with 2 Axes>"
            ],
            "image/png": "[encoded data removed]"
          },
          "metadata": {
            "needs_background": "light"
          }
        }
      ]
    },
    {
      "cell_type": "markdown",
      "source": [
        "## Casos según la mediana general y mayores de 65-70 años"
      ],
      "metadata": {
        "id": "5vdxyi1AB7dI"
      }
    },
    {
      "cell_type": "code",
      "source": [
        "tabla_median = df2[['median_age','iso_code']].groupby('iso_code').mean()\n",
        "tabla_median = tabla_median.sort_values(by = ['median_age'])"
      ],
      "metadata": {
        "id": "He8tjByVVSJT"
      },
      "execution_count": null,
      "outputs": []
    },
    {
      "cell_type": "code",
      "source": [
        "tabla_65_70 = df2[['aged_65_older', 'aged_70_older','iso_code']].groupby('iso_code').sum()\n",
        "tabla_65_70 = tabla_65_70.sort_values(by = ['aged_65_older'])"
      ],
      "metadata": {
        "id": "diw6fmg6WnzJ"
      },
      "execution_count": null,
      "outputs": []
    },
    {
      "cell_type": "code",
      "source": [
        "fig = plt.figure(figsize=(12,8))\n",
        "ax = fig.subplots(nrows=2, ncols=2)\n",
        "\n",
        "ax1 = plt.subplot2grid((2,2), (0,0)) \n",
        "plt.bar(tabla_65_70.index, tabla_65_70['aged_70_older'])\n",
        "plt.title('Figura 7 - Mayores de 70 años', size = 16)\n",
        "plt.xlabel('Pais')\n",
        "plt.ylabel('Nuevas Muertes')\n",
        "\n",
        "\n",
        "ax2 = plt.subplot2grid((2,2), (1,0))\n",
        "plt.bar(tabla_65_70.index, tabla_65_70['aged_65_older'])\n",
        "plt.title('Mayores de 65 años', size = 16)\n",
        "plt.xlabel('Pais')\n",
        "plt.ylabel('Nuevas Muertes')\n",
        "\n",
        "\n",
        "ax3 = plt.subplot2grid((2,2), (0,1), rowspan=2)\n",
        "plt.bar(tabla_median.index, tabla_median['median_age']) \n",
        "plt.title('Edad Mediana Promedio por Pais', size = 16)\n",
        "plt.xlabel('Pais')\n",
        "plt.ylabel('Edad Mediana Promedio')\n"
      ],
      "metadata": {
        "colab": {
          "base_uri": "https://localhost:8080/",
          "height": 533
        },
        "id": "W1wwq4SEW-Vj",
        "outputId": "c82ad064-929a-4703-9619-05ad0ef3e38b"
      },
      "execution_count": null,
      "outputs": [
        {
          "output_type": "execute_result",
          "data": {
            "text/plain": [
              "Text(0, 0.5, 'Edad Mediana Promedio')"
            ]
          },
          "metadata": {},
          "execution_count": 32
        },
        {
          "output_type": "display_data",
          "data": {
            "text/plain": [
              "<Figure size 864x576 with 3 Axes>"
            ],
            "image/png": "[encoded data removed]"
          },
          "metadata": {
            "needs_background": "light"
          }
        }
      ]
    },
    {
      "cell_type": "markdown",
      "source": [
        "---"
      ],
      "metadata": {
        "id": "ve7Y9Cqd_X5f"
      }
    },
    {
      "cell_type": "markdown",
      "source": [
        "# Paso 5: Conclusión\n",
        "\n",
        "La pandemia de COVID-19, conocida también como pandemia de coronavirus, es una pandemia actualmente en curso derivada de la enfermedad causada por el virus SARS-CoV-2. Inicialmente fue llamada «neumonía de Wuhan», puesto que los primeros casos fueron identificados en diciembre de 2019 en la ciudad china de Wuhan,​ al reportarse casos de un grupo de personas enfermas con un tipo de neumonía desconocida. La mayoría de los afectados tenía vinculación con trabajadores del Mercado mayorista de mariscos de Huanan.​ La Organización Mundial de la Salud (OMS) la declaró una emergencia de salud pública de importancia internacional el 30 de enero de 2020 y la reconoció como una pandemia el 11 de marzo de 2020, cuando informó que había 4291 muertos y 118 000 casos en 114 países.\n",
        "\n",
        "Analizamos lo ocurrido en la primer quincena de enero 2021 principalmente en número y evolución de los casos y estado de vacunación en una muestra que comprendió cinco países: Argentina, Estados Unidos, Inglaterra, Sudáfrica y China.\n",
        "\n",
        "\n",
        "\n"
      ],
      "metadata": {
        "id": "SDoG7Ol5k5JN"
      }
    },
    {
      "cell_type": "markdown",
      "source": [
        "#### Número de casos\n"
      ],
      "metadata": {
        "id": "FL9BbsYbnU8R"
      }
    },
    {
      "cell_type": "markdown",
      "source": [
        "Tal como se vio en la figura 1 y, asociado a la mayor población, EEUU mostró tener la mayor cantidad de casos / millón de hab. Mientras que China prácticamente no reportó casos a pesar de haber sido el foco de inicio de la pandemia.\n",
        "\n",
        "Todos los países (salvo China) mostraron en esos 15 dias un incremento de casos, en EEUU e Inglaterra en relación con las variantes estacionales, Sudafrica con la variante local en desarrollo y muy probablente en relación con la fiestas de fin de año ocurridas en los dias previos (figura 2)."
      ],
      "metadata": {
        "id": "YXi7_CmSn-b4"
      }
    },
    {
      "cell_type": "markdown",
      "source": [
        "#### Casos Nuevos y Muertes\n",
        "\n",
        "Cuando se evalúan casos nuevos se está viendo la incidencia actual mientras que las muertes es un reflejo del impacto que tuvo la pandemia en la población que enfermó, requirión internación hospitalaria o en UTI y terminó falleciendo por la enfermedad y sus co morbilidades (Figura 4). Ponderado por la población de cada pais, vemos que el impacto de casos nuevos y enfermedad en ese periodo de tiempo se lo llevó Inglaterra y EEUU, seguido por Sudáfrica. Es interesante notar el impacto en muertes en este país ponderado por población.\n"
      ],
      "metadata": {
        "id": "TCX_vX6Gpsqn"
      }
    },
    {
      "cell_type": "markdown",
      "source": [
        "#### Relación Vacunación y Casos nuevos\n",
        "\n",
        "En este caso se compararon dos paises, Argentina e Inglaterra, con programas de vacunación en ese momento muy diferentes (figura 5). Inglaterra fue pionera en este campo y vemos que a medida que avanzó la aplicación sistemática de vacunas el número de casos tendió a disminuir. En contrapartida esta misma relación en Argentina fue más errática. "
      ],
      "metadata": {
        "id": "tsjDsdpyriMB"
      }
    },
    {
      "cell_type": "markdown",
      "source": [
        "#### Casos UTI\n",
        "Conforme aumentaban los casos eso se tradujo en un aumento de pacientes que requirieron cuidados intensivos (Figura 6). "
      ],
      "metadata": {
        "id": "Wwx0v0g0sHg1"
      }
    },
    {
      "cell_type": "markdown",
      "source": [
        "#### Análisis por Edad\n",
        "La COVID es una enfermedad que en un inicio se caracterizó por afectar a la población añosa, con el correr de las mutaciones y variantes del virus la mediana de la edad fue bajando. En la Argentina y Sudáfrica por ejemplo éstas fueron más bajas que en EEUU e Inglaterra (Figura 7)."
      ],
      "metadata": {
        "id": "nmC9yoNOsYOW"
      }
    },
    {
      "cell_type": "markdown",
      "source": [
        "#### Conclusión final\n",
        "Este análisis nos mostró el impacto del virus SARS-CoV-2 en los distintos países seleccionados. Pudimos apreciar en cada instancia la deficiencia de los datos otorgados por el gobierno chino y su falta de compromiso a nivel global.\n",
        "También se observó como la aplicación de un programa de vacunación extenso fue eficiente para reducir los casos en países como Inglaterra. \n",
        "Por último pudimos ver los efectos de la enfermedad en el sistema de salud y edad media.\n"
      ],
      "metadata": {
        "id": "3lDhzZcT4XpJ"
      }
    },
    {
      "cell_type": "markdown",
      "source": [
        "---"
      ],
      "metadata": {
        "id": "rTT6T08t_Zvy"
      }
    },
    {
      "cell_type": "markdown",
      "source": [
        "# Paso 6: Almacenamiento de resultados"
      ],
      "metadata": {
        "id": "N7_qJtlek90u"
      }
    },
    {
      "cell_type": "markdown",
      "source": [
        "Procesamos la información ya obtenida del dataframe para almacenarla en un diccionario y almacenar el archivo."
      ],
      "metadata": {
        "id": "1BOPXPGb3O2U"
      }
    },
    {
      "cell_type": "code",
      "source": [
        "#Reseteamos el index del df\n",
        "df_final.reset_index(inplace=True)\n",
        "del df_final['index']"
      ],
      "metadata": {
        "id": "bD0E20bIg3Uy"
      },
      "execution_count": 75,
      "outputs": []
    },
    {
      "cell_type": "code",
      "source": [
        "#Se hace el filtrado solicitado del dataframe y se lo almacena en ID con la estructura de diccionario\n",
        "dfID = df_final[['location', 'date', 'new_cases', 'new_deaths', 'total_vaccinations']]\n",
        "print(dfID)\n",
        "ID = dfID.to_dict(orient=\"list\")\n",
        "print(ID)"
      ],
      "metadata": {
        "id": "vEwQheo0lJJf",
        "colab": {
          "base_uri": "https://localhost:8080/"
        },
        "outputId": "23694cde-46a4-42a4-a5c4-ad3902ffd219"
      },
      "execution_count": 76,
      "outputs": [
        {
          "output_type": "stream",
          "name": "stdout",
          "text": [
            "         location       date  new_cases  new_deaths  total_vaccinations\n",
            "0       Argentina 2021-01-01     4080.0        74.0               43525\n",
            "1       Argentina 2021-01-02     5240.0        56.0               46837\n",
            "2       Argentina 2021-01-03     5884.0       107.0               47279\n",
            "3       Argentina 2021-01-04     8222.0       152.0               57739\n",
            "4       Argentina 2021-01-05    13790.0       151.0               68465\n",
            "..            ...        ...        ...         ...                 ...\n",
            "70  United States 2021-01-11   203970.0      1834.0            12915246\n",
            "71  United States 2021-01-12   221820.0      4368.0            14174750\n",
            "72  United States 2021-01-13   229342.0      4012.0            15499372\n",
            "73  United States 2021-01-14   235580.0      3776.0            16816169\n",
            "74  United States 2021-01-15   244996.0      3808.0            18074291\n",
            "\n",
            "[75 rows x 5 columns]\n",
            "{'location': ['Argentina', 'Argentina', 'Argentina', 'Argentina', 'Argentina', 'Argentina', 'Argentina', 'Argentina', 'Argentina', 'Argentina', 'Argentina', 'Argentina', 'Argentina', 'Argentina', 'Argentina', 'China', 'China', 'China', 'China', 'China', 'China', 'China', 'China', 'China', 'China', 'China', 'China', 'China', 'China', 'China', 'South Africa', 'South Africa', 'South Africa', 'South Africa', 'South Africa', 'South Africa', 'South Africa', 'South Africa', 'South Africa', 'South Africa', 'South Africa', 'South Africa', 'South Africa', 'South Africa', 'South Africa', 'United Kingdom', 'United Kingdom', 'United Kingdom', 'United Kingdom', 'United Kingdom', 'United Kingdom', 'United Kingdom', 'United Kingdom', 'United Kingdom', 'United Kingdom', 'United Kingdom', 'United Kingdom', 'United Kingdom', 'United Kingdom', 'United Kingdom', 'United States', 'United States', 'United States', 'United States', 'United States', 'United States', 'United States', 'United States', 'United States', 'United States', 'United States', 'United States', 'United States', 'United States', 'United States'], 'date': [Timestamp('2021-01-01 00:00:00'), Timestamp('2021-01-02 00:00:00'), Timestamp('2021-01-03 00:00:00'), Timestamp('2021-01-04 00:00:00'), Timestamp('2021-01-05 00:00:00'), Timestamp('2021-01-06 00:00:00'), Timestamp('2021-01-07 00:00:00'), Timestamp('2021-01-08 00:00:00'), Timestamp('2021-01-09 00:00:00'), Timestamp('2021-01-10 00:00:00'), Timestamp('2021-01-11 00:00:00'), Timestamp('2021-01-12 00:00:00'), Timestamp('2021-01-13 00:00:00'), Timestamp('2021-01-14 00:00:00'), Timestamp('2021-01-15 00:00:00'), Timestamp('2021-01-01 00:00:00'), Timestamp('2021-01-02 00:00:00'), Timestamp('2021-01-03 00:00:00'), Timestamp('2021-01-04 00:00:00'), Timestamp('2021-01-05 00:00:00'), Timestamp('2021-01-06 00:00:00'), Timestamp('2021-01-07 00:00:00'), Timestamp('2021-01-08 00:00:00'), Timestamp('2021-01-09 00:00:00'), Timestamp('2021-01-10 00:00:00'), Timestamp('2021-01-11 00:00:00'), Timestamp('2021-01-12 00:00:00'), Timestamp('2021-01-13 00:00:00'), Timestamp('2021-01-14 00:00:00'), Timestamp('2021-01-15 00:00:00'), Timestamp('2021-01-01 00:00:00'), Timestamp('2021-01-02 00:00:00'), Timestamp('2021-01-03 00:00:00'), Timestamp('2021-01-04 00:00:00'), Timestamp('2021-01-05 00:00:00'), Timestamp('2021-01-06 00:00:00'), Timestamp('2021-01-07 00:00:00'), Timestamp('2021-01-08 00:00:00'), Timestamp('2021-01-09 00:00:00'), Timestamp('2021-01-10 00:00:00'), Timestamp('2021-01-11 00:00:00'), Timestamp('2021-01-12 00:00:00'), Timestamp('2021-01-13 00:00:00'), Timestamp('2021-01-14 00:00:00'), Timestamp('2021-01-15 00:00:00'), Timestamp('2021-01-01 00:00:00'), Timestamp('2021-01-02 00:00:00'), Timestamp('2021-01-03 00:00:00'), Timestamp('2021-01-04 00:00:00'), Timestamp('2021-01-05 00:00:00'), Timestamp('2021-01-06 00:00:00'), Timestamp('2021-01-07 00:00:00'), Timestamp('2021-01-08 00:00:00'), Timestamp('2021-01-09 00:00:00'), Timestamp('2021-01-10 00:00:00'), Timestamp('2021-01-11 00:00:00'), Timestamp('2021-01-12 00:00:00'), Timestamp('2021-01-13 00:00:00'), Timestamp('2021-01-14 00:00:00'), Timestamp('2021-01-15 00:00:00'), Timestamp('2021-01-01 00:00:00'), Timestamp('2021-01-02 00:00:00'), Timestamp('2021-01-03 00:00:00'), Timestamp('2021-01-04 00:00:00'), Timestamp('2021-01-05 00:00:00'), Timestamp('2021-01-06 00:00:00'), Timestamp('2021-01-07 00:00:00'), Timestamp('2021-01-08 00:00:00'), Timestamp('2021-01-09 00:00:00'), Timestamp('2021-01-10 00:00:00'), Timestamp('2021-01-11 00:00:00'), Timestamp('2021-01-12 00:00:00'), Timestamp('2021-01-13 00:00:00'), Timestamp('2021-01-14 00:00:00'), Timestamp('2021-01-15 00:00:00')], 'new_cases': [4080.0, 5240.0, 5884.0, 8222.0, 13790.0, 13441.0, 13835.0, 13346.0, 11057.0, 7808.0, 8704.0, 13783.0, 12725.0, 13286.0, 12332.0, 36.0, 47.0, 36.0, 69.0, 64.0, 119.0, 128.0, 85.0, 106.0, 97.0, 100.0, 191.0, 134.0, 212.0, 176.0, 16726.0, 15002.0, 11859.0, 12601.0, 14410.0, 21832.0, 20999.0, 21980.0, 21606.0, 17421.0, 15046.0, 13105.0, 18555.0, 18503.0, 14880.0, 53312.0, 57748.0, 55011.0, 58801.0, 60944.0, 62350.0, 52645.0, 68070.0, 59951.0, 54951.0, 46214.0, 45552.0, 47540.0, 48692.0, 55778.0, 178908.0, 272282.0, 203396.0, 185515.0, 232863.0, 259765.0, 286251.0, 304076.0, 264750.0, 210846.0, 203970.0, 221820.0, 229342.0, 235580.0, 244996.0], 'new_deaths': [74.0, 56.0, 107.0, 152.0, 151.0, 191.0, 146.0, 151.0, 144.0, 78.0, 159.0, 194.0, 135.0, 142.0, 102.0, 0.0, 0.0, 0.0, 0.0, 0.0, 0.0, 0.0, 0.0, 0.0, 0.0, 0.0, 0.0, 1.0, 0.0, 0.0, 418.0, 288.0, 402.0, 434.0, 513.0, 844.0, 441.0, 616.0, 399.0, 339.0, 416.0, 755.0, 806.0, 712.0, 615.0, 614.0, 447.0, 454.0, 407.0, 874.0, 1044.0, 1166.0, 1327.0, 1038.0, 564.0, 529.0, 1243.0, 1566.0, 1248.0, 1281.0, 2242.0, 2540.0, 1423.0, 1973.0, 3594.0, 3910.0, 4013.0, 4178.0, 3235.0, 2088.0, 1834.0, 4368.0, 4012.0, 3776.0, 3808.0], 'total_vaccinations': [43525, 46837, 47279, 57739, 68465, 78573, 96795, 124678, 134886, 136061, 155885, 175273, 192039, 208684, 226123, 5352207, 5352207, 5352207, 5352207, 5352207, 5352207, 5352207, 5352207, 9000000, 5352207, 5352207, 5352207, 10000000, 5352207, 5352207, 5352207, 5352207, 5352207, 5352207, 5352207, 5352207, 5352207, 5352207, 5352207, 5352207, 5352207, 5352207, 5352207, 5352207, 5352207, 5352207, 5352207, 5352207, 5352207, 5352207, 5352207, 5352207, 5352207, 5352207, 2677971, 2843815, 3067541, 3356229, 3678180, 4023705, 5759751, 6023847, 6163000, 6820894, 7652717, 8676053, 9846784, 11083840, 11592606, 11844294, 12915246, 14174750, 15499372, 16816169, 18074291]}\n"
          ]
        }
      ]
    },
    {
      "cell_type": "code",
      "source": [
        "#Se almacenan los datos con la estructura solicitada en un archivo CSV denominado ArchivoID\n",
        "ArchivoID=pd.DataFrame(ID)\n",
        "ArchivoID.to_csv(\"./sample_data/ArchivoID.csv\")"
      ],
      "metadata": {
        "id": "FAL8ueRVdbhD"
      },
      "execution_count": 77,
      "outputs": []
    }
  ]
}