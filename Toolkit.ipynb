{
  "nbformat": 4,
  "nbformat_minor": 0,
  "metadata": {
    "colab": {
      "name": "Toolkit.ipynb",
      "provenance": [],
      "collapsed_sections": [],
      "authorship_tag": "ABX9TyMcGfbcZH3qZOOedSPf2Yse",
      "include_colab_link": true
    },
    "kernelspec": {
      "name": "python3",
      "display_name": "Python 3"
    },
    "language_info": {
      "name": "python"
    }
  },
  "cells": [
    {
      "cell_type": "markdown",
      "metadata": {
        "id": "view-in-github",
        "colab_type": "text"
      },
      "source": [
        "<a href=\"https://colab.research.google.com/github/ri1965/Toolkits/blob/main/Toolkit.ipynb\" target=\"_parent\"><img src=\"https://colab.research.google.com/assets/colab-badge.svg\" alt=\"Open In Colab\"/></a>"
      ]
    },
    {
      "cell_type": "markdown",
      "source": [
        "# Toolkit"
      ],
      "metadata": {
        "id": "_In96euoVWqk"
      }
    },
    {
      "cell_type": "markdown",
      "source": [
        "## Diccionarios"
      ],
      "metadata": {
        "id": "idDetmKZVP2w"
      }
    },
    {
      "cell_type": "markdown",
      "source": [
        "Se importan las librerias para csv y numpy.\n",
        "\n",
        "Se crean dos diccionarios vacios, uno que va a contener una clave y como valor un diccionario. \n",
        "\n",
        "El csv.DictReader lee el csv y lo transforma en un diccionario plano.\n",
        "\n",
        "Se pasan todas las columnas variables. La 1º columna va a ser la clave del diccionario ppal y el resto se va a conformar en el sub diccionario.\n",
        "\n"
      ],
      "metadata": {
        "id": "wZkUG72dfMun"
      }
    },
    {
      "cell_type": "code",
      "execution_count": null,
      "metadata": {
        "id": "cyMrxZIXVOzO"
      },
      "outputs": [],
      "source": [
        "import csv\n",
        "import numpy as np\n",
        "dic = {}\n",
        "dic_datos = {}\n",
        "with open('./sample_data/contenido1.csv', mode='r', encoding=\"utf8\", errors='ignore') as csv_file:\n",
        "    csv_reader = csv.DictReader(csv_file)\n",
        "    for row in csv_reader:\n",
        "            leg = row ['leg'] #Obtenemos el legajo y lo utilizamos como Key del diccionario padre\n",
        "            \n",
        "            # Tomamos los siguientes datos y los guardamos en diferentes variables\n",
        "            nombre_vendedor = row[\"nombre_vendedor\"]\n",
        "            apellido_vendedor = row [\"apellido_vendedor\"]\n",
        "            sucursal = row [\"sucursal\"]\n",
        "            provincia = row [\"provincia\"]\n",
        "            total_venta = row [\"total_venta\"]\n",
        "            \n",
        "            #Creamos el diccionario embebido con los datos recolecatdos en el bloque anterior\n",
        "            dic_datos = {'nombre_vendedor':nombre_vendedor,\n",
        "                         'apellido_vendedor':apellido_vendedor,\n",
        "                         'sucursal':sucursal,\n",
        "                         'provincia':provincia,\n",
        "                         'total_venta':total_venta\n",
        "                         }\n",
        "            \n",
        "            # Creamos el diccionario completo con el legajo como Key\n",
        "            dic[leg] = dic_datos\n",
        "\n",
        "\n",
        "dic"
      ]
    },
    {
      "cell_type": "code",
      "source": [
        "import matplotlib.pyplot as plt\n",
        "fig = plt.figure()\n",
        "ax = fig.add_axes([0,0,1,1])  #Establecemos ejes\n",
        "vendedores = []\n",
        "\n",
        "for k in dic.keys(): \n",
        "  vendedores.append(dic[k].get('nombre_vendedor'))  # Agregamos los nombres de los vendedores a la lista. Axes is positionned in absolute coordinates on the canvas\n",
        "\n",
        "ax.bar(vendedores,arr) #Establecemos en el eje X a \"Vendedores\" y a Eje Y a \"arr\"\n",
        "plt.show() #Ploteamos"
      ],
      "metadata": {
        "id": "oRZB9ub7fLi1"
      },
      "execution_count": null,
      "outputs": []
    }
  ]
}