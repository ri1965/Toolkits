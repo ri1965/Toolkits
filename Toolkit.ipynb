{
  "nbformat": 4,
  "nbformat_minor": 0,
  "metadata": {
    "colab": {
      "name": "Toolkit.ipynb",
      "provenance": [],
      "authorship_tag": "ABX9TyPssRZoWOCpPHCq4uLyYsEv",
      "include_colab_link": true
    },
    "kernelspec": {
      "name": "python3",
      "display_name": "Python 3"
    },
    "language_info": {
      "name": "python"
    }
  },
  "cells": [
    {
      "cell_type": "markdown",
      "metadata": {
        "id": "view-in-github",
        "colab_type": "text"
      },
      "source": [
        "<a href=\"https://colab.research.google.com/github/ri1965/Toolkits/blob/main/Toolkit.ipynb\" target=\"_parent\"><img src=\"https://colab.research.google.com/assets/colab-badge.svg\" alt=\"Open In Colab\"/></a>"
      ]
    },
    {
      "cell_type": "markdown",
      "source": [
        "# Toolkit"
      ],
      "metadata": {
        "id": "_In96euoVWqk"
      }
    },
    {
      "cell_type": "markdown",
      "source": [
        "## Diccionarios"
      ],
      "metadata": {
        "id": "idDetmKZVP2w"
      }
    },
    {
      "cell_type": "code",
      "execution_count": null,
      "metadata": {
        "id": "cyMrxZIXVOzO"
      },
      "outputs": [],
      "source": [
        "import csv\n",
        "import numpy as np\n",
        "dic = {}\n",
        "dic_datos = {}\n",
        "with open('./sample_data/contenido1.csv', mode='r', encoding=\"utf8\", errors='ignore') as csv_file:\n",
        "    csv_reader = csv.DictReader(csv_file)\n",
        "    for row in csv_reader:\n",
        "            leg = row ['leg'] #Obtenemos el legajo y lo utilizamos como Key del diccionario padre\n",
        "            \n",
        "            # Tomamos los siguientes datos y los guardamos en diferentes variables\n",
        "            nombre_vendedor = row[\"nombre_vendedor\"]\n",
        "            apellido_vendedor = row [\"apellido_vendedor\"]\n",
        "            sucursal = row [\"sucursal\"]\n",
        "            provincia = row [\"provincia\"]\n",
        "            total_venta = row [\"total_venta\"]\n",
        "            \n",
        "            #Creamos el diccionario embebido con los datos recolecatdos en el bloque anterior\n",
        "            dic_datos = {'nombre_vendedor':nombre_vendedor,\n",
        "                         'apellido_vendedor':apellido_vendedor,\n",
        "                         'sucursal':sucursal,\n",
        "                         'provincia':provincia,\n",
        "                         'total_venta':total_venta\n",
        "                         }\n",
        "            \n",
        "            # Creamos el diccionario completo con el legajo como Key\n",
        "            dic[leg] = dic_datos\n",
        "\n",
        "\n",
        "dic"
      ]
    }
  ]
}