{
  "cells": [
    {
      "cell_type": "markdown",
      "metadata": {
        "id": "view-in-github",
        "colab_type": "text"
      },
      "source": [
        "<a href=\"https://colab.research.google.com/github/ri1965/Toolkits/blob/main/Dciccionarios_TP_Gr%C3%A1ficos_Matplotlib.ipynb\" target=\"_parent\"><img src=\"https://colab.research.google.com/assets/colab-badge.svg\" alt=\"Open In Colab\"/></a>"
      ]
    },
    {
      "cell_type": "markdown",
      "source": [
        ""
      ],
      "metadata": {
        "id": "JDzIVbvkAvjz"
      }
    },
    {
      "cell_type": "code",
      "execution_count": null,
      "metadata": {
        "colab": {
          "base_uri": "https://localhost:8080/"
        },
        "id": "K4qILk35IHEg",
        "outputId": "242bfd70-d1ee-4323-8085-da3ecbb984ec"
      },
      "outputs": [
        {
          "name": "stdout",
          "output_type": "stream",
          "text": [
            "ingrese c para cargar cliente\n",
            " p para cargar pedido\n",
            " v para ver data de cliente o de pedidos\n",
            " vcp para ver pedidos por clientes\n",
            " \n"
          ]
        }
      ],
      "source": [
        "# https://github.com/al34n1x/DataScience/blob/master/1.Intro/appendix.Ejercicios_Diccionario_Archivos.ipynb\n",
        "\n",
        "import csv\n",
        "\n",
        "clientesPath = './clientesDB.csv'\n",
        "pedidosPath = './pedidosDB.csv'\n",
        "fieldnamesClientes = ['idCliente','razon_social','cuit','direccion']\n",
        "fieldnamesPedidos = ['idPedido','producto','cantidad']\n",
        "\n",
        "def ultimaID(path):\n",
        "  try:\n",
        "    row = 1\n",
        "    with open(path, mode = 'r') as f:\n",
        "      reader = csv.DictReader(f, delimiter = ',')\n",
        "      for line in reader:\n",
        "        row += 1\n",
        "  except FileNotFoundError:\n",
        "    row = 1\n",
        "  return row\n",
        "\n",
        "\n",
        "\n",
        "def cargaClientes():\n",
        "    dic = {}\n",
        "    print(\"ingrese los datos del user\")\n",
        "    dic['idCliente'] = ultimaID(clientesPath)\n",
        "    dic['razon_social'] = input(\"Razon Social: \")\n",
        "    dic['cuit'] = input(\"Cuit: \")\n",
        "    dic['direccion'] = input(\"Direccion: \")\n",
        "\n",
        "    return dic\n",
        "\n",
        "def escribirDict(path,dict,fieldnames):\n",
        "    if dict == 0:\n",
        "        print('Error')\n",
        "        return 0\n",
        "    with open(path,'a',newline='') as f:\n",
        "        writer = csv.DictWriter(f,fieldnames=fieldnames)\n",
        "        if f.tell() == 0:  #file.tell() devuelve la posicion actual del archivo, si es igual a 0 es porq no tiene header\n",
        "            writer.writeheader()\n",
        "        writer.writerow(dict)\n",
        "\n",
        "def buscarIdCliente(id):\n",
        "        file = csv.DictReader(open(clientesPath))\n",
        "        for row in file:\n",
        "            if row['idCliente'] == id:\n",
        "                return True  \n",
        "        return False\n",
        "\n",
        "def cargaPedido():\n",
        "    dic = {}\n",
        "    dic['idPedido'] = input('idPedido: ')\n",
        "    if not buscarIdCliente(dic['idPedido']):\n",
        "        print('no se encontro el ID de cliente: ' + dic['idPedido'])\n",
        "        return 0\n",
        "    dic['producto'] = input('Producto: ')\n",
        "    dic['cantidad'] = input('Cantidad: ')\n",
        "    return dic\n",
        "\n",
        "def buscarCliente():\n",
        "    while True: \n",
        "        busqueda = input(\"1: Buscar por Razón Social\\n2: Buscar por CUIT\\n3: Buscar por dirección\\n\") \n",
        "        if busqueda == \"1\":\n",
        "            claveBusqueda = \"razon_social\"\n",
        "            datoBusqueda = input(\"Ingrese la Razón Social:\\n\")\n",
        "            devuelveCliente(claveBusqueda, datoBusqueda)\n",
        "            break\n",
        "        elif busqueda == \"2\":\n",
        "            claveBusqueda = \"cuit\"\n",
        "            datoBusqueda = input(\"Ingrese el número de CUIT:\\n\")\n",
        "            devuelveCliente(claveBusqueda, datoBusqueda)\n",
        "            break\n",
        "        elif busqueda == \"3\":\n",
        "            claveBusqueda = \"direccion\"\n",
        "            datoBusqueda = input(\"Ingrese el número de CUIT:\\n\")\n",
        "            devuelveCliente(claveBusqueda, datoBusqueda)\n",
        "            break\n",
        "        else:\n",
        "            print(\"Ingresó un número erróneo\")\n",
        "\n",
        "def devuelveCliente(claveBusqueda, datoBusqueda):            \n",
        "    with open(clientesPath, mode='r') as csv_file:\n",
        "        csv_reader = csv.DictReader(csv_file)\n",
        "        \n",
        "        for row in csv_reader:\n",
        "            if row[claveBusqueda] == datoBusqueda:\n",
        "                print(row)\n",
        "\n",
        "def buscarPedido():\n",
        "    while True: \n",
        "        busqueda = input(\"1: Buscar por ID\\n2: Pedido\\n3: Cantidad\\n\") \n",
        "        if busqueda == \"1\":\n",
        "            claveBusqueda = \"idPedido\"\n",
        "            datoBusqueda = input(\"Ingrese ID:\\n\")\n",
        "            devuelvePedido(claveBusqueda, datoBusqueda)\n",
        "            break\n",
        "        elif busqueda == \"2\":\n",
        "            claveBusqueda = \"producto\"\n",
        "            datoBusqueda = input(\"Producto:\\n\")\n",
        "            devuelvePedido(claveBusqueda, datoBusqueda)\n",
        "            break\n",
        "        elif busqueda == \"3\":\n",
        "            claveBusqueda = \"cantidad\"\n",
        "            datoBusqueda = input(\"Cantidad:\\n\")\n",
        "            devuelvePedido(claveBusqueda, datoBusqueda)\n",
        "            break\n",
        "        else:\n",
        "            print(\"Ingresó un número erróneo\")\n",
        "\n",
        "def devuelvePedido(claveBusqueda, datoBusqueda):            \n",
        "    with open(pedidosPath, mode='r') as csv_file:\n",
        "        csv_reader = csv.DictReader(csv_file)\n",
        "        \n",
        "        for row in csv_reader:\n",
        "            if row[claveBusqueda] == datoBusqueda:\n",
        "                print(row)\n",
        "\n",
        "def mostrarTablas():\n",
        "    import csv\n",
        "    # se pide ingresar la opcion a visualizar, para clientes 1, para pedidos 2\n",
        "    n=int(input('si desea ver los Clientes ingrese 1, si desea ver los Pedidos ingrese 2: '))\n",
        "    if n==1:\n",
        "        ruta = './clientesDB.csv'\n",
        "    elif n==2:\n",
        "        ruta = './pedidosDB.csv'\n",
        "    else:\n",
        "        print(\"ingrese una opcion valida\")\n",
        "    with open(ruta, newline='') as csvfile:\n",
        "        reader = csv.reader(csvfile, delimiter=',', quotechar='\"')\n",
        "        for row in reader:\n",
        "            print(', '.join(row))\n",
        "\n",
        "\n",
        "def buscarPedido():\n",
        "\n",
        "    claveBusqueda = input(\"Ingrese la Razón Social: \") \n",
        "    with open(clientesPath, mode='r') as csv_file:\n",
        "      csv_reader = csv.DictReader(csv_file)\n",
        "      for row in csv_reader:\n",
        "          if row['razon_social'] == claveBusqueda:\n",
        "            datoBusqueda = row['idCliente']\n",
        "\n",
        "\n",
        "    devuelvePedido(datoBusqueda)\n",
        "    \n",
        "def devuelvePedido(datoBusqueda):            \n",
        "    with open(pedidosPath, mode='r') as csv_file:\n",
        "        csv_reader = csv.DictReader(csv_file)\n",
        "        \n",
        "        for row in csv_reader:\n",
        "            if row['idPedido'] == datoBusqueda:\n",
        "                print(f'El producto es {row[\"producto\"]}, cantidad: {row[\"cantidad\"]}')\n",
        "\n",
        "def main():\n",
        "    while True:\n",
        "        userInput = input(\"ingrese c para cargar cliente\\n p para cargar pedido\\n v para ver data de cliente o de pedidos\\n vcp para ver pedidos por clientes\\n \")\n",
        "        if( userInput == 'c'):\n",
        "                cliente = cargaClientes()\n",
        "                escribirDict(clientesPath,cliente,fieldnamesClientes)\n",
        "        elif(userInput == 'p'):\n",
        "            pedido = cargaPedido()\n",
        "            escribirDict(pedidosPath,pedido,fieldnamesPedidos)\n",
        "        elif(userInput == 'v'):\n",
        "            pedido = mostrarTablas()\n",
        "        elif userInput == 'vcp':\n",
        "            buscarPedido()\n",
        "        else:\n",
        "            break\n",
        "\n",
        "\n",
        "main()"
      ]
    },
    {
      "cell_type": "markdown",
      "source": [
        "# Consignas del TP\n",
        "\n",
        "Ejercicios Diccionarios y archivos\n",
        "\n",
        "\n",
        "Una empresa de logística posee una base de clientes con la siguiente información:\n",
        "- idClient: (int)\n",
        "  - Razon Social: (string)\n",
        "  - cuit: (string)\n",
        "  - direccion: (string)\n",
        "\n",
        "\n",
        "Por otro lado, la empresa cuenta con una base de los pedidos realizados por los clientes, dicha base cuenta con la siguiente estructura:\n",
        "idPedido: (int)\n",
        "  - idCliente: (int)\n",
        "  - producto: (string)\n",
        "  - cantidad: (int)\n",
        "\n",
        "\n",
        "Completar los siguiente Ítems:\n",
        "1. Crear una función que permita la carga de clientes y los guarde en un archivo (Utilizar manejo de excepciones)\n",
        "2. Crear una función que permita la carga de pedidos y los guarde en un archivo (Utilizar manejo de excepciones)\n",
        "3. Crear una función que imprima por pantalla el listado de clientes.\n",
        "4. Crear una función que imprima por pantalla el listado de pedidos.\n",
        "5. [BONUS] Crear una función que le pase el id or razón social de un cliente y me liste todos los pedidos realizados.\n",
        "\n"
      ],
      "metadata": {
        "id": "TVZBpC0TL7dT"
      }
    },
    {
      "cell_type": "markdown",
      "source": [
        "## Importamos libreria csv y creamos las constantes"
      ],
      "metadata": {
        "id": "zLPnM_eVMKeL"
      }
    },
    {
      "cell_type": "code",
      "source": [
        "import csv\n",
        "\n",
        "clientesPath = './content/sample_data/clientesDB.csv'\n",
        "pedidosPath = './pedidosDB.csv'\n",
        "fieldnamesClientes = ['idClient','Razon Social','Cuit','Direccion']\n",
        "fieldnamesPedidos = ['idPedido','Producto','Cantidad']"
      ],
      "metadata": {
        "id": "7FbLeqCCL675"
      },
      "execution_count": null,
      "outputs": []
    },
    {
      "cell_type": "markdown",
      "source": [
        "## Función `ultimaID(path)`\n",
        "\n",
        "Toma como parámetro el path del archivo a trabajar. \n",
        "\n",
        "Realiza la suma de todas las líneas recorriendo el `csv` con lo que la suma de `row` es el último `id` se de cliente o pedidos. "
      ],
      "metadata": {
        "id": "OtOjVeyAMYOj"
      }
    },
    {
      "cell_type": "code",
      "source": [
        "def ultimaID(path):\n",
        "  try:\n",
        "    row = 1\n",
        "    with open(path, mode = 'r') as f:\n",
        "      reader = csv.DictReader(f, delimiter = ',')\n",
        "      for line in reader:\n",
        "        row += 1\n",
        "  except FileNotFoundError:\n",
        "    row = 1\n",
        "  return row\n"
      ],
      "metadata": {
        "id": "yg9f48ksMZIK"
      },
      "execution_count": null,
      "outputs": []
    },
    {
      "cell_type": "markdown",
      "source": [
        "## Función `cargaClientes()`\n",
        "Empieza definiendo un diccionario vacio y \n",
        "- adjudica a idCliente el valor \n",
        "\n",
        "- Pide los datos del `csv` de los clientes\n",
        "  - Razón Social\n",
        "  - Cuit\n",
        "  - Dirección"
      ],
      "metadata": {
        "id": "Jj_DViX8NqF5"
      }
    },
    {
      "cell_type": "code",
      "source": [
        "def cargaClientes():\n",
        "    dic = {}\n",
        "    print(\"ingrese los datos del user\")\n",
        "    dic['idClient'] = ultimaID(clientesPath)\n",
        "    dic['Razon Social'] = input(\"Razon Social: \")\n",
        "    dic['Cuit'] = input(\"Cuit: \")\n",
        "    dic['Direccion'] = input(\"Direccion: \")\n",
        "\n",
        "    return dic"
      ],
      "metadata": {
        "id": "bV9NoXWnNqnS"
      },
      "execution_count": null,
      "outputs": []
    },
    {
      "cell_type": "markdown",
      "source": [
        "## Función `escribirDict(path,dict,fieldnames)`\n",
        "\n",
        "Toma como parámetros\n",
        "- `path` es el path correspondiente al archivo en donde se va a grabar el `csv` \n",
        "- `dict` es el diccionario que toma los datos para generar el `csv``\n",
        "- `fieldnames` es una lista con los nombres de campos que van a ser el encabezado del csv\n",
        "\n",
        "Se realiza una primer verificación que imprime `Error` si no existe el diccionario pasado como parámetro.\n",
        "\n",
        "Utiliza el método `.tell()` para verificar si existe el encabezado o no.\n",
        "\n",
        "Agrega los datos del diccionario al `csv`"
      ],
      "metadata": {
        "id": "-DDuBohUPNb_"
      }
    },
    {
      "cell_type": "code",
      "source": [
        "def escribirDict(path,dict,fieldnames):\n",
        "    if dict == 0:\n",
        "        print('Error')\n",
        "        return 0\n",
        "    with open(path,'a',newline='') as f:\n",
        "        writer = csv.DictWriter(f,fieldnames=fieldnames)\n",
        "        if f.tell() == 0:  #file.tell() devuelve la posicion actual del archivo, si es igual a 0 es porq no tiene header\n",
        "            writer.writeheader()\n",
        "        writer.writerow(dict)"
      ],
      "metadata": {
        "id": "HuWDhE2OPODB"
      },
      "execution_count": null,
      "outputs": []
    },
    {
      "cell_type": "markdown",
      "source": [
        "## Función `buscaIdCliente(id)`\n",
        "\n",
        "Toma el parámetro id.\n",
        "\n",
        "Pasa los datos del `csv` a una variable abierto como diccionario y recorre las filas cotejando si idCliente es igual al ingresado como parámetro.\n",
        "\n",
        "Devuelve `True` o `False`\n"
      ],
      "metadata": {
        "id": "Syn21OE-Sjdt"
      }
    },
    {
      "cell_type": "code",
      "source": [
        "def buscarIdCliente(id):\n",
        "        file = csv.DictReader(open(clientesPath))\n",
        "        for row in file:\n",
        "            if row['idClient'] == id:\n",
        "                return True\n",
        "        \n",
        "        return False"
      ],
      "metadata": {
        "id": "pYMDgC4USkM3"
      },
      "execution_count": null,
      "outputs": []
    },
    {
      "cell_type": "markdown",
      "source": [
        "## Función `cargaPedido()`\n",
        "\n",
        "Empieza definiendo un diccionario vacio y \n",
        "- adjudica a idPedido el valor ingresado por el usuario\n",
        "\n",
        "- Utiliza la función `buscarIdCliente`que toma como parámetro el `idPedido`\n",
        "    \n",
        "- Ingreso por el usuario de\n",
        "  - `Producto`\n",
        "  - `Cantidad`\n",
        "\n",
        "Devuelve el diccionario"
      ],
      "metadata": {
        "id": "j8CaHz6HTgmH"
      }
    },
    {
      "cell_type": "code",
      "source": [
        "def cargaPedido():\n",
        "    dic = {}\n",
        "    dic['idPedido'] = input('idPedido: ')\n",
        "    if not buscarIdCliente(dic['idPedido']):\n",
        "        print('no se encontro el ID de cliente: ' + dic['idPedido'])\n",
        "        return 0\n",
        "    dic['Producto'] = input('Producto: ')\n",
        "    dic['Cantidad'] = input('Cantidad: ')\n",
        "\n",
        "    return dic"
      ],
      "metadata": {
        "id": "j1WIfzbzTgLP"
      },
      "execution_count": null,
      "outputs": []
    },
    {
      "cell_type": "markdown",
      "source": [
        "## Funcion de búsqueda de pedidos"
      ],
      "metadata": {
        "id": "NryM47mfgh6E"
      }
    },
    {
      "cell_type": "code",
      "source": [
        "def mostrarTablas():\n",
        "    import csv\n",
        "    # se pide ingresar la opcion a visualizar, para clientes 1, para pedidos 2\n",
        "    n=int(input('si desea ver los Clientes ingrese 1, si desea ver los Pedidos ingrese 2: '))\n",
        "    if n==1:\n",
        "        ruta = './clientesDB.csv'\n",
        "    elif n==2:\n",
        "        ruta = './pedidosDB.csv'\n",
        "    else:\n",
        "        print(\"ingrese una opcion valida\")\n",
        "    with open(ruta, newline='') as csvfile:\n",
        "        reader = csv.reader(csvfile, delimiter=',', quotechar='\"')\n",
        "        for row in reader:\n",
        "            print(', '.join(row))\n"
      ],
      "metadata": {
        "id": "7fOCEMcp-K4J"
      },
      "execution_count": null,
      "outputs": []
    },
    {
      "cell_type": "markdown",
      "source": [
        "## Buscar Pedido según Razón Social"
      ],
      "metadata": {
        "id": "7BiAdzheuJ6c"
      }
    },
    {
      "cell_type": "code",
      "source": [
        "def buscarPedido():\n",
        "\n",
        "    claveBusqueda = input(\"Ingrese la Razón Social: \") \n",
        "    with open(clientesPath, mode='r') as csv_file:\n",
        "      csv_reader = csv.DictReader(csv_file)\n",
        "      for row in csv_reader:\n",
        "          if row['razon_social'] == claveBusqueda:\n",
        "            datoBusqueda = row['idClient']\n",
        "\n",
        "    devuelvePedido(datoBusqueda)\n",
        "    "
      ],
      "metadata": {
        "id": "qMNCvi1huJoM"
      },
      "execution_count": null,
      "outputs": []
    },
    {
      "cell_type": "code",
      "source": [
        "def devuelvePedido(datoBusqueda):            \n",
        "    with open(pedidosPath, mode='r') as csv_file:\n",
        "        csv_reader = csv.DictReader(csv_file)\n",
        "        \n",
        "        for row in csv_reader:\n",
        "            if row['idPedido'] == datoBusqueda:\n",
        "                print(f'El producto es {row[\"producto\"]}, cantidad: {row[\"cantidad\"]}')\n"
      ],
      "metadata": {
        "id": "8SonIb_WvmfA"
      },
      "execution_count": null,
      "outputs": []
    },
    {
      "cell_type": "markdown",
      "source": [
        "## Función `main()`\n",
        "\n",
        "Permite que usuario ingrese la opción para agregar cliente, pedido o ver resultado de búsqueda por cliente / pedido.\n",
        "\n",
        "\n"
      ],
      "metadata": {
        "id": "ZufcBB1JWn_w"
      }
    },
    {
      "cell_type": "code",
      "source": [
        "def main():\n",
        "    while True:\n",
        "        userInput = input(\"ingrese c para cargar cliente, p para cargar pedido, vc para ver el data de cliente o vp para ver data de pedidos\")\n",
        "        if( userInput == 'c'):\n",
        "                cliente = cargaClientes()\n",
        "                escribirDict(clientesPath,cliente,fieldnamesClientes)\n",
        "        elif(userInput == 'p'):\n",
        "            pedido = cargaPedido()\n",
        "            escribirDict(pedidosPath,pedido,fieldnamesPedidos)\n",
        "        elif(userInput == 'vc'):\n",
        "            pedido = buscarCliente()\n",
        "        elif(userInput == 'vp'):\n",
        "            pedido = buscarPedido()\n",
        "        else:\n",
        "            break"
      ],
      "metadata": {
        "id": "2vO7bvTuWnt5"
      },
      "execution_count": null,
      "outputs": []
    },
    {
      "cell_type": "code",
      "source": [
        "import csv\n",
        "def creaDictCliente():\n",
        "\n",
        "  dic = {}\n",
        "  dic_data = {}\n",
        "  with open('/content/sample_data/clientesDB.csv', mode='r', encoding=\"utf8\", errors='ignore') as csv_file:\n",
        "      csv_reader = csv.DictReader(csv_file)\n",
        "      for row in csv_reader:\n",
        "          idCliente = row ['idCliente'] #Obtenemos el legajo y lo utilizamos como Key del diccionario padre\n",
        "          # Tomamos los siguientes datos y los guardamos en diferentes variables\n",
        "          razon_social = row[\"razon_social\"]\n",
        "          cuit = row [\"cuit\"]\n",
        "          direccion = row [\"direccion\"]\n",
        "          localidad = row['localidad']\n",
        "\n",
        "          dic_datos = {'razon_social':razon_social,\n",
        "                'cuit':cuit,\n",
        "                'direccion':direccion,\n",
        "                'localidad': localidad\n",
        "                }\n",
        "          # Creamos el diccionario completo con el legajo como Key\n",
        "          dic[idCliente] = dic_datos\n",
        "  return dic\n",
        "\n"
      ],
      "metadata": {
        "id": "1EXIAEEo-9UO"
      },
      "execution_count": 7,
      "outputs": []
    },
    {
      "cell_type": "code",
      "source": [
        "dic_cliente = creaDictCliente()\n",
        "dic_cliente"
      ],
      "metadata": {
        "colab": {
          "base_uri": "https://localhost:8080/"
        },
        "id": "eBhq-Mi0Bb24",
        "outputId": "3879b125-9950-4c96-effc-c613f88d2da0"
      },
      "execution_count": 8,
      "outputs": [
        {
          "output_type": "execute_result",
          "data": {
            "text/plain": [
              "{'1': {'cuit': '11223334445',\n",
              "  'direccion': 'Benavidez',\n",
              "  'localidad': 'PBA',\n",
              "  'razon_social': 'Walmart'},\n",
              " '10': {'cuit': '78754232569',\n",
              "  'direccion': 'Liniers',\n",
              "  'localidad': 'CABA',\n",
              "  'razon_social': 'Office Depot'},\n",
              " '2': {'cuit': '28769696366',\n",
              "  'direccion': 'Congreso',\n",
              "  'localidad': 'CABA',\n",
              "  'razon_social': 'Jumbo'},\n",
              " '3': {'cuit': '23567776654',\n",
              "  'direccion': 'Villa Ballester',\n",
              "  'localidad': 'CABA',\n",
              "  'razon_social': 'Casa Tia'},\n",
              " '4': {'cuit': '67676544347',\n",
              "  'direccion': 'Florida',\n",
              "  'localidad': 'PBA',\n",
              "  'razon_social': 'Disco'},\n",
              " '5': {'cuit': '22334567797',\n",
              "  'direccion': 'Ensenada',\n",
              "  'localidad': 'PBA',\n",
              "  'razon_social': 'Chango Mas'},\n",
              " '6': {'cuit': '56654345684',\n",
              "  'direccion': 'Tigre',\n",
              "  'localidad': 'PBA',\n",
              "  'razon_social': 'Vea'},\n",
              " '7': {'cuit': '77865677652',\n",
              "  'direccion': 'Villa Luro',\n",
              "  'localidad': 'CABA',\n",
              "  'razon_social': 'Easy'},\n",
              " '8': {'cuit': '66764543464',\n",
              "  'direccion': 'Lugano',\n",
              "  'localidad': 'CABA',\n",
              "  'razon_social': 'Sodimac'},\n",
              " '9': {'cuit': '55789899222',\n",
              "  'direccion': 'Mataderos',\n",
              "  'localidad': 'PBA',\n",
              "  'razon_social': 'Home Depot'}}"
            ]
          },
          "metadata": {},
          "execution_count": 8
        }
      ]
    },
    {
      "cell_type": "code",
      "source": [
        "def creaDictPedido():\n",
        "\n",
        "  dic = {}\n",
        "  dic_data = {}\n",
        "  with open('/content/sample_data/pedidosDB.csv', mode='r', encoding=\"utf8\", errors='ignore') as csv_file:\n",
        "      csv_reader = csv.DictReader(csv_file)\n",
        "      for row in csv_reader:\n",
        "          idPedido = row ['idPedido'] #Obtenemos el legajo y lo utilizamos como Key del diccionario padre\n",
        "          # Tomamos los siguientes datos y los guardamos en diferentes variables\n",
        "          idCliente = row[\"idCliente\"]\n",
        "          producto = row [\"producto\"]\n",
        "          cantidad = row [\"cantidad\"]\n",
        "\n",
        "          dic_datos = {'idCliente':idCliente,\n",
        "                'producto':producto,\n",
        "                'cantidad':cantidad\n",
        "                }\n",
        "          # Creamos el diccionario completo con el legajo como Key\n",
        "          dic[idPedido] = dic_datos\n",
        "  return dic\n"
      ],
      "metadata": {
        "id": "poGeYY6vBol3"
      },
      "execution_count": null,
      "outputs": []
    },
    {
      "cell_type": "code",
      "source": [
        "dic_pedido = creaDictPedido()\n",
        "dic_pedido"
      ],
      "metadata": {
        "colab": {
          "base_uri": "https://localhost:8080/"
        },
        "id": "zryuIQUrCMVy",
        "outputId": "85f6d264-6e75-4def-fb28-0384dafb9437"
      },
      "execution_count": null,
      "outputs": [
        {
          "output_type": "execute_result",
          "data": {
            "text/plain": [
              "{'1': {'cantidad': '2', 'idCliente': '1', 'producto': 'papa'},\n",
              " '10': {'cantidad': '6', 'idCliente': '7', 'producto': 'tornillos'},\n",
              " '11': {'cantidad': '7', 'idCliente': '4', 'producto': 'remolacha'},\n",
              " '12': {'cantidad': '2', 'idCliente': '3', 'producto': 'remolacha'},\n",
              " '13': {'cantidad': '3', 'idCliente': '4', 'producto': 'uva'},\n",
              " '14': {'cantidad': '5', 'idCliente': '5', 'producto': 'tomate'},\n",
              " '15': {'cantidad': '2', 'idCliente': '7', 'producto': 'notebook'},\n",
              " '16': {'cantidad': '3', 'idCliente': '8', 'producto': 'mouse'},\n",
              " '17': {'cantidad': '4', 'idCliente': '4', 'producto': 'papa'},\n",
              " '18': {'cantidad': '5', 'idCliente': '3', 'producto': 'batata'},\n",
              " '19': {'cantidad': '4', 'idCliente': '4', 'producto': 'batata'},\n",
              " '2': {'cantidad': '3', 'idCliente': '1', 'producto': 'tomate'},\n",
              " '20': {'cantidad': '5', 'idCliente': '5', 'producto': 'uva'},\n",
              " '21': {'cantidad': '6', 'idCliente': '7', 'producto': 'mouse'},\n",
              " '22': {'cantidad': '7', 'idCliente': '8', 'producto': 'lcd'},\n",
              " '23': {'cantidad': '2', 'idCliente': '9', 'producto': 'mouse'},\n",
              " '24': {'cantidad': '3', 'idCliente': '5', 'producto': 'cebolla'},\n",
              " '25': {'cantidad': '5', 'idCliente': '5', 'producto': 'aji'},\n",
              " '26': {'cantidad': '2', 'idCliente': '4', 'producto': 'aji'},\n",
              " '27': {'cantidad': '3', 'idCliente': '3', 'producto': 'aji'},\n",
              " '28': {'cantidad': '4', 'idCliente': '2', 'producto': 'aji'},\n",
              " '29': {'cantidad': '5', 'idCliente': '2', 'producto': 'remolacha'},\n",
              " '3': {'cantidad': '5', 'idCliente': '2', 'producto': 'cajas'},\n",
              " '30': {'cantidad': '4', 'idCliente': '1', 'producto': 'remolacha'},\n",
              " '31': {'cantidad': '5', 'idCliente': '1', 'producto': 'uva'},\n",
              " '32': {'cantidad': '6', 'idCliente': '2', 'producto': 'ajo'},\n",
              " '33': {'cantidad': '7', 'idCliente': '3', 'producto': 'ajo'},\n",
              " '34': {'cantidad': '2', 'idCliente': '4', 'producto': 'ajo'},\n",
              " '35': {'cantidad': '3', 'idCliente': '5', 'producto': 'ajo'},\n",
              " '36': {'cantidad': '5', 'idCliente': '6', 'producto': 'ajo'},\n",
              " '37': {'cantidad': '2', 'idCliente': '6', 'producto': 'papa'},\n",
              " '38': {'cantidad': '3', 'idCliente': '7', 'producto': 'hdmi'},\n",
              " '39': {'cantidad': '4', 'idCliente': '10', 'producto': 'notebook'},\n",
              " '4': {'cantidad': '2', 'idCliente': '2', 'producto': 'lechuga'},\n",
              " '40': {'cantidad': '5', 'idCliente': '10', 'producto': 'mouse'},\n",
              " '41': {'cantidad': '4', 'idCliente': '10', 'producto': 'lcd'},\n",
              " '42': {'cantidad': '5', 'idCliente': '2', 'producto': 'esparragos'},\n",
              " '43': {'cantidad': '6', 'idCliente': '3', 'producto': 'esparragos'},\n",
              " '44': {'cantidad': '7', 'idCliente': '4', 'producto': 'hongos'},\n",
              " '45': {'cantidad': '2', 'idCliente': '5', 'producto': 'hongos'},\n",
              " '46': {'cantidad': '3', 'idCliente': '6', 'producto': 'hongos'},\n",
              " '47': {'cantidad': '5', 'idCliente': '8', 'producto': 'hdmi'},\n",
              " '48': {'cantidad': '2', 'idCliente': '9', 'producto': 'celular'},\n",
              " '49': {'cantidad': '3', 'idCliente': '9', 'producto': 'tornillos'},\n",
              " '5': {'cantidad': '3', 'idCliente': '3', 'producto': 'cebolla'},\n",
              " '50': {'cantidad': '4', 'idCliente': '6', 'producto': 'pepino'},\n",
              " '51': {'cantidad': '5', 'idCliente': '3', 'producto': 'pepino'},\n",
              " '52': {'cantidad': '4', 'idCliente': '2', 'producto': 'hongos'},\n",
              " '53': {'cantidad': '5', 'idCliente': '2', 'producto': 'mandarina'},\n",
              " '54': {'cantidad': '6', 'idCliente': '3', 'producto': 'mandarina'},\n",
              " '55': {'cantidad': '7', 'idCliente': '10', 'producto': 'celular'},\n",
              " '56': {'cantidad': '2', 'idCliente': '10', 'producto': 'hdmi'},\n",
              " '57': {'cantidad': '3', 'idCliente': '1', 'producto': 'pepino'},\n",
              " '58': {'cantidad': '5', 'idCliente': '2', 'producto': 'pepino'},\n",
              " '59': {'cantidad': '2', 'idCliente': '4', 'producto': 'pepino'},\n",
              " '6': {'cantidad': '4', 'idCliente': '4', 'producto': 'tomate'},\n",
              " '60': {'cantidad': '3', 'idCliente': '5', 'producto': 'pepino'},\n",
              " '61': {'cantidad': '4', 'idCliente': '7', 'producto': 'celular'},\n",
              " '62': {'cantidad': '5', 'idCliente': '5', 'producto': 'mandarina'},\n",
              " '63': {'cantidad': '4', 'idCliente': '7', 'producto': 'arandelas'},\n",
              " '64': {'cantidad': '5', 'idCliente': '8', 'producto': 'celular'},\n",
              " '7': {'cantidad': '5', 'idCliente': '3', 'producto': 'papa'},\n",
              " '8': {'cantidad': '4', 'idCliente': '4', 'producto': 'esparragos'},\n",
              " '9': {'cantidad': '5', 'idCliente': '5', 'producto': 'verdeo'}}"
            ]
          },
          "metadata": {},
          "execution_count": 27
        }
      ]
    },
    {
      "cell_type": "markdown",
      "source": [
        "# Templates de Gráficos"
      ],
      "metadata": {
        "id": "05JRxs7CFjRR"
      }
    },
    {
      "cell_type": "code",
      "source": [
        "import matplotlib.pyplot as plt\n",
        "fig = plt.figure()\n",
        "ax = fig.subplots()\n",
        "dias = ['L', 'M', 'X', 'J', 'V', 'S', 'D']\n",
        "temperaturas = {'Madrid':[28.5, 30.5, 31, 30, 28, 27.5, 30.5], 'Barcelona':[24.5, 25.5, 26.5, 25, 26.5, 24.5, 25]}\n",
        "ax.plot(dias, temperaturas['Madrid'], label = 'Madrid')\n",
        "ax.plot(dias, temperaturas['Barcelona'], label = 'Barcelona')\n",
        "ax.set_title('Evolución de la temperatura diaria', loc = \"center\", fontdict = {'fontsize':14, 'fontweight':'bold', 'color':'tab:blue'})\n",
        "ax.legend(loc = 'upper right')\n",
        "plt.show()"
      ],
      "metadata": {
        "id": "Vzn81c1_CaVI",
        "colab": {
          "base_uri": "https://localhost:8080/",
          "height": 283
        },
        "outputId": "445fa598-81c0-43f7-b686-9e6ffbaf293a"
      },
      "execution_count": 1,
      "outputs": [
        {
          "output_type": "display_data",
          "data": {
            "text/plain": [
              "<Figure size 432x288 with 1 Axes>"
            ],
            "image/png": "[encoded data removed]"
          },
          "metadata": {
            "needs_background": "light"
          }
        }
      ]
    },
    {
      "cell_type": "code",
      "source": [
        "import matplotlib.pyplot as plt\n",
        "fig = plt.figure()\n",
        "ax = fig.subplots(2, 2, sharey = True)\n",
        "dias = ['L', 'M', 'X', 'J', 'V', 'S', 'D']\n",
        "temperaturas = {'Madrid':[28.5, 30.5, 31, 30, 28, 27.5, 30.5], 'Barcelona':[24.5, 25.5, 26.5, 25, 26.5, 24.5, 25]}\n",
        "ax[0, 0].plot(dias, temperaturas['Madrid'])\n",
        "ax[0, 1].plot(dias, temperaturas['Barcelona'], color = 'tab:orange')\n",
        "ax[1, 0].bar(dias, temperaturas['Madrid'])\n",
        "ax[1, 1].bar(dias, temperaturas['Barcelona'], color = 'tab:orange')\n",
        "plt.show()"
      ],
      "metadata": {
        "colab": {
          "base_uri": "https://localhost:8080/",
          "height": 265
        },
        "id": "bDz98m7IGiEz",
        "outputId": "d39432a2-66ad-4113-addd-7c26051a63da"
      },
      "execution_count": 2,
      "outputs": [
        {
          "output_type": "display_data",
          "data": {
            "text/plain": [
              "<Figure size 432x288 with 4 Axes>"
            ],
            "image/png": "[encoded data removed]"
          },
          "metadata": {
            "needs_background": "light"
          }
        }
      ]
    }
  ],
  "metadata": {
    "colab": {
      "collapsed_sections": [],
      "name": "Dciccionarios TP Gráficos Matplotlib.ipynb",
      "provenance": [],
      "include_colab_link": true
    },
    "kernelspec": {
      "display_name": "Python 3",
      "name": "python3"
    },
    "language_info": {
      "name": "python"
    }
  },
  "nbformat": 4,
  "nbformat_minor": 0
}