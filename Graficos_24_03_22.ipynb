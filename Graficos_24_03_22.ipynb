{
  "nbformat": 4,
  "nbformat_minor": 0,
  "metadata": {
    "colab": {
      "name": "Graficos 24-03-22.ipynb",
      "provenance": [],
      "collapsed_sections": [],
      "authorship_tag": "ABX9TyNY7oMkO8HQelNywcwPxriz",
      "include_colab_link": true
    },
    "kernelspec": {
      "name": "python3",
      "display_name": "Python 3"
    },
    "language_info": {
      "name": "python"
    }
  },
  "cells": [
    {
      "cell_type": "markdown",
      "metadata": {
        "id": "view-in-github",
        "colab_type": "text"
      },
      "source": [
        "<a href=\"https://colab.research.google.com/github/ri1965/Toolkits/blob/main/Graficos_24_03_22.ipynb\" target=\"_parent\"><img src=\"https://colab.research.google.com/assets/colab-badge.svg\" alt=\"Open In Colab\"/></a>"
      ]
    },
    {
      "cell_type": "markdown",
      "source": [
        "# TP de Gráficos basados en el diccionario de Clientes / Pedidos\n",
        "\n",
        "A los fines de practicidad se predefinen los diccionarios de Clientes y pedidos. "
      ],
      "metadata": {
        "id": "zDy8Z_jIiP1F"
      }
    },
    {
      "cell_type": "markdown",
      "source": [
        "`dic_pedido` Es el diccionario de **Clientes** que posee las siguientes variables:\n",
        "- `id_Cliente`\n",
        "  - `cuit`\n",
        "  - `direccion`\n",
        "  - `localidad`\n",
        "  - `razon_social`"
      ],
      "metadata": {
        "id": "hCbx6RfCiPPi"
      }
    },
    {
      "cell_type": "code",
      "source": [
        "dic_cliente = {'1': {'cuit': '11223334445',\n",
        "  'direccion': 'Benavidez',\n",
        "  'localidad': 'pba',\n",
        "  'razon_social': 'Walmart'},\n",
        " '10': {'cuit': '78754232569',\n",
        "  'direccion': 'Liniers',\n",
        "  'localidad': 'caba',\n",
        "  'razon_social': 'Office Depot'},\n",
        " '2': {'cuit': '28769696366',\n",
        "  'direccion': 'Congreso',\n",
        "  'localidad': 'caba',\n",
        "  'razon_social': 'Jumbo'},\n",
        " '3': {'cuit': '23567776654',\n",
        "  'direccion': 'Villa Ballester',\n",
        "  'localidad': 'caba',\n",
        "  'razon_social': 'Casa Tia'},\n",
        " '4': {'cuit': '67676544347',\n",
        "  'direccion': 'Florida',\n",
        "  'localidad': 'pba',\n",
        "  'razon_social': 'Disco'},\n",
        " '5': {'cuit': '22334567797',\n",
        "  'direccion': 'Ensenada',\n",
        "  'localidad': 'pba',\n",
        "  'razon_social': 'Chango Mas'},\n",
        " '6': {'cuit': '56654345684',\n",
        "  'direccion': 'Tigre',\n",
        "  'localidad': 'pba',\n",
        "  'razon_social': 'Vea'},\n",
        " '7': {'cuit': '77865677652',\n",
        "  'direccion': 'Villa Luro',\n",
        "  'localidad': 'caba',\n",
        "  'razon_social': 'Easy'},\n",
        " '8': {'cuit': '66764543464',\n",
        "  'direccion': 'Lugano',\n",
        "  'localidad': 'caba',\n",
        "  'razon_social': 'Sodimac'},\n",
        " '9': {'cuit': '55789899222',\n",
        "  'direccion': 'Mataderos',\n",
        "  'localidad': 'pba',\n",
        "  'razon_social': 'Home Depot'}}"
      ],
      "metadata": {
        "id": "608vcHeFh703"
      },
      "execution_count": 2,
      "outputs": []
    },
    {
      "cell_type": "markdown",
      "source": [
        "`dic_pedido` Es el diccionario de **Pedidos** que posee las siguientes variables:\n",
        "\n",
        "- `id_Pedidos`\n",
        "    - `cantidad`\n",
        "    - `idCliente`\n",
        "    - `producto`"
      ],
      "metadata": {
        "id": "D7yGHehijPEX"
      }
    },
    {
      "cell_type": "code",
      "execution_count": 1,
      "metadata": {
        "id": "pY2tS53Whqqj"
      },
      "outputs": [],
      "source": [
        "dic_pedido = {'1': {'cantidad': '2', 'idCliente': '1', 'producto': 'papa'},\n",
        " '10': {'cantidad': '6', 'idCliente': '7', 'producto': 'tornillos'},\n",
        " '11': {'cantidad': '7', 'idCliente': '4', 'producto': 'remolacha'},\n",
        " '12': {'cantidad': '2', 'idCliente': '3', 'producto': 'remolacha'},\n",
        " '13': {'cantidad': '3', 'idCliente': '4', 'producto': 'uva'},\n",
        " '14': {'cantidad': '5', 'idCliente': '5', 'producto': 'tomate'},\n",
        " '15': {'cantidad': '2', 'idCliente': '7', 'producto': 'notebook'},\n",
        " '16': {'cantidad': '3', 'idCliente': '8', 'producto': 'mouse'},\n",
        " '17': {'cantidad': '4', 'idCliente': '4', 'producto': 'papa'},\n",
        " '18': {'cantidad': '5', 'idCliente': '3', 'producto': 'batata'},\n",
        " '19': {'cantidad': '4', 'idCliente': '4', 'producto': 'batata'},\n",
        " '2': {'cantidad': '3', 'idCliente': '1', 'producto': 'tomate'},\n",
        " '20': {'cantidad': '5', 'idCliente': '5', 'producto': 'uva'},\n",
        " '21': {'cantidad': '6', 'idCliente': '7', 'producto': 'mouse'},\n",
        " '22': {'cantidad': '7', 'idCliente': '8', 'producto': 'lcd'},\n",
        " '23': {'cantidad': '2', 'idCliente': '9', 'producto': 'mouse'},\n",
        " '24': {'cantidad': '3', 'idCliente': '5', 'producto': 'cebolla'},\n",
        " '25': {'cantidad': '5', 'idCliente': '5', 'producto': 'aji'},\n",
        " '26': {'cantidad': '2', 'idCliente': '4', 'producto': 'aji'},\n",
        " '27': {'cantidad': '3', 'idCliente': '3', 'producto': 'aji'},\n",
        " '28': {'cantidad': '4', 'idCliente': '2', 'producto': 'aji'},\n",
        " '29': {'cantidad': '5', 'idCliente': '2', 'producto': 'remolacha'},\n",
        " '3': {'cantidad': '5', 'idCliente': '2', 'producto': 'cajas'},\n",
        " '30': {'cantidad': '4', 'idCliente': '1', 'producto': 'remolacha'},\n",
        " '31': {'cantidad': '5', 'idCliente': '1', 'producto': 'uva'},\n",
        " '32': {'cantidad': '6', 'idCliente': '2', 'producto': 'ajo'},\n",
        " '33': {'cantidad': '7', 'idCliente': '3', 'producto': 'ajo'},\n",
        " '34': {'cantidad': '2', 'idCliente': '4', 'producto': 'ajo'},\n",
        " '35': {'cantidad': '3', 'idCliente': '5', 'producto': 'ajo'},\n",
        " '36': {'cantidad': '5', 'idCliente': '6', 'producto': 'ajo'},\n",
        " '37': {'cantidad': '2', 'idCliente': '6', 'producto': 'papa'},\n",
        " '38': {'cantidad': '3', 'idCliente': '7', 'producto': 'hdmi'},\n",
        " '39': {'cantidad': '4', 'idCliente': '10', 'producto': 'notebook'},\n",
        " '4': {'cantidad': '2', 'idCliente': '2', 'producto': 'lechuga'},\n",
        " '40': {'cantidad': '5', 'idCliente': '10', 'producto': 'mouse'},\n",
        " '41': {'cantidad': '4', 'idCliente': '10', 'producto': 'lcd'},\n",
        " '42': {'cantidad': '5', 'idCliente': '2', 'producto': 'esparragos'},\n",
        " '43': {'cantidad': '6', 'idCliente': '3', 'producto': 'esparragos'},\n",
        " '44': {'cantidad': '7', 'idCliente': '4', 'producto': 'hongos'},\n",
        " '45': {'cantidad': '2', 'idCliente': '5', 'producto': 'hongos'},\n",
        " '46': {'cantidad': '3', 'idCliente': '6', 'producto': 'hongos'},\n",
        " '47': {'cantidad': '5', 'idCliente': '8', 'producto': 'hdmi'},\n",
        " '48': {'cantidad': '2', 'idCliente': '9', 'producto': 'celular'},\n",
        " '49': {'cantidad': '3', 'idCliente': '9', 'producto': 'tornillos'},\n",
        " '5': {'cantidad': '3', 'idCliente': '3', 'producto': 'cebolla'},\n",
        " '50': {'cantidad': '4', 'idCliente': '6', 'producto': 'pepino'},\n",
        " '51': {'cantidad': '5', 'idCliente': '3', 'producto': 'pepino'},\n",
        " '52': {'cantidad': '4', 'idCliente': '2', 'producto': 'hongos'},\n",
        " '53': {'cantidad': '5', 'idCliente': '2', 'producto': 'mandarina'},\n",
        " '54': {'cantidad': '6', 'idCliente': '3', 'producto': 'mandarina'},\n",
        " '55': {'cantidad': '7', 'idCliente': '10', 'producto': 'celular'},\n",
        " '56': {'cantidad': '2', 'idCliente': '10', 'producto': 'hdmi'},\n",
        " '57': {'cantidad': '3', 'idCliente': '1', 'producto': 'pepino'},\n",
        " '58': {'cantidad': '5', 'idCliente': '2', 'producto': 'pepino'},\n",
        " '59': {'cantidad': '2', 'idCliente': '4', 'producto': 'pepino'},\n",
        " '6': {'cantidad': '4', 'idCliente': '4', 'producto': 'tomate'},\n",
        " '60': {'cantidad': '3', 'idCliente': '5', 'producto': 'pepino'},\n",
        " '61': {'cantidad': '4', 'idCliente': '7', 'producto': 'celular'},\n",
        " '62': {'cantidad': '5', 'idCliente': '5', 'producto': 'mandarina'},\n",
        " '63': {'cantidad': '4', 'idCliente': '7', 'producto': 'arandelas'},\n",
        " '64': {'cantidad': '5', 'idCliente': '8', 'producto': 'celular'},\n",
        " '7': {'cantidad': '5', 'idCliente': '3', 'producto': 'papa'},\n",
        " '8': {'cantidad': '4', 'idCliente': '4', 'producto': 'esparragos'},\n",
        " '9': {'cantidad': '5', 'idCliente': '5', 'producto': 'verdeo'}}\n"
      ]
    },
    {
      "cell_type": "markdown",
      "source": [
        "# Preparado de los datos para poder trabajar en los gráficos\n",
        "\n",
        "## Paso 1: Creación de listas para las distintas variables \n",
        "\n",
        "- El `for v in dic_pedido.values():` recorre los valores del diccionario de clientes `dic_cliente`\n",
        "- Se lo pasa a una variable `id_cliente`\n",
        "- Ahora busca en el diccionario de pedidos `dic_pedidos`si está entres las keys\n",
        "- Si está usa ese id_cliente como clave de ¡l diccionario de pedido y agrega en la lista correspondiente el valor del campo buscado (por ejemplo 'razon_social'\n",
        "-  'cantidad' en realidad es un string con lo cual se lo convierte a int"
      ],
      "metadata": {
        "id": "FD1bu9OejtHu"
      }
    },
    {
      "cell_type": "code",
      "source": [
        "razon_social_lista = []\n",
        "direccion_lista = []\n",
        "localidad_lista = []\n",
        "producto_lista = []\n",
        "cantidad_lista = []\n",
        "\n",
        "\n",
        "\n",
        "for v in dic_pedido.values():\n",
        "  id_cliente = v['idCliente']\n",
        "  if id_cliente in dic_cliente.keys():\n",
        "    razon_social_lista.append(dic_cliente[id_cliente]['razon_social'])\n",
        "    direccion_lista.append(dic_cliente[id_cliente]['direccion'])\n",
        "    localidad_lista.append(dic_cliente[id_cliente]['localidad'])\n",
        "    producto_lista.append(v['producto'])\n",
        "    cantidad_lista.append(int(v['cantidad']))\n"
      ],
      "metadata": {
        "id": "xu311ftih-EU"
      },
      "execution_count": 4,
      "outputs": []
    },
    {
      "cell_type": "markdown",
      "source": [
        "Vemos e¡que en la lista `razon_social_lista` hay tantos elementos como los que tiene el diccionaro **Pedidos**"
      ],
      "metadata": {
        "id": "vdUdrhHYlkKZ"
      }
    },
    {
      "cell_type": "code",
      "source": [
        "razon_social_lista"
      ],
      "metadata": {
        "id": "jj1wyoSflZBc"
      },
      "execution_count": null,
      "outputs": []
    },
    {
      "cell_type": "markdown",
      "source": [
        "## Paso 2: Creamos un nuevo diccionario que contenga las distintas listas creadas en el punto anterior\n",
        "\n",
        "Cada lista tiene la cantidad de elementos del diccionario **Pedidos** (en este caso 64 entradas)"
      ],
      "metadata": {
        "id": "sWQMgiSnlCON"
      }
    },
    {
      "cell_type": "code",
      "source": [
        "dic_graf = {\n",
        "    'razon_social' : razon_social_lista,\n",
        "    'direccion' : direccion_lista,\n",
        "    'localidad' : localidad_lista,\n",
        "    'producto' : producto_lista,\n",
        "    'cantidad' : cantidad_lista\n",
        "}\n"
      ],
      "metadata": {
        "id": "D3w2TMmsiE7U"
      },
      "execution_count": 7,
      "outputs": []
    },
    {
      "cell_type": "markdown",
      "source": [
        "## Paso 3: Preparamos los datos para luego generar el gráfico: Barras\n",
        "\n",
        "- Eje x vamos a trabajar con las razones sociales, como en la lista hay varias veces repetida la razón social se crea con `list` aplicando la función `set` valores únicos de `dic_graf['razon_social']`\n",
        "\n",
        "- Eje y vamos a tomar el valor numérico representado por `cantidad`\n",
        "  - En este caso el valor `cantidad` es una suma de las distintas cantidades de una razón social determinada (por ejemplo todos los productos adquiridos por 'Easy') \n",
        "  - 1º  `for i in r_social_lista:` recorre la lista de las razones socieles únicas\n",
        "  - 2º el objetivo es obtener la razón social en en el `dic_graf`, \n",
        "    - eso es el `for j in dic_graf['razon_social']:`  \n",
        "    - se crean dos contadores\n",
        "      - cont = 0 representa las distintas tosociones en el que 'Easy' puede estar en el `dic_graf['razon_social']`\n",
        "      - suma = 0 es el contenedor de la suma la 'cantidad' para esa razón social, por eso está contenido en el `if i == j:`\n",
        "      - por cada pasada del `for j in dic_graf['razon_social']:` le suma 1 al cont\n",
        "      - luego la suma la agrega como elemento a la lista `lista_rs_cantidad` respetando la posición `r_social_lista`\n",
        "  - al final ambas listas van a tener el mismo número de elementos con los mismo índices\n",
        "\n"
      ],
      "metadata": {
        "id": "uJNAVReGlzkr"
      }
    },
    {
      "cell_type": "code",
      "source": [
        "r_social_lista = list(set(dic_graf['razon_social']))\n",
        "lista_rs_cantidad = []\n",
        "\n",
        "for i in r_social_lista:\n",
        "  print(i)\n",
        "  cont = 0\n",
        "  suma = 0 \n",
        "  for j in dic_graf['razon_social']:\n",
        "    if i == j:\n",
        "      suma += dic_graf['cantidad'][cont]\n",
        "    cont += 1  \n",
        "  lista_rs_cantidad.append(suma)\n",
        "  print(suma)  \n",
        "  print('-'*50)\n",
        "print(r_social_lista)\n",
        "print(lista_rs_cantidad)\n"
      ],
      "metadata": {
        "id": "x1QXeQkMiJLq"
      },
      "execution_count": null,
      "outputs": []
    },
    {
      "cell_type": "markdown",
      "source": [
        "### Paso 3b: Generamos el gráfico con .plt"
      ],
      "metadata": {
        "id": "_t3SW4L9yiKT"
      }
    },
    {
      "cell_type": "code",
      "source": [
        "import matplotlib.pyplot as plt\n",
        "fig = plt.figure()\n",
        "ax = fig.add_axes([0,0,1,1])  #Establecemos ejes\n",
        "\n",
        "ax.bar(r_social_lista, lista_rs_cantidad) #Establecemos en el eje X a \"Razon Social\" y a Eje Y a \"Cantidad\"\n",
        "plt.xticks(rotation=20)\n",
        "plt.show() #Ploteamos"
      ],
      "metadata": {
        "colab": {
          "base_uri": "https://localhost:8080/",
          "height": 357
        },
        "id": "aHdZSuGBiMCd",
        "outputId": "102d3f6a-49d2-4ec3-8136-c25defbd0498"
      },
      "execution_count": 39,
      "outputs": [
        {
          "output_type": "display_data",
          "data": {
            "text/plain": [
              "<Figure size 432x288 with 1 Axes>"
            ],
            "image/png": "[encoded data removed]"
          },
          "metadata": {
            "needs_background": "light"
          }
        }
      ]
    },
    {
      "cell_type": "markdown",
      "source": [
        "## Paso 4: Preparamos los datos para luego generar el gráfico: Boxplot\n",
        " - Eje x vamos a trabajar con las razones sociales, como en la lista hay varias veces repetida la razón social se crea con list aplicando la función set valores únicos de dic_graf['razon_social']\n",
        "\n",
        " - Eje y vamos a tomar el valor numérico representado por cantidad, pero como variable escalar para poder calcula mediana y RIC\n",
        "\n",
        " - En este caso el valor cantidad por producto se almacena en una lista vacia `lista_cantidad_t` que toma los valores de `cantidad` y los almacena para una razzón social determinada, al final lo agrega a la lista de cantidad pero como lista de esa razón social.\n",
        "\n",
        "\n",
        " - 1º for i in r_social_lista: recorre la lista de las razones socieles únicas\n",
        " - 2º el objetivo es obtener la razón social en en el dic_graf,\n",
        "eso es el for j in dic_graf['razon_social']:\n",
        "se crea un contador `cont = 0` representa las distintas tosociones en el que 'Easy' puede estar en el dic_graf['razon_social']\n",
        "- `lista_cantidad_t = []` es el diccionario que forma las listas por razon social de las cantidades de producto adquiridas y lo termina pasando a `lista_rs_cantidad` por cada pasada del for j in dic_graf['razon_social']: le suma 1 al cont, luego la suma la agrega como elemento a la lista lista_rs_cantidad respetando la posición r_social_lista\n",
        "al final ambas listas van a tener el mismo número de elementos con los mismo índices"
      ],
      "metadata": {
        "id": "jNToVUeQQV0o"
      }
    },
    {
      "cell_type": "code",
      "source": [
        "r_social_lista = list(set(dic_graf['razon_social']))\n",
        "lista_rs_cantidad = []\n",
        "\n",
        "for i in r_social_lista:\n",
        "  #print(i)\n",
        "  cont = 0\n",
        "  lista_cantidad_t = []\n",
        "  for j in dic_graf['razon_social']:\n",
        "    if i == j:\n",
        "      lista_cantidad_t.append(dic_graf['cantidad'][cont])\n",
        "      #print(lista_cantidad_t)\n",
        "      #print(dic_graf['cantidad'][cont])\n",
        "    cont += 1\n",
        "  lista_rs_cantidad.append(lista_cantidad_t)  \n",
        "\n",
        "#print(r_social_lista)\n",
        "print(lista_rs_cantidad)\n"
      ],
      "metadata": {
        "colab": {
          "base_uri": "https://localhost:8080/"
        },
        "id": "JLdkGkQaiNlb",
        "outputId": "1ccb3670-759a-4571-f621-64dcf3f2dc2c"
      },
      "execution_count": 31,
      "outputs": [
        {
          "output_type": "stream",
          "name": "stdout",
          "text": [
            "[[6, 2, 6, 3, 4, 4], [7, 3, 4, 4, 2, 2, 7, 2, 4, 4], [3, 7, 5, 5], [2, 5, 3, 7, 6, 3, 5, 6, 5], [2, 2, 3], [4, 5, 5, 6, 2, 5, 4, 5, 5], [4, 5, 4, 7, 2], [2, 3, 4, 5, 3], [5, 2, 3, 4], [5, 5, 3, 5, 3, 2, 3, 5, 5]]\n"
          ]
        }
      ]
    },
    {
      "cell_type": "markdown",
      "source": [
        "### Paso 3b: Generamos el gráfico con .plt"
      ],
      "metadata": {
        "id": "45wUCnQPWld-"
      }
    },
    {
      "cell_type": "code",
      "source": [
        "fig = plt.figure()\n",
        "ax = fig.add_axes([0,0,1,1])  #Establecemos ejes\n",
        "\n",
        "ax.boxplot(lista_rs_cantidad) #Establecemos en el eje X a \"Razon Social\" y a Eje Y a \"Cantidad\"\n",
        "plt.xticks([1, 2, 3, 4, 5,6,7,8,9,10], r_social_lista, rotation=20)\n",
        "plt.show() #Ploteamos"
      ],
      "metadata": {
        "colab": {
          "base_uri": "https://localhost:8080/",
          "height": 412
        },
        "id": "Vrkfg8DFO-f5",
        "outputId": "03387a78-5f59-41c7-e260-7e06a23126d5"
      },
      "execution_count": 34,
      "outputs": [
        {
          "output_type": "stream",
          "name": "stderr",
          "text": [
            "/usr/local/lib/python3.7/dist-packages/matplotlib/cbook/__init__.py:1376: VisibleDeprecationWarning: Creating an ndarray from ragged nested sequences (which is a list-or-tuple of lists-or-tuples-or ndarrays with different lengths or shapes) is deprecated. If you meant to do this, you must specify 'dtype=object' when creating the ndarray.\n",
            "  X = np.atleast_1d(X.T if isinstance(X, np.ndarray) else np.asarray(X))\n"
          ]
        },
        {
          "output_type": "display_data",
          "data": {
            "text/plain": [
              "<Figure size 432x288 with 1 Axes>"
            ],
            "image/png": "[encoded data removed]"
          },
          "metadata": {
            "needs_background": "light"
          }
        }
      ]
    },
    {
      "cell_type": "markdown",
      "source": [
        ""
      ],
      "metadata": {
        "id": "4XgZXe4UO-M0"
      }
    },
    {
      "cell_type": "markdown",
      "source": [
        ""
      ],
      "metadata": {
        "id": "l7RAuH0pOrVt"
      }
    }
  ]
}